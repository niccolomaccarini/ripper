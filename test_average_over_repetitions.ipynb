{
 "cells": [
  {
   "cell_type": "code",
   "execution_count": 18,
   "id": "0aad3fdc",
   "metadata": {},
   "outputs": [],
   "source": [
    "# Import all the necessary packages\n",
    "\n",
    "import numpy as np\n",
    "import pandas as pd\n",
    "import scipy\n",
    "import uci_dataset as data\n",
    "import random\n",
    "random.seed(10)\n",
    "\n",
    "# The results will depend on the random train-test split, so we average the accuracies over a certain number of repetitions\n",
    "n_rep = 40\n",
    "\n",
    "import wittgenstein3 as lw\n",
    "from sklearn.model_selection import train_test_split\n",
    "from sklearn.metrics import accuracy_score\n",
    "from datetime import datetime"
   ]
  },
  {
   "cell_type": "code",
   "execution_count": 19,
   "id": "a8b87b35",
   "metadata": {},
   "outputs": [],
   "source": [
    "# Define a dictionary with the datasets we want to consider when experimenting\n",
    "# dfs = ..."
   ]
  },
  {
   "cell_type": "code",
   "execution_count": 101,
   "id": "197a62bb",
   "metadata": {},
   "outputs": [],
   "source": [
    "# Dictionary of accuracies of standard RIPPERk on all datasets\n",
    "\n",
    "stand_acc = {'Thyroid': 0.946, 'audiology': 0.9738, 'autism': 0.9968, 'adult': 0.7099, 'arrhythmia': 0.5262}"
   ]
  },
  {
   "cell_type": "code",
   "execution_count": 102,
   "id": "5bb2ec35",
   "metadata": {
    "scrolled": true
   },
   "outputs": [],
   "source": [
    "import numpy as np\n",
    "import time\n",
    "from Helper import LearningCurvePlot, smooth\n",
    "\n",
    "\n",
    "def average_over_repetitions(n_repetitions, df, W, class_feat, pos_class, name_test, verbosity = 0):\n",
    "    acc = np.empty([n_repetitions]) # accuracies array\n",
    "    start = datetime.now()\n",
    "    start2 = time.time()\n",
    "    \n",
    "    for i in range(n_repetitions):\n",
    "        X_train, X_test = train_test_split(df, test_size = 0.2)\n",
    "        ripper_clf = lw.RIPPER(k=2, verbosity = verbosity, W = W)\n",
    "        ripper_clf.fit(X_train, class_feat = class_feat, pos_class = pos_class)\n",
    "        y_test = X_test[pos_class]\n",
    "        score = ripper_clf.score(X_test, y_test)\n",
    "        acc += [score]\n",
    "        \n",
    "    # Save results to a text file\n",
    "    np.savetxt('Results/' + name_test + '_W' + str(W) + '_time' + start.strftime(\"%d-%m-%Y_%H.%M.%S\"),acc,delimiter = ',')\n",
    "    \n",
    "    print('Running one setting takes {} minutes'.format((time.time()-start2)/60))\n",
    "    learning_curve = np.mean(acc) # average over repetitions\n",
    "    return learning_curve, acc\n",
    "\n",
    "def experiment(n_repetitions, DFs, verbosity = 0, Ws = np.arange(0,1,0.01)):\n",
    "    ####### Settings\n",
    "    # Experiment    \n",
    "    # Here DFs should be a dataframe with columns:\n",
    "    #        data: containing the keys to a dictionary of dataframes\n",
    "    #        class_feat: containing the class feature for each dataset\n",
    "    #        pos_class: containing the name of the positive class\n",
    "    \n",
    "    # Plotting parameters\n",
    "    plot = True\n",
    "    \n",
    "    ####### Experiments\n",
    "    \n",
    "    #Plot1 = LearningCurvePlot(title = labels[problem] + ' problem solved with ' + labels[method])\n",
    "    \n",
    "    for name_test in DFs['tests']:\n",
    "        Plot1 = LearningCurvePlot(title = name_test)\n",
    "        Plot1.add_hline(stand_acc[name_test], 'standard' + name_test)\n",
    "        class_feat = DFs['class'][DFs.tests == name_test][0]\n",
    "        pos_class = DFs['pos'][DFs.tests == name_test][0]\n",
    "        \n",
    "        for W in Ws:\n",
    "            learning_curve, _ = average_over_repetitions(n_repetitions, dfs[name_test], W,\n",
    "                                                            class_feat, pos_class, name_test, verbosity)\n",
    "            Plot1.add_curve(learning_curve,label = name_test + str(W))\n",
    "    Plot1.save(name_test + '_' + labels[problem] + '.png')"
   ]
  },
  {
   "cell_type": "markdown",
   "id": "75315a71",
   "metadata": {},
   "source": [
    "Now let's rerun the previous tests by looking at all the possible values of W."
   ]
  },
  {
   "cell_type": "markdown",
   "id": "97cf3f80",
   "metadata": {},
   "source": [
    "# Thyroid dataset"
   ]
  },
  {
   "cell_type": "code",
   "execution_count": 103,
   "id": "2b55e7cd",
   "metadata": {},
   "outputs": [],
   "source": [
    "df = data.load_thyroid_disease()"
   ]
  },
  {
   "cell_type": "code",
   "execution_count": 104,
   "id": "0bb0f546",
   "metadata": {},
   "outputs": [],
   "source": [
    "name_test = 'Thyroid'"
   ]
  },
  {
   "cell_type": "code",
   "execution_count": 105,
   "id": "bbeafd59",
   "metadata": {},
   "outputs": [],
   "source": [
    "dfs = {'Thyroid':df}"
   ]
  },
  {
   "cell_type": "code",
   "execution_count": 106,
   "id": "86ee14d4",
   "metadata": {},
   "outputs": [],
   "source": [
    "DFs = pd.DataFrame({'tests': [name_test], 'class': ['sick-euthyroid'], 'pos': ['sick-euthyroid']})"
   ]
  },
  {
   "cell_type": "code",
   "execution_count": null,
   "id": "e0880178",
   "metadata": {},
   "outputs": [],
   "source": [
    "experiment(40, DFs, Ws = np.arange(0,1,0.01))"
   ]
  },
  {
   "cell_type": "markdown",
   "id": "88650f22",
   "metadata": {},
   "source": [
    "# Audiology (Standardized) Data Set"
   ]
  },
  {
   "cell_type": "code",
   "execution_count": null,
   "id": "69da5821",
   "metadata": {},
   "outputs": [],
   "source": [
    "df = data.load_audiology()"
   ]
  },
  {
   "cell_type": "code",
   "execution_count": null,
   "id": "81bd0711",
   "metadata": {},
   "outputs": [],
   "source": [
    "name_test = 'audiology'"
   ]
  },
  {
   "cell_type": "code",
   "execution_count": null,
   "id": "4d0ae5c2",
   "metadata": {},
   "outputs": [],
   "source": [
    "dfs = {'audiology':df}"
   ]
  },
  {
   "cell_type": "code",
   "execution_count": null,
   "id": "509e86c9",
   "metadata": {},
   "outputs": [],
   "source": [
    "DFs = pd.DataFrame({'tests': [name_test], 'class': ['Class'], 'pos': ['cochlear_poss_noise']})"
   ]
  },
  {
   "cell_type": "code",
   "execution_count": null,
   "id": "5813812f",
   "metadata": {},
   "outputs": [],
   "source": [
    "experiment(40, DFs)"
   ]
  },
  {
   "cell_type": "markdown",
   "id": "ebe733cc",
   "metadata": {},
   "source": [
    "# Autism Screening Dataset"
   ]
  },
  {
   "cell_type": "code",
   "execution_count": null,
   "id": "9d104999",
   "metadata": {},
   "outputs": [],
   "source": [
    "df = data.load_autism_screening()"
   ]
  },
  {
   "cell_type": "code",
   "execution_count": null,
   "id": "8a58051e",
   "metadata": {},
   "outputs": [],
   "source": [
    "name_test = 'autism'"
   ]
  },
  {
   "cell_type": "code",
   "execution_count": null,
   "id": "665205ac",
   "metadata": {},
   "outputs": [],
   "source": [
    "dfs = {'autism':df}"
   ]
  },
  {
   "cell_type": "code",
   "execution_count": null,
   "id": "44843f55",
   "metadata": {},
   "outputs": [],
   "source": [
    "DFs = pd.DataFrame({'tests': [name_test], 'class': ['Class/ASD'], 'pos': ['YES']})"
   ]
  },
  {
   "cell_type": "code",
   "execution_count": null,
   "id": "232802e7",
   "metadata": {},
   "outputs": [],
   "source": [
    "experiment(40, DFs)"
   ]
  },
  {
   "cell_type": "markdown",
   "id": "2fa81cdc",
   "metadata": {},
   "source": [
    "# Adult Data Set"
   ]
  },
  {
   "cell_type": "code",
   "execution_count": null,
   "id": "432ec843",
   "metadata": {},
   "outputs": [],
   "source": [
    "df = pd.read_csv('https://archive.ics.uci.edu/ml/machine-learning-databases/adult/adult.data')"
   ]
  },
  {
   "cell_type": "code",
   "execution_count": null,
   "id": "1eb75436",
   "metadata": {},
   "outputs": [],
   "source": [
    "name_test = 'adult'"
   ]
  },
  {
   "cell_type": "code",
   "execution_count": null,
   "id": "1342b25b",
   "metadata": {},
   "outputs": [],
   "source": [
    "dfs = {'adult':df}"
   ]
  },
  {
   "cell_type": "code",
   "execution_count": null,
   "id": "b7c24a98",
   "metadata": {},
   "outputs": [],
   "source": [
    "DFs = pd.DataFrame({'tests': [name_test], 'class': [' <=50K'], 'pos': [' <=50K']})"
   ]
  },
  {
   "cell_type": "code",
   "execution_count": null,
   "id": "3a2f7ad5",
   "metadata": {},
   "outputs": [],
   "source": [
    "experiment(40, DFs)"
   ]
  },
  {
   "cell_type": "markdown",
   "id": "f6abd73a",
   "metadata": {},
   "source": [
    "# Arrhythmia Data Set "
   ]
  },
  {
   "cell_type": "code",
   "execution_count": null,
   "id": "4d832bce",
   "metadata": {},
   "outputs": [],
   "source": [
    "df = data.load_arrhythmia()"
   ]
  },
  {
   "cell_type": "code",
   "execution_count": null,
   "id": "c47f08a0",
   "metadata": {},
   "outputs": [],
   "source": [
    "name_test = 'arrhythmia'"
   ]
  },
  {
   "cell_type": "code",
   "execution_count": null,
   "id": "c6f5d9cd",
   "metadata": {},
   "outputs": [],
   "source": [
    "dfs = {'arrhythmia':df}"
   ]
  },
  {
   "cell_type": "code",
   "execution_count": null,
   "id": "2d6c8583",
   "metadata": {},
   "outputs": [],
   "source": [
    "DFs = pd.DataFrame({'tests': [name_test], 'class': ['diagnosis'], 'pos': [1]})"
   ]
  },
  {
   "cell_type": "code",
   "execution_count": null,
   "id": "7873d92d",
   "metadata": {},
   "outputs": [],
   "source": [
    "experiment(40, DFs)"
   ]
  },
  {
   "cell_type": "code",
   "execution_count": null,
   "id": "f0ba8b73",
   "metadata": {},
   "outputs": [],
   "source": []
  },
  {
   "cell_type": "code",
   "execution_count": null,
   "id": "f62465be",
   "metadata": {},
   "outputs": [],
   "source": []
  },
  {
   "cell_type": "code",
   "execution_count": null,
   "id": "116e9cb2",
   "metadata": {},
   "outputs": [],
   "source": []
  },
  {
   "cell_type": "code",
   "execution_count": null,
   "id": "46404cb0",
   "metadata": {},
   "outputs": [],
   "source": []
  },
  {
   "cell_type": "code",
   "execution_count": null,
   "id": "4029cb75",
   "metadata": {},
   "outputs": [],
   "source": []
  },
  {
   "cell_type": "code",
   "execution_count": null,
   "id": "cd94cb95",
   "metadata": {},
   "outputs": [],
   "source": []
  }
 ],
 "metadata": {
  "kernelspec": {
   "display_name": "Python 3",
   "language": "python",
   "name": "python3"
  },
  "language_info": {
   "codemirror_mode": {
    "name": "ipython",
    "version": 3
   },
   "file_extension": ".py",
   "mimetype": "text/x-python",
   "name": "python",
   "nbconvert_exporter": "python",
   "pygments_lexer": "ipython3",
   "version": "3.8.8"
  }
 },
 "nbformat": 4,
 "nbformat_minor": 5
}
