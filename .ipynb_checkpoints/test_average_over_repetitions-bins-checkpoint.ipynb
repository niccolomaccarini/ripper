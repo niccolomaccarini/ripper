{
 "cells": [
  {
   "cell_type": "code",
   "execution_count": 1,
   "id": "c584c21c",
   "metadata": {},
   "outputs": [],
   "source": [
    "# Import all the necessary packages\n",
    "\n",
    "import numpy as np\n",
    "import pandas as pd\n",
    "import scipy\n",
    "import uci_dataset as data\n",
    "import random\n",
    "random.seed(10)\n",
    "\n",
    "# The results will depend on the random train-test split, so we average the accuracies over a certain number of repetitions\n",
    "n_rep = 40\n",
    "\n",
    "import wittgenstein3 as lw\n",
    "from sklearn.model_selection import train_test_split\n",
    "from sklearn.metrics import accuracy_score\n",
    "from datetime import datetime"
   ]
  },
  {
   "cell_type": "code",
   "execution_count": 2,
   "id": "0d2c3c9c",
   "metadata": {},
   "outputs": [],
   "source": [
    "# Define a dictionary with the datasets we want to consider when experimenting\n",
    "# dfs = ..."
   ]
  },
  {
   "cell_type": "code",
   "execution_count": 3,
   "id": "f13f85e9",
   "metadata": {},
   "outputs": [],
   "source": [
    "# Dictionary of accuracies of standard RIPPERk on all datasets\n",
    "\n",
    "stand_acc = {'Thyroid': 0.946, 'audiology': 0.9738, 'autism': 0.9968, 'adult': 0.7099, 'arrhythmia': 0.5262}"
   ]
  },
  {
   "cell_type": "code",
   "execution_count": 4,
   "id": "5bb2ec35",
   "metadata": {
    "scrolled": true
   },
   "outputs": [],
   "source": [
    "import time\n",
    "from Helper import LearningCurvePlot, smooth\n",
    "\n",
    "\n",
    "def average_over_repetitions(n_repetitions, smoothing_window, df, n_bins, class_feat, pos_class, name_test, verbosity = 0):\n",
    "    acc = np.empty([n_repetitions, len(n_bins)]) # accuracies array\n",
    "    start = datetime.now()\n",
    "    start2 = time.time()\n",
    "    \n",
    "    for i in range(n_repetitions):\n",
    "        for j in range(len(n_bins)):\n",
    "            b = n_bins[j]\n",
    "            X_train, X_test = train_test_split(df, test_size = 0.2)\n",
    "            ripper_clf = lw.RIPPER(k=2, verbosity = verbosity, n_discretize_bins = b)\n",
    "            ripper_clf.fit(X_train, class_feat = class_feat, pos_class = pos_class)\n",
    "            y_test = X_test[class_feat]\n",
    "            score = ripper_clf.score(X_test, y_test)\n",
    "            acc[i,j] = score\n",
    "        \n",
    "    # Save results to a text file\n",
    "    np.savetxt('Results/' + name_test + '_time' + start.strftime(\"%d-%m-%Y_%H.%M.%S\"),acc,delimiter = ',')\n",
    "    \n",
    "    print('Running the test takes {} minutes'.format((time.time()-start2)/60))\n",
    "    learning_curve = np.mean(acc, axis = 0) # average over repetitions\n",
    "    learning_curve = smooth(learning_curve,smoothing_window) # additional smoothing\n",
    "    return learning_curve, acc\n",
    "\n",
    "def experiment(n_repetitions, DFs, verbosity = 0, n_bins = [3,5,10,15,20,30,50]):\n",
    "    ####### Settings\n",
    "    # Experiment    \n",
    "    # Here DFs should be a dataframe with columns:\n",
    "    #        data: containing the keys to a dictionary of dataframes\n",
    "    #        class_feat: containing the class feature for each dataset\n",
    "    #        pos_class: containing the name of the positive class\n",
    "    \n",
    "    # Plotting parameters\n",
    "    plot = True\n",
    "    smoothing_window = 2\n",
    "    \n",
    "    ####### Experiments\n",
    "    \n",
    "    #Plot1 = LearningCurvePlot(title = labels[problem] + ' problem solved with ' + labels[method])\n",
    "    \n",
    "    for name_test in DFs['tests']:\n",
    "        Plot1 = LearningCurvePlot(title = name_test)\n",
    "        Plot1.add_hline(stand_acc[name_test], 'standard' + name_test)\n",
    "        class_feat = DFs['class'][DFs.tests == name_test][0]\n",
    "        pos_class = DFs['pos'][DFs.tests == name_test][0]\n",
    "        \n",
    "        learning_curve, _ = average_over_repetitions(n_repetitions, smoothing_window, dfs[name_test], n_bins,\n",
    "                                                            class_feat, pos_class, name_test, verbosity)\n",
    "        Plot1.add_curve(learning_curve,label = name_test)\n",
    "    Plot1.save(name_test + '_' + 'discr_bins' + '.png')"
   ]
  },
  {
   "cell_type": "markdown",
   "id": "7bc75767",
   "metadata": {},
   "source": [
    "Now let's rerun the previous tests by looking at all the possible values of W."
   ]
  },
  {
   "cell_type": "markdown",
   "id": "baf50728",
   "metadata": {},
   "source": [
    "# Thyroid dataset"
   ]
  },
  {
   "cell_type": "code",
   "execution_count": 5,
   "id": "14ae26e0",
   "metadata": {},
   "outputs": [],
   "source": [
    "df = data.load_thyroid_disease()"
   ]
  },
  {
   "cell_type": "code",
   "execution_count": 6,
   "id": "5cb4656c",
   "metadata": {},
   "outputs": [],
   "source": [
    "name_test = 'Thyroid'"
   ]
  },
  {
   "cell_type": "code",
   "execution_count": 7,
   "id": "659d9392",
   "metadata": {},
   "outputs": [],
   "source": [
    "dfs = {'Thyroid':df}"
   ]
  },
  {
   "cell_type": "code",
   "execution_count": 8,
   "id": "162afe0d",
   "metadata": {},
   "outputs": [],
   "source": [
    "DFs = pd.DataFrame({'tests': [name_test], 'class': ['sick-euthyroid'], 'pos': ['sick-euthyroid']})"
   ]
  },
  {
   "cell_type": "code",
   "execution_count": 9,
   "id": "d023038b",
   "metadata": {},
   "outputs": [
    {
     "name": "stdout",
     "output_type": "stream",
     "text": [
      "Running the test takes 9.624382483959199 minutes\n"
     ]
    },
    {
     "data": {
      "image/png": "[encoded data removed]",
      "text/plain": [
       "<Figure size 432x288 with 1 Axes>"
      ]
     },
     "metadata": {
      "needs_background": "light"
     },
     "output_type": "display_data"
    }
   ],
   "source": [
    "experiment(40, DFs)"
   ]
  },
  {
   "cell_type": "markdown",
   "id": "212fb7f3",
   "metadata": {},
   "source": [
    "# Audiology (Standardized) Data Set"
   ]
  },
  {
   "cell_type": "code",
   "execution_count": 10,
   "id": "f61b39b4",
   "metadata": {},
   "outputs": [],
   "source": [
    "df = data.load_audiology()"
   ]
  },
  {
   "cell_type": "code",
   "execution_count": 11,
   "id": "d1586145",
   "metadata": {},
   "outputs": [],
   "source": [
    "name_test = 'audiology'"
   ]
  },
  {
   "cell_type": "code",
   "execution_count": 12,
   "id": "b75644c3",
   "metadata": {},
   "outputs": [],
   "source": [
    "dfs = {'audiology':df}"
   ]
  },
  {
   "cell_type": "code",
   "execution_count": 13,
   "id": "af2ee75d",
   "metadata": {},
   "outputs": [],
   "source": [
    "DFs = pd.DataFrame({'tests': [name_test], 'class': ['Class'], 'pos': ['cochlear_poss_noise']})"
   ]
  },
  {
   "cell_type": "code",
   "execution_count": 14,
   "id": "933bc60f",
   "metadata": {},
   "outputs": [
    {
     "ename": "KeyError",
     "evalue": "'cochlear_poss_noise'",
     "output_type": "error",
     "traceback": [
      "\u001b[1;31m---------------------------------------------------------------------------\u001b[0m",
      "\u001b[1;31mKeyError\u001b[0m                                  Traceback (most recent call last)",
      "\u001b[1;32m~\\anaconda3\\lib\\site-packages\\pandas\\core\\indexes\\base.py\u001b[0m in \u001b[0;36mget_loc\u001b[1;34m(self, key, method, tolerance)\u001b[0m\n\u001b[0;32m   3802\u001b[0m             \u001b[1;32mtry\u001b[0m\u001b[1;33m:\u001b[0m\u001b[1;33m\u001b[0m\u001b[1;33m\u001b[0m\u001b[0m\n\u001b[1;32m-> 3803\u001b[1;33m                 \u001b[1;32mreturn\u001b[0m \u001b[0mself\u001b[0m\u001b[1;33m.\u001b[0m\u001b[0m_engine\u001b[0m\u001b[1;33m.\u001b[0m\u001b[0mget_loc\u001b[0m\u001b[1;33m(\u001b[0m\u001b[0mcasted_key\u001b[0m\u001b[1;33m)\u001b[0m\u001b[1;33m\u001b[0m\u001b[1;33m\u001b[0m\u001b[0m\n\u001b[0m\u001b[0;32m   3804\u001b[0m             \u001b[1;32mexcept\u001b[0m \u001b[0mKeyError\u001b[0m \u001b[1;32mas\u001b[0m \u001b[0merr\u001b[0m\u001b[1;33m:\u001b[0m\u001b[1;33m\u001b[0m\u001b[1;33m\u001b[0m\u001b[0m\n",
      "\u001b[1;32m~\\anaconda3\\lib\\site-packages\\pandas\\_libs\\index.pyx\u001b[0m in \u001b[0;36mpandas._libs.index.IndexEngine.get_loc\u001b[1;34m()\u001b[0m\n",
      "\u001b[1;32m~\\anaconda3\\lib\\site-packages\\pandas\\_libs\\index.pyx\u001b[0m in \u001b[0;36mpandas._libs.index.IndexEngine.get_loc\u001b[1;34m()\u001b[0m\n",
      "\u001b[1;32mpandas\\_libs\\hashtable_class_helper.pxi\u001b[0m in \u001b[0;36mpandas._libs.hashtable.PyObjectHashTable.get_item\u001b[1;34m()\u001b[0m\n",
      "\u001b[1;32mpandas\\_libs\\hashtable_class_helper.pxi\u001b[0m in \u001b[0;36mpandas._libs.hashtable.PyObjectHashTable.get_item\u001b[1;34m()\u001b[0m\n",
      "\u001b[1;31mKeyError\u001b[0m: 'cochlear_poss_noise'",
      "\nThe above exception was the direct cause of the following exception:\n",
      "\u001b[1;31mKeyError\u001b[0m                                  Traceback (most recent call last)",
      "\u001b[1;32m<ipython-input-14-44d71ae8df8a>\u001b[0m in \u001b[0;36m<module>\u001b[1;34m\u001b[0m\n\u001b[1;32m----> 1\u001b[1;33m \u001b[0mexperiment\u001b[0m\u001b[1;33m(\u001b[0m\u001b[1;36m40\u001b[0m\u001b[1;33m,\u001b[0m \u001b[0mDFs\u001b[0m\u001b[1;33m)\u001b[0m\u001b[1;33m\u001b[0m\u001b[1;33m\u001b[0m\u001b[0m\n\u001b[0m",
      "\u001b[1;32m<ipython-input-4-63b944a01b60>\u001b[0m in \u001b[0;36mexperiment\u001b[1;34m(n_repetitions, DFs, verbosity, n_bins)\u001b[0m\n\u001b[0;32m     48\u001b[0m         \u001b[0mpos_class\u001b[0m \u001b[1;33m=\u001b[0m \u001b[0mDFs\u001b[0m\u001b[1;33m[\u001b[0m\u001b[1;34m'pos'\u001b[0m\u001b[1;33m]\u001b[0m\u001b[1;33m[\u001b[0m\u001b[0mDFs\u001b[0m\u001b[1;33m.\u001b[0m\u001b[0mtests\u001b[0m \u001b[1;33m==\u001b[0m \u001b[0mname_test\u001b[0m\u001b[1;33m]\u001b[0m\u001b[1;33m[\u001b[0m\u001b[1;36m0\u001b[0m\u001b[1;33m]\u001b[0m\u001b[1;33m\u001b[0m\u001b[1;33m\u001b[0m\u001b[0m\n\u001b[0;32m     49\u001b[0m \u001b[1;33m\u001b[0m\u001b[0m\n\u001b[1;32m---> 50\u001b[1;33m         learning_curve, _ = average_over_repetitions(n_repetitions, smoothing_window, dfs[name_test], n_bins,\n\u001b[0m\u001b[0;32m     51\u001b[0m                                                             class_feat, pos_class, name_test, verbosity)\n\u001b[0;32m     52\u001b[0m         \u001b[0mPlot1\u001b[0m\u001b[1;33m.\u001b[0m\u001b[0madd_curve\u001b[0m\u001b[1;33m(\u001b[0m\u001b[0mlearning_curve\u001b[0m\u001b[1;33m,\u001b[0m\u001b[0mlabel\u001b[0m \u001b[1;33m=\u001b[0m \u001b[0mname_test\u001b[0m\u001b[1;33m)\u001b[0m\u001b[1;33m\u001b[0m\u001b[1;33m\u001b[0m\u001b[0m\n",
      "\u001b[1;32m<ipython-input-4-63b944a01b60>\u001b[0m in \u001b[0;36maverage_over_repetitions\u001b[1;34m(n_repetitions, smoothing_window, df, n_bins, class_feat, pos_class, name_test, verbosity)\u001b[0m\n\u001b[0;32m     14\u001b[0m             \u001b[0mripper_clf\u001b[0m \u001b[1;33m=\u001b[0m \u001b[0mlw\u001b[0m\u001b[1;33m.\u001b[0m\u001b[0mRIPPER\u001b[0m\u001b[1;33m(\u001b[0m\u001b[0mk\u001b[0m\u001b[1;33m=\u001b[0m\u001b[1;36m2\u001b[0m\u001b[1;33m,\u001b[0m \u001b[0mverbosity\u001b[0m \u001b[1;33m=\u001b[0m \u001b[0mverbosity\u001b[0m\u001b[1;33m,\u001b[0m \u001b[0mn_discretize_bins\u001b[0m \u001b[1;33m=\u001b[0m \u001b[0mb\u001b[0m\u001b[1;33m)\u001b[0m\u001b[1;33m\u001b[0m\u001b[1;33m\u001b[0m\u001b[0m\n\u001b[0;32m     15\u001b[0m             \u001b[0mripper_clf\u001b[0m\u001b[1;33m.\u001b[0m\u001b[0mfit\u001b[0m\u001b[1;33m(\u001b[0m\u001b[0mX_train\u001b[0m\u001b[1;33m,\u001b[0m \u001b[0mclass_feat\u001b[0m \u001b[1;33m=\u001b[0m \u001b[0mclass_feat\u001b[0m\u001b[1;33m,\u001b[0m \u001b[0mpos_class\u001b[0m \u001b[1;33m=\u001b[0m \u001b[0mpos_class\u001b[0m\u001b[1;33m)\u001b[0m\u001b[1;33m\u001b[0m\u001b[1;33m\u001b[0m\u001b[0m\n\u001b[1;32m---> 16\u001b[1;33m             \u001b[0my_test\u001b[0m \u001b[1;33m=\u001b[0m \u001b[0mX_test\u001b[0m\u001b[1;33m[\u001b[0m\u001b[0mpos_class\u001b[0m\u001b[1;33m]\u001b[0m\u001b[1;33m\u001b[0m\u001b[1;33m\u001b[0m\u001b[0m\n\u001b[0m\u001b[0;32m     17\u001b[0m             \u001b[0mscore\u001b[0m \u001b[1;33m=\u001b[0m \u001b[0mripper_clf\u001b[0m\u001b[1;33m.\u001b[0m\u001b[0mscore\u001b[0m\u001b[1;33m(\u001b[0m\u001b[0mX_test\u001b[0m\u001b[1;33m,\u001b[0m \u001b[0my_test\u001b[0m\u001b[1;33m)\u001b[0m\u001b[1;33m\u001b[0m\u001b[1;33m\u001b[0m\u001b[0m\n\u001b[0;32m     18\u001b[0m             \u001b[0macc\u001b[0m\u001b[1;33m[\u001b[0m\u001b[0mi\u001b[0m\u001b[1;33m,\u001b[0m\u001b[0mj\u001b[0m\u001b[1;33m]\u001b[0m \u001b[1;33m=\u001b[0m \u001b[0mscore\u001b[0m\u001b[1;33m\u001b[0m\u001b[1;33m\u001b[0m\u001b[0m\n",
      "\u001b[1;32m~\\anaconda3\\lib\\site-packages\\pandas\\core\\frame.py\u001b[0m in \u001b[0;36m__getitem__\u001b[1;34m(self, key)\u001b[0m\n\u001b[0;32m   3803\u001b[0m             \u001b[1;32mif\u001b[0m \u001b[0mself\u001b[0m\u001b[1;33m.\u001b[0m\u001b[0mcolumns\u001b[0m\u001b[1;33m.\u001b[0m\u001b[0mnlevels\u001b[0m \u001b[1;33m>\u001b[0m \u001b[1;36m1\u001b[0m\u001b[1;33m:\u001b[0m\u001b[1;33m\u001b[0m\u001b[1;33m\u001b[0m\u001b[0m\n\u001b[0;32m   3804\u001b[0m                 \u001b[1;32mreturn\u001b[0m \u001b[0mself\u001b[0m\u001b[1;33m.\u001b[0m\u001b[0m_getitem_multilevel\u001b[0m\u001b[1;33m(\u001b[0m\u001b[0mkey\u001b[0m\u001b[1;33m)\u001b[0m\u001b[1;33m\u001b[0m\u001b[1;33m\u001b[0m\u001b[0m\n\u001b[1;32m-> 3805\u001b[1;33m             \u001b[0mindexer\u001b[0m \u001b[1;33m=\u001b[0m \u001b[0mself\u001b[0m\u001b[1;33m.\u001b[0m\u001b[0mcolumns\u001b[0m\u001b[1;33m.\u001b[0m\u001b[0mget_loc\u001b[0m\u001b[1;33m(\u001b[0m\u001b[0mkey\u001b[0m\u001b[1;33m)\u001b[0m\u001b[1;33m\u001b[0m\u001b[1;33m\u001b[0m\u001b[0m\n\u001b[0m\u001b[0;32m   3806\u001b[0m             \u001b[1;32mif\u001b[0m \u001b[0mis_integer\u001b[0m\u001b[1;33m(\u001b[0m\u001b[0mindexer\u001b[0m\u001b[1;33m)\u001b[0m\u001b[1;33m:\u001b[0m\u001b[1;33m\u001b[0m\u001b[1;33m\u001b[0m\u001b[0m\n\u001b[0;32m   3807\u001b[0m                 \u001b[0mindexer\u001b[0m \u001b[1;33m=\u001b[0m \u001b[1;33m[\u001b[0m\u001b[0mindexer\u001b[0m\u001b[1;33m]\u001b[0m\u001b[1;33m\u001b[0m\u001b[1;33m\u001b[0m\u001b[0m\n",
      "\u001b[1;32m~\\anaconda3\\lib\\site-packages\\pandas\\core\\indexes\\base.py\u001b[0m in \u001b[0;36mget_loc\u001b[1;34m(self, key, method, tolerance)\u001b[0m\n\u001b[0;32m   3803\u001b[0m                 \u001b[1;32mreturn\u001b[0m \u001b[0mself\u001b[0m\u001b[1;33m.\u001b[0m\u001b[0m_engine\u001b[0m\u001b[1;33m.\u001b[0m\u001b[0mget_loc\u001b[0m\u001b[1;33m(\u001b[0m\u001b[0mcasted_key\u001b[0m\u001b[1;33m)\u001b[0m\u001b[1;33m\u001b[0m\u001b[1;33m\u001b[0m\u001b[0m\n\u001b[0;32m   3804\u001b[0m             \u001b[1;32mexcept\u001b[0m \u001b[0mKeyError\u001b[0m \u001b[1;32mas\u001b[0m \u001b[0merr\u001b[0m\u001b[1;33m:\u001b[0m\u001b[1;33m\u001b[0m\u001b[1;33m\u001b[0m\u001b[0m\n\u001b[1;32m-> 3805\u001b[1;33m                 \u001b[1;32mraise\u001b[0m \u001b[0mKeyError\u001b[0m\u001b[1;33m(\u001b[0m\u001b[0mkey\u001b[0m\u001b[1;33m)\u001b[0m \u001b[1;32mfrom\u001b[0m \u001b[0merr\u001b[0m\u001b[1;33m\u001b[0m\u001b[1;33m\u001b[0m\u001b[0m\n\u001b[0m\u001b[0;32m   3806\u001b[0m             \u001b[1;32mexcept\u001b[0m \u001b[0mTypeError\u001b[0m\u001b[1;33m:\u001b[0m\u001b[1;33m\u001b[0m\u001b[1;33m\u001b[0m\u001b[0m\n\u001b[0;32m   3807\u001b[0m                 \u001b[1;31m# If we have a listlike key, _check_indexing_error will raise\u001b[0m\u001b[1;33m\u001b[0m\u001b[1;33m\u001b[0m\u001b[1;33m\u001b[0m\u001b[0m\n",
      "\u001b[1;31mKeyError\u001b[0m: 'cochlear_poss_noise'"
     ]
    },
    {
     "data": {
      "image/png": "[encoded data removed]",
      "text/plain": [
       "<Figure size 432x288 with 1 Axes>"
      ]
     },
     "metadata": {
      "needs_background": "light"
     },
     "output_type": "display_data"
    }
   ],
   "source": [
    "experiment(40, DFs)"
   ]
  },
  {
   "cell_type": "markdown",
   "id": "323cdd50",
   "metadata": {},
   "source": [
    "# Autism Screening Dataset"
   ]
  },
  {
   "cell_type": "code",
   "execution_count": 15,
   "id": "bc1e40ab",
   "metadata": {},
   "outputs": [],
   "source": [
    "df = data.load_autism_screening()"
   ]
  },
  {
   "cell_type": "code",
   "execution_count": 16,
   "id": "288c5fa7",
   "metadata": {},
   "outputs": [],
   "source": [
    "name_test = 'autism'"
   ]
  },
  {
   "cell_type": "code",
   "execution_count": 17,
   "id": "3fb7c886",
   "metadata": {},
   "outputs": [],
   "source": [
    "dfs = {'autism':df}"
   ]
  },
  {
   "cell_type": "code",
   "execution_count": 18,
   "id": "ae0f5507",
   "metadata": {},
   "outputs": [],
   "source": [
    "DFs = pd.DataFrame({'tests': [name_test], 'class': ['Class/ASD'], 'pos': ['YES']})"
   ]
  },
  {
   "cell_type": "code",
   "execution_count": 19,
   "id": "8fc12ab5",
   "metadata": {},
   "outputs": [
    {
     "ename": "KeyError",
     "evalue": "'YES'",
     "output_type": "error",
     "traceback": [
      "\u001b[1;31m---------------------------------------------------------------------------\u001b[0m",
      "\u001b[1;31mKeyError\u001b[0m                                  Traceback (most recent call last)",
      "\u001b[1;32m~\\anaconda3\\lib\\site-packages\\pandas\\core\\indexes\\base.py\u001b[0m in \u001b[0;36mget_loc\u001b[1;34m(self, key, method, tolerance)\u001b[0m\n\u001b[0;32m   3802\u001b[0m             \u001b[1;32mtry\u001b[0m\u001b[1;33m:\u001b[0m\u001b[1;33m\u001b[0m\u001b[1;33m\u001b[0m\u001b[0m\n\u001b[1;32m-> 3803\u001b[1;33m                 \u001b[1;32mreturn\u001b[0m \u001b[0mself\u001b[0m\u001b[1;33m.\u001b[0m\u001b[0m_engine\u001b[0m\u001b[1;33m.\u001b[0m\u001b[0mget_loc\u001b[0m\u001b[1;33m(\u001b[0m\u001b[0mcasted_key\u001b[0m\u001b[1;33m)\u001b[0m\u001b[1;33m\u001b[0m\u001b[1;33m\u001b[0m\u001b[0m\n\u001b[0m\u001b[0;32m   3804\u001b[0m             \u001b[1;32mexcept\u001b[0m \u001b[0mKeyError\u001b[0m \u001b[1;32mas\u001b[0m \u001b[0merr\u001b[0m\u001b[1;33m:\u001b[0m\u001b[1;33m\u001b[0m\u001b[1;33m\u001b[0m\u001b[0m\n",
      "\u001b[1;32m~\\anaconda3\\lib\\site-packages\\pandas\\_libs\\index.pyx\u001b[0m in \u001b[0;36mpandas._libs.index.IndexEngine.get_loc\u001b[1;34m()\u001b[0m\n",
      "\u001b[1;32m~\\anaconda3\\lib\\site-packages\\pandas\\_libs\\index.pyx\u001b[0m in \u001b[0;36mpandas._libs.index.IndexEngine.get_loc\u001b[1;34m()\u001b[0m\n",
      "\u001b[1;32mpandas\\_libs\\hashtable_class_helper.pxi\u001b[0m in \u001b[0;36mpandas._libs.hashtable.PyObjectHashTable.get_item\u001b[1;34m()\u001b[0m\n",
      "\u001b[1;32mpandas\\_libs\\hashtable_class_helper.pxi\u001b[0m in \u001b[0;36mpandas._libs.hashtable.PyObjectHashTable.get_item\u001b[1;34m()\u001b[0m\n",
      "\u001b[1;31mKeyError\u001b[0m: 'YES'",
      "\nThe above exception was the direct cause of the following exception:\n",
      "\u001b[1;31mKeyError\u001b[0m                                  Traceback (most recent call last)",
      "\u001b[1;32m<ipython-input-19-44d71ae8df8a>\u001b[0m in \u001b[0;36m<module>\u001b[1;34m\u001b[0m\n\u001b[1;32m----> 1\u001b[1;33m \u001b[0mexperiment\u001b[0m\u001b[1;33m(\u001b[0m\u001b[1;36m40\u001b[0m\u001b[1;33m,\u001b[0m \u001b[0mDFs\u001b[0m\u001b[1;33m)\u001b[0m\u001b[1;33m\u001b[0m\u001b[1;33m\u001b[0m\u001b[0m\n\u001b[0m",
      "\u001b[1;32m<ipython-input-4-63b944a01b60>\u001b[0m in \u001b[0;36mexperiment\u001b[1;34m(n_repetitions, DFs, verbosity, n_bins)\u001b[0m\n\u001b[0;32m     48\u001b[0m         \u001b[0mpos_class\u001b[0m \u001b[1;33m=\u001b[0m \u001b[0mDFs\u001b[0m\u001b[1;33m[\u001b[0m\u001b[1;34m'pos'\u001b[0m\u001b[1;33m]\u001b[0m\u001b[1;33m[\u001b[0m\u001b[0mDFs\u001b[0m\u001b[1;33m.\u001b[0m\u001b[0mtests\u001b[0m \u001b[1;33m==\u001b[0m \u001b[0mname_test\u001b[0m\u001b[1;33m]\u001b[0m\u001b[1;33m[\u001b[0m\u001b[1;36m0\u001b[0m\u001b[1;33m]\u001b[0m\u001b[1;33m\u001b[0m\u001b[1;33m\u001b[0m\u001b[0m\n\u001b[0;32m     49\u001b[0m \u001b[1;33m\u001b[0m\u001b[0m\n\u001b[1;32m---> 50\u001b[1;33m         learning_curve, _ = average_over_repetitions(n_repetitions, smoothing_window, dfs[name_test], n_bins,\n\u001b[0m\u001b[0;32m     51\u001b[0m                                                             class_feat, pos_class, name_test, verbosity)\n\u001b[0;32m     52\u001b[0m         \u001b[0mPlot1\u001b[0m\u001b[1;33m.\u001b[0m\u001b[0madd_curve\u001b[0m\u001b[1;33m(\u001b[0m\u001b[0mlearning_curve\u001b[0m\u001b[1;33m,\u001b[0m\u001b[0mlabel\u001b[0m \u001b[1;33m=\u001b[0m \u001b[0mname_test\u001b[0m\u001b[1;33m)\u001b[0m\u001b[1;33m\u001b[0m\u001b[1;33m\u001b[0m\u001b[0m\n",
      "\u001b[1;32m<ipython-input-4-63b944a01b60>\u001b[0m in \u001b[0;36maverage_over_repetitions\u001b[1;34m(n_repetitions, smoothing_window, df, n_bins, class_feat, pos_class, name_test, verbosity)\u001b[0m\n\u001b[0;32m     14\u001b[0m             \u001b[0mripper_clf\u001b[0m \u001b[1;33m=\u001b[0m \u001b[0mlw\u001b[0m\u001b[1;33m.\u001b[0m\u001b[0mRIPPER\u001b[0m\u001b[1;33m(\u001b[0m\u001b[0mk\u001b[0m\u001b[1;33m=\u001b[0m\u001b[1;36m2\u001b[0m\u001b[1;33m,\u001b[0m \u001b[0mverbosity\u001b[0m \u001b[1;33m=\u001b[0m \u001b[0mverbosity\u001b[0m\u001b[1;33m,\u001b[0m \u001b[0mn_discretize_bins\u001b[0m \u001b[1;33m=\u001b[0m \u001b[0mb\u001b[0m\u001b[1;33m)\u001b[0m\u001b[1;33m\u001b[0m\u001b[1;33m\u001b[0m\u001b[0m\n\u001b[0;32m     15\u001b[0m             \u001b[0mripper_clf\u001b[0m\u001b[1;33m.\u001b[0m\u001b[0mfit\u001b[0m\u001b[1;33m(\u001b[0m\u001b[0mX_train\u001b[0m\u001b[1;33m,\u001b[0m \u001b[0mclass_feat\u001b[0m \u001b[1;33m=\u001b[0m \u001b[0mclass_feat\u001b[0m\u001b[1;33m,\u001b[0m \u001b[0mpos_class\u001b[0m \u001b[1;33m=\u001b[0m \u001b[0mpos_class\u001b[0m\u001b[1;33m)\u001b[0m\u001b[1;33m\u001b[0m\u001b[1;33m\u001b[0m\u001b[0m\n\u001b[1;32m---> 16\u001b[1;33m             \u001b[0my_test\u001b[0m \u001b[1;33m=\u001b[0m \u001b[0mX_test\u001b[0m\u001b[1;33m[\u001b[0m\u001b[0mpos_class\u001b[0m\u001b[1;33m]\u001b[0m\u001b[1;33m\u001b[0m\u001b[1;33m\u001b[0m\u001b[0m\n\u001b[0m\u001b[0;32m     17\u001b[0m             \u001b[0mscore\u001b[0m \u001b[1;33m=\u001b[0m \u001b[0mripper_clf\u001b[0m\u001b[1;33m.\u001b[0m\u001b[0mscore\u001b[0m\u001b[1;33m(\u001b[0m\u001b[0mX_test\u001b[0m\u001b[1;33m,\u001b[0m \u001b[0my_test\u001b[0m\u001b[1;33m)\u001b[0m\u001b[1;33m\u001b[0m\u001b[1;33m\u001b[0m\u001b[0m\n\u001b[0;32m     18\u001b[0m             \u001b[0macc\u001b[0m\u001b[1;33m[\u001b[0m\u001b[0mi\u001b[0m\u001b[1;33m,\u001b[0m\u001b[0mj\u001b[0m\u001b[1;33m]\u001b[0m \u001b[1;33m=\u001b[0m \u001b[0mscore\u001b[0m\u001b[1;33m\u001b[0m\u001b[1;33m\u001b[0m\u001b[0m\n",
      "\u001b[1;32m~\\anaconda3\\lib\\site-packages\\pandas\\core\\frame.py\u001b[0m in \u001b[0;36m__getitem__\u001b[1;34m(self, key)\u001b[0m\n\u001b[0;32m   3803\u001b[0m             \u001b[1;32mif\u001b[0m \u001b[0mself\u001b[0m\u001b[1;33m.\u001b[0m\u001b[0mcolumns\u001b[0m\u001b[1;33m.\u001b[0m\u001b[0mnlevels\u001b[0m \u001b[1;33m>\u001b[0m \u001b[1;36m1\u001b[0m\u001b[1;33m:\u001b[0m\u001b[1;33m\u001b[0m\u001b[1;33m\u001b[0m\u001b[0m\n\u001b[0;32m   3804\u001b[0m                 \u001b[1;32mreturn\u001b[0m \u001b[0mself\u001b[0m\u001b[1;33m.\u001b[0m\u001b[0m_getitem_multilevel\u001b[0m\u001b[1;33m(\u001b[0m\u001b[0mkey\u001b[0m\u001b[1;33m)\u001b[0m\u001b[1;33m\u001b[0m\u001b[1;33m\u001b[0m\u001b[0m\n\u001b[1;32m-> 3805\u001b[1;33m             \u001b[0mindexer\u001b[0m \u001b[1;33m=\u001b[0m \u001b[0mself\u001b[0m\u001b[1;33m.\u001b[0m\u001b[0mcolumns\u001b[0m\u001b[1;33m.\u001b[0m\u001b[0mget_loc\u001b[0m\u001b[1;33m(\u001b[0m\u001b[0mkey\u001b[0m\u001b[1;33m)\u001b[0m\u001b[1;33m\u001b[0m\u001b[1;33m\u001b[0m\u001b[0m\n\u001b[0m\u001b[0;32m   3806\u001b[0m             \u001b[1;32mif\u001b[0m \u001b[0mis_integer\u001b[0m\u001b[1;33m(\u001b[0m\u001b[0mindexer\u001b[0m\u001b[1;33m)\u001b[0m\u001b[1;33m:\u001b[0m\u001b[1;33m\u001b[0m\u001b[1;33m\u001b[0m\u001b[0m\n\u001b[0;32m   3807\u001b[0m                 \u001b[0mindexer\u001b[0m \u001b[1;33m=\u001b[0m \u001b[1;33m[\u001b[0m\u001b[0mindexer\u001b[0m\u001b[1;33m]\u001b[0m\u001b[1;33m\u001b[0m\u001b[1;33m\u001b[0m\u001b[0m\n",
      "\u001b[1;32m~\\anaconda3\\lib\\site-packages\\pandas\\core\\indexes\\base.py\u001b[0m in \u001b[0;36mget_loc\u001b[1;34m(self, key, method, tolerance)\u001b[0m\n\u001b[0;32m   3803\u001b[0m                 \u001b[1;32mreturn\u001b[0m \u001b[0mself\u001b[0m\u001b[1;33m.\u001b[0m\u001b[0m_engine\u001b[0m\u001b[1;33m.\u001b[0m\u001b[0mget_loc\u001b[0m\u001b[1;33m(\u001b[0m\u001b[0mcasted_key\u001b[0m\u001b[1;33m)\u001b[0m\u001b[1;33m\u001b[0m\u001b[1;33m\u001b[0m\u001b[0m\n\u001b[0;32m   3804\u001b[0m             \u001b[1;32mexcept\u001b[0m \u001b[0mKeyError\u001b[0m \u001b[1;32mas\u001b[0m \u001b[0merr\u001b[0m\u001b[1;33m:\u001b[0m\u001b[1;33m\u001b[0m\u001b[1;33m\u001b[0m\u001b[0m\n\u001b[1;32m-> 3805\u001b[1;33m                 \u001b[1;32mraise\u001b[0m \u001b[0mKeyError\u001b[0m\u001b[1;33m(\u001b[0m\u001b[0mkey\u001b[0m\u001b[1;33m)\u001b[0m \u001b[1;32mfrom\u001b[0m \u001b[0merr\u001b[0m\u001b[1;33m\u001b[0m\u001b[1;33m\u001b[0m\u001b[0m\n\u001b[0m\u001b[0;32m   3806\u001b[0m             \u001b[1;32mexcept\u001b[0m \u001b[0mTypeError\u001b[0m\u001b[1;33m:\u001b[0m\u001b[1;33m\u001b[0m\u001b[1;33m\u001b[0m\u001b[0m\n\u001b[0;32m   3807\u001b[0m                 \u001b[1;31m# If we have a listlike key, _check_indexing_error will raise\u001b[0m\u001b[1;33m\u001b[0m\u001b[1;33m\u001b[0m\u001b[1;33m\u001b[0m\u001b[0m\n",
      "\u001b[1;31mKeyError\u001b[0m: 'YES'"
     ]
    },
    {
     "data": {
      "image/png": "[encoded data removed]",
      "text/plain": [
       "<Figure size 432x288 with 1 Axes>"
      ]
     },
     "metadata": {
      "needs_background": "light"
     },
     "output_type": "display_data"
    }
   ],
   "source": [
    "experiment(40, DFs)"
   ]
  },
  {
   "cell_type": "markdown",
   "id": "16c4b82b",
   "metadata": {},
   "source": [
    "# Adult Data Set"
   ]
  },
  {
   "cell_type": "code",
   "execution_count": null,
   "id": "03baabd7",
   "metadata": {},
   "outputs": [],
   "source": [
    "df = pd.read_csv('https://archive.ics.uci.edu/ml/machine-learning-databases/adult/adult.data')"
   ]
  },
  {
   "cell_type": "code",
   "execution_count": 20,
   "id": "0c0d7cc3",
   "metadata": {},
   "outputs": [],
   "source": [
    "name_test = 'adult'"
   ]
  },
  {
   "cell_type": "code",
   "execution_count": 21,
   "id": "05a56402",
   "metadata": {},
   "outputs": [],
   "source": [
    "dfs = {'adult':df}"
   ]
  },
  {
   "cell_type": "code",
   "execution_count": 22,
   "id": "d2d8a441",
   "metadata": {},
   "outputs": [],
   "source": [
    "DFs = pd.DataFrame({'tests': [name_test], 'class': [' <=50K'], 'pos': [' <=50K']})"
   ]
  },
  {
   "cell_type": "code",
   "execution_count": 23,
   "id": "23148074",
   "metadata": {},
   "outputs": [
    {
     "ename": "IndexError",
     "evalue": "Dataset does not include class feature name  <=50K. Training set features: Index(['A1_Score', 'A2_Score', 'A3_Score', 'A4_Score', 'A5_Score', 'A6_Score',\n       'A7_Score', 'A8_Score', 'A9_Score', 'A10_Score', 'age', 'gender',\n       'ethnicity', 'jundice', 'austim', 'contry_of_res', 'used_app_before',\n       'result', 'age_desc', 'relation', 'Class/ASD'],\n      dtype='object')",
     "output_type": "error",
     "traceback": [
      "\u001b[1;31m---------------------------------------------------------------------------\u001b[0m",
      "\u001b[1;31mIndexError\u001b[0m                                Traceback (most recent call last)",
      "\u001b[1;32m<ipython-input-23-44d71ae8df8a>\u001b[0m in \u001b[0;36m<module>\u001b[1;34m\u001b[0m\n\u001b[1;32m----> 1\u001b[1;33m \u001b[0mexperiment\u001b[0m\u001b[1;33m(\u001b[0m\u001b[1;36m40\u001b[0m\u001b[1;33m,\u001b[0m \u001b[0mDFs\u001b[0m\u001b[1;33m)\u001b[0m\u001b[1;33m\u001b[0m\u001b[1;33m\u001b[0m\u001b[0m\n\u001b[0m",
      "\u001b[1;32m<ipython-input-4-63b944a01b60>\u001b[0m in \u001b[0;36mexperiment\u001b[1;34m(n_repetitions, DFs, verbosity, n_bins)\u001b[0m\n\u001b[0;32m     48\u001b[0m         \u001b[0mpos_class\u001b[0m \u001b[1;33m=\u001b[0m \u001b[0mDFs\u001b[0m\u001b[1;33m[\u001b[0m\u001b[1;34m'pos'\u001b[0m\u001b[1;33m]\u001b[0m\u001b[1;33m[\u001b[0m\u001b[0mDFs\u001b[0m\u001b[1;33m.\u001b[0m\u001b[0mtests\u001b[0m \u001b[1;33m==\u001b[0m \u001b[0mname_test\u001b[0m\u001b[1;33m]\u001b[0m\u001b[1;33m[\u001b[0m\u001b[1;36m0\u001b[0m\u001b[1;33m]\u001b[0m\u001b[1;33m\u001b[0m\u001b[1;33m\u001b[0m\u001b[0m\n\u001b[0;32m     49\u001b[0m \u001b[1;33m\u001b[0m\u001b[0m\n\u001b[1;32m---> 50\u001b[1;33m         learning_curve, _ = average_over_repetitions(n_repetitions, smoothing_window, dfs[name_test], n_bins,\n\u001b[0m\u001b[0;32m     51\u001b[0m                                                             class_feat, pos_class, name_test, verbosity)\n\u001b[0;32m     52\u001b[0m         \u001b[0mPlot1\u001b[0m\u001b[1;33m.\u001b[0m\u001b[0madd_curve\u001b[0m\u001b[1;33m(\u001b[0m\u001b[0mlearning_curve\u001b[0m\u001b[1;33m,\u001b[0m\u001b[0mlabel\u001b[0m \u001b[1;33m=\u001b[0m \u001b[0mname_test\u001b[0m\u001b[1;33m)\u001b[0m\u001b[1;33m\u001b[0m\u001b[1;33m\u001b[0m\u001b[0m\n",
      "\u001b[1;32m<ipython-input-4-63b944a01b60>\u001b[0m in \u001b[0;36maverage_over_repetitions\u001b[1;34m(n_repetitions, smoothing_window, df, n_bins, class_feat, pos_class, name_test, verbosity)\u001b[0m\n\u001b[0;32m     13\u001b[0m             \u001b[0mX_train\u001b[0m\u001b[1;33m,\u001b[0m \u001b[0mX_test\u001b[0m \u001b[1;33m=\u001b[0m \u001b[0mtrain_test_split\u001b[0m\u001b[1;33m(\u001b[0m\u001b[0mdf\u001b[0m\u001b[1;33m,\u001b[0m \u001b[0mtest_size\u001b[0m \u001b[1;33m=\u001b[0m \u001b[1;36m0.2\u001b[0m\u001b[1;33m)\u001b[0m\u001b[1;33m\u001b[0m\u001b[1;33m\u001b[0m\u001b[0m\n\u001b[0;32m     14\u001b[0m             \u001b[0mripper_clf\u001b[0m \u001b[1;33m=\u001b[0m \u001b[0mlw\u001b[0m\u001b[1;33m.\u001b[0m\u001b[0mRIPPER\u001b[0m\u001b[1;33m(\u001b[0m\u001b[0mk\u001b[0m\u001b[1;33m=\u001b[0m\u001b[1;36m2\u001b[0m\u001b[1;33m,\u001b[0m \u001b[0mverbosity\u001b[0m \u001b[1;33m=\u001b[0m \u001b[0mverbosity\u001b[0m\u001b[1;33m,\u001b[0m \u001b[0mn_discretize_bins\u001b[0m \u001b[1;33m=\u001b[0m \u001b[0mb\u001b[0m\u001b[1;33m)\u001b[0m\u001b[1;33m\u001b[0m\u001b[1;33m\u001b[0m\u001b[0m\n\u001b[1;32m---> 15\u001b[1;33m             \u001b[0mripper_clf\u001b[0m\u001b[1;33m.\u001b[0m\u001b[0mfit\u001b[0m\u001b[1;33m(\u001b[0m\u001b[0mX_train\u001b[0m\u001b[1;33m,\u001b[0m \u001b[0mclass_feat\u001b[0m \u001b[1;33m=\u001b[0m \u001b[0mclass_feat\u001b[0m\u001b[1;33m,\u001b[0m \u001b[0mpos_class\u001b[0m \u001b[1;33m=\u001b[0m \u001b[0mpos_class\u001b[0m\u001b[1;33m)\u001b[0m\u001b[1;33m\u001b[0m\u001b[1;33m\u001b[0m\u001b[0m\n\u001b[0m\u001b[0;32m     16\u001b[0m             \u001b[0my_test\u001b[0m \u001b[1;33m=\u001b[0m \u001b[0mX_test\u001b[0m\u001b[1;33m[\u001b[0m\u001b[0mpos_class\u001b[0m\u001b[1;33m]\u001b[0m\u001b[1;33m\u001b[0m\u001b[1;33m\u001b[0m\u001b[0m\n\u001b[0;32m     17\u001b[0m             \u001b[0mscore\u001b[0m \u001b[1;33m=\u001b[0m \u001b[0mripper_clf\u001b[0m\u001b[1;33m.\u001b[0m\u001b[0mscore\u001b[0m\u001b[1;33m(\u001b[0m\u001b[0mX_test\u001b[0m\u001b[1;33m,\u001b[0m \u001b[0my_test\u001b[0m\u001b[1;33m)\u001b[0m\u001b[1;33m\u001b[0m\u001b[1;33m\u001b[0m\u001b[0m\n",
      "\u001b[1;32m~\\Desktop\\Statistics and data Science\\Master Thesis\\Code\\wittgenstein3\\ripper.py\u001b[0m in \u001b[0;36mfit\u001b[1;34m(self, trainset, y, class_feat, pos_class, feature_names, initial_model, cn_optimize, **kwargs)\u001b[0m\n\u001b[0;32m    193\u001b[0m             \u001b[0mself\u001b[0m\u001b[1;33m.\u001b[0m\u001b[0mpos_class\u001b[0m\u001b[1;33m,\u001b[0m\u001b[1;33m\u001b[0m\u001b[1;33m\u001b[0m\u001b[0m\n\u001b[0;32m    194\u001b[0m             \u001b[0mself\u001b[0m\u001b[1;33m.\u001b[0m\u001b[0mbin_transformer_\u001b[0m\u001b[1;33m,\u001b[0m\u001b[1;33m\u001b[0m\u001b[1;33m\u001b[0m\u001b[0m\n\u001b[1;32m--> 195\u001b[1;33m         ) = preprocess.preprocess_training_data(preprocess_params)\n\u001b[0m\u001b[0;32m    196\u001b[0m \u001b[1;33m\u001b[0m\u001b[0m\n\u001b[0;32m    197\u001b[0m         \u001b[1;31m# Create CatNap\u001b[0m\u001b[1;33m\u001b[0m\u001b[1;33m\u001b[0m\u001b[1;33m\u001b[0m\u001b[0m\n",
      "\u001b[1;32m~\\Desktop\\Statistics and data Science\\Master Thesis\\Code\\wittgenstein3\\preprocess.py\u001b[0m in \u001b[0;36mpreprocess_training_data\u001b[1;34m(preprocess_params)\u001b[0m\n\u001b[0;32m     27\u001b[0m \u001b[1;33m\u001b[0m\u001b[0m\n\u001b[0;32m     28\u001b[0m     \u001b[1;31m# Error check\u001b[0m\u001b[1;33m\u001b[0m\u001b[1;33m\u001b[0m\u001b[1;33m\u001b[0m\u001b[0m\n\u001b[1;32m---> 29\u001b[1;33m     _check_valid_input_data(\n\u001b[0m\u001b[0;32m     30\u001b[0m         \u001b[0mtrainset\u001b[0m\u001b[1;33m,\u001b[0m\u001b[1;33m\u001b[0m\u001b[1;33m\u001b[0m\u001b[0m\n\u001b[0;32m     31\u001b[0m         \u001b[0my\u001b[0m\u001b[1;33m,\u001b[0m\u001b[1;33m\u001b[0m\u001b[1;33m\u001b[0m\u001b[0m\n",
      "\u001b[1;32m~\\Desktop\\Statistics and data Science\\Master Thesis\\Code\\wittgenstein3\\preprocess.py\u001b[0m in \u001b[0;36m_check_valid_input_data\u001b[1;34m(X_or_Xy, y, class_feat, user_requested_feature_names, requires_label)\u001b[0m\n\u001b[0;32m    198\u001b[0m \u001b[1;33m\u001b[0m\u001b[0m\n\u001b[0;32m    199\u001b[0m         \u001b[1;32mif\u001b[0m \u001b[0mclass_feat\u001b[0m \u001b[1;32mnot\u001b[0m \u001b[1;32min\u001b[0m \u001b[0mfeature_names\u001b[0m\u001b[1;33m:\u001b[0m\u001b[1;33m\u001b[0m\u001b[1;33m\u001b[0m\u001b[0m\n\u001b[1;32m--> 200\u001b[1;33m             raise IndexError(\n\u001b[0m\u001b[0;32m    201\u001b[0m                 \u001b[1;34mf\"Dataset does not include class feature name {class_feat}. Training set features: {feature_names}\"\u001b[0m\u001b[1;33m\u001b[0m\u001b[1;33m\u001b[0m\u001b[0m\n\u001b[0;32m    202\u001b[0m             )\n",
      "\u001b[1;31mIndexError\u001b[0m: Dataset does not include class feature name  <=50K. Training set features: Index(['A1_Score', 'A2_Score', 'A3_Score', 'A4_Score', 'A5_Score', 'A6_Score',\n       'A7_Score', 'A8_Score', 'A9_Score', 'A10_Score', 'age', 'gender',\n       'ethnicity', 'jundice', 'austim', 'contry_of_res', 'used_app_before',\n       'result', 'age_desc', 'relation', 'Class/ASD'],\n      dtype='object')"
     ]
    },
    {
     "data": {
      "image/png": "[encoded data removed]",
      "text/plain": [
       "<Figure size 432x288 with 1 Axes>"
      ]
     },
     "metadata": {
      "needs_background": "light"
     },
     "output_type": "display_data"
    }
   ],
   "source": [
    "experiment(40, DFs)"
   ]
  },
  {
   "cell_type": "markdown",
   "id": "364876b4",
   "metadata": {},
   "source": [
    "# Arrhythmia Data Set "
   ]
  },
  {
   "cell_type": "code",
   "execution_count": null,
   "id": "2ee2d7ca",
   "metadata": {},
   "outputs": [],
   "source": [
    "df = data.load_arrhythmia()"
   ]
  },
  {
   "cell_type": "code",
   "execution_count": null,
   "id": "9f9d29d1",
   "metadata": {},
   "outputs": [],
   "source": [
    "name_test = 'arrhythmia'"
   ]
  },
  {
   "cell_type": "code",
   "execution_count": null,
   "id": "8174f11a",
   "metadata": {},
   "outputs": [],
   "source": [
    "dfs = {'arrhythmia':df}"
   ]
  },
  {
   "cell_type": "code",
   "execution_count": null,
   "id": "720726cc",
   "metadata": {},
   "outputs": [],
   "source": [
    "DFs = pd.DataFrame({'tests': [name_test], 'class': ['diagnosis'], 'pos': [1]})"
   ]
  },
  {
   "cell_type": "code",
   "execution_count": null,
   "id": "8cbfa3a5",
   "metadata": {},
   "outputs": [],
   "source": [
    "experiment(40, DFs)"
   ]
  },
  {
   "cell_type": "code",
   "execution_count": null,
   "id": "384e29bb",
   "metadata": {},
   "outputs": [],
   "source": []
  },
  {
   "cell_type": "code",
   "execution_count": null,
   "id": "59f22fdd",
   "metadata": {},
   "outputs": [],
   "source": []
  },
  {
   "cell_type": "code",
   "execution_count": null,
   "id": "b8251f63",
   "metadata": {},
   "outputs": [],
   "source": []
  },
  {
   "cell_type": "code",
   "execution_count": null,
   "id": "c1057964",
   "metadata": {},
   "outputs": [],
   "source": []
  },
  {
   "cell_type": "code",
   "execution_count": null,
   "id": "15e5d4c3",
   "metadata": {},
   "outputs": [],
   "source": []
  },
  {
   "cell_type": "code",
   "execution_count": null,
   "id": "7c6b75b1",
   "metadata": {},
   "outputs": [],
   "source": []
  },
  {
   "cell_type": "code",
   "execution_count": null,
   "id": "305ed671",
   "metadata": {},
   "outputs": [],
   "source": []
  },
  {
   "cell_type": "code",
   "execution_count": null,
   "id": "a68fe994",
   "metadata": {},
   "outputs": [],
   "source": []
  },
  {
   "cell_type": "code",
   "execution_count": null,
   "id": "45c70092",
   "metadata": {},
   "outputs": [],
   "source": []
  },
  {
   "cell_type": "code",
   "execution_count": null,
   "id": "d8f40b24",
   "metadata": {},
   "outputs": [],
   "source": []
  },
  {
   "cell_type": "code",
   "execution_count": null,
   "id": "396a0abe",
   "metadata": {},
   "outputs": [],
   "source": []
  }
 ],
 "metadata": {
  "kernelspec": {
   "display_name": "Python 3",
   "language": "python",
   "name": "python3"
  },
  "language_info": {
   "codemirror_mode": {
    "name": "ipython",
    "version": 3
   },
   "file_extension": ".py",
   "mimetype": "text/x-python",
   "name": "python",
   "nbconvert_exporter": "python",
   "pygments_lexer": "ipython3",
   "version": "3.8.8"
  }
 },
 "nbformat": 4,
 "nbformat_minor": 5
}
