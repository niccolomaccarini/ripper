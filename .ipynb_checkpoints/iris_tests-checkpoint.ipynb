{
 "cells": [
  {
   "cell_type": "code",
   "execution_count": 64,
   "id": "85346267",
   "metadata": {},
   "outputs": [],
   "source": [
    "import wittgenstein3 as lw3\n",
    "import wittgenstein as lw\n",
    "import pandas as pd\n",
    "import numpy as np\n",
    "import functions\n",
    "from sklearn.model_selection import StratifiedKFold\n",
    "import pickle\n",
    "import math"
   ]
  },
  {
   "cell_type": "code",
   "execution_count": 58,
   "id": "7f380a80",
   "metadata": {},
   "outputs": [],
   "source": [
    "from sklearn.metrics import f1_score\n",
    "from sklearn.metrics import roc_auc_score\n",
    "from sklearn.model_selection import GridSearchCV, cross_val_score, StratifiedKFold, cross_validate, train_test_split"
   ]
  },
  {
   "cell_type": "code",
   "execution_count": 59,
   "id": "55f25892",
   "metadata": {},
   "outputs": [],
   "source": [
    "from sklearn.datasets import load_iris\n",
    "from sklearn.metrics import accuracy_score\n",
    "cv = StratifiedKFold(10)\n",
    "\n",
    "import random\n",
    "random.seed(25)\n",
    "\n",
    "iris = load_iris()\n",
    "X = pd.DataFrame(iris.data, columns=iris.feature_names)\n",
    "y = pd.Series(iris.target)\n",
    "pos_class = 2\n",
    "y = y.map(lambda x: 1 if x==pos_class else 0)\n",
    "\n",
    "X_train, X_test, y_train, y_test = train_test_split(X, y, test_size=0.2, random_state=42)"
   ]
  },
  {
   "cell_type": "code",
   "execution_count": 67,
   "id": "0c70153f",
   "metadata": {},
   "outputs": [
    {
     "data": {
      "text/plain": [
       "0.5411704419383895"
      ]
     },
     "execution_count": 67,
     "metadata": {},
     "output_type": "execute_result"
    }
   ],
   "source": [
    "entropy(y)/math.log2(len(X))"
   ]
  },
  {
   "cell_type": "code",
   "execution_count": 56,
   "id": "75aac548",
   "metadata": {},
   "outputs": [
    {
     "data": {
      "text/plain": [
       "{'<function accuracy_score at 0x000002AFFFA25AF0>': 0.9987958205286457}"
      ]
     },
     "execution_count": 56,
     "metadata": {},
     "output_type": "execute_result"
    }
   ],
   "source": [
    "functions.acc_rate_with_param_selection(pd.concat([X,y], axis=1), 0, 1)"
   ]
  },
  {
   "cell_type": "code",
   "execution_count": 55,
   "id": "d6abc907",
   "metadata": {},
   "outputs": [
    {
     "data": {
      "text/plain": [
       "0.6"
      ]
     },
     "execution_count": 55,
     "metadata": {},
     "output_type": "execute_result"
    }
   ],
   "source": [
    "functions.param_selection(pd.concat([X,y], axis=1), 0, 1)"
   ]
  },
  {
   "cell_type": "code",
   "execution_count": 45,
   "id": "70614f4a",
   "metadata": {},
   "outputs": [],
   "source": [
    "ripper_clf = lw3.RIPPER(k=2, n_discretize_bins = 10, W = 0.5)"
   ]
  },
  {
   "cell_type": "code",
   "execution_count": 46,
   "id": "4e160fc7",
   "metadata": {},
   "outputs": [],
   "source": [
    "ripper_clf.fit(pd.concat([X_train,y_train], axis=1), class_feat=0, pos_class=1)"
   ]
  },
  {
   "cell_type": "code",
   "execution_count": 47,
   "id": "73800ceb",
   "metadata": {},
   "outputs": [
    {
     "data": {
      "text/plain": [
       "1.0"
      ]
     },
     "execution_count": 47,
     "metadata": {},
     "output_type": "execute_result"
    }
   ],
   "source": [
    "ripper_clf.score(X_test, y_test)"
   ]
  },
  {
   "cell_type": "code",
   "execution_count": null,
   "id": "709a544a",
   "metadata": {},
   "outputs": [],
   "source": []
  },
  {
   "cell_type": "code",
   "execution_count": null,
   "id": "0e90ce18",
   "metadata": {},
   "outputs": [],
   "source": []
  },
  {
   "cell_type": "code",
   "execution_count": null,
   "id": "a1357c99",
   "metadata": {},
   "outputs": [],
   "source": []
  },
  {
   "cell_type": "code",
   "execution_count": null,
   "id": "bdf92555",
   "metadata": {},
   "outputs": [],
   "source": []
  },
  {
   "cell_type": "code",
   "execution_count": null,
   "id": "77b58618",
   "metadata": {},
   "outputs": [],
   "source": []
  },
  {
   "cell_type": "code",
   "execution_count": null,
   "id": "ad49119f",
   "metadata": {},
   "outputs": [],
   "source": []
  },
  {
   "cell_type": "code",
   "execution_count": 13,
   "id": "d07361da",
   "metadata": {},
   "outputs": [],
   "source": [
    "y_hat = ripper_clf.predict(X_test)"
   ]
  },
  {
   "cell_type": "code",
   "execution_count": 12,
   "id": "f76ea5f4",
   "metadata": {},
   "outputs": [],
   "source": [
    "_, m=functions.param_selection(pd.concat([X_train,y_train], axis=1), class_feat=0, pos_class=1, return_model = True)"
   ]
  },
  {
   "cell_type": "code",
   "execution_count": 10,
   "id": "661aecf8",
   "metadata": {},
   "outputs": [
    {
     "data": {
      "text/plain": [
       "{'accuracy': 0.9971644612476372, 'f1': 1.0985444019754216}"
      ]
     },
     "execution_count": 10,
     "metadata": {},
     "output_type": "execute_result"
    }
   ],
   "source": [
    "functions.acc_rate(pd.concat([X_train,y_train], axis=1), class_feat = 0, pos_class=1, metrics = ['accuracy', 'f1'])"
   ]
  },
  {
   "cell_type": "code",
   "execution_count": 11,
   "id": "2290989d",
   "metadata": {},
   "outputs": [
    {
     "data": {
      "text/plain": [
       "{'accuracy': 0.8858333333333335, 'f1': 0.8149471070724941}"
      ]
     },
     "execution_count": 11,
     "metadata": {},
     "output_type": "execute_result"
    }
   ],
   "source": [
    "functions.accuracy(pd.concat([X_train,y_train], axis=1), class_feat = 0, pos_class = 1, metrics = ['accuracy', 'f1'])"
   ]
  },
  {
   "cell_type": "code",
   "execution_count": 13,
   "id": "b14d3985",
   "metadata": {},
   "outputs": [
    {
     "data": {
      "text/plain": [
       "0.9666666666666667"
      ]
     },
     "execution_count": 13,
     "metadata": {},
     "output_type": "execute_result"
    }
   ],
   "source": [
    "m.score(X_test, y_test)"
   ]
  },
  {
   "cell_type": "code",
   "execution_count": 38,
   "id": "2e4654e0",
   "metadata": {},
   "outputs": [
    {
     "data": {
      "text/plain": [
       "array([[1, 2, 3],\n",
       "       [4, 5, 6]])"
      ]
     },
     "execution_count": 38,
     "metadata": {},
     "output_type": "execute_result"
    }
   ],
   "source": [
    "x"
   ]
  },
  {
   "cell_type": "code",
   "execution_count": 41,
   "id": "04001ddb",
   "metadata": {},
   "outputs": [
    {
     "data": {
      "text/plain": [
       "array([[1., 1., 1.],\n",
       "       [1., 1., 1.]])"
      ]
     },
     "execution_count": 41,
     "metadata": {},
     "output_type": "execute_result"
    }
   ],
   "source": [
    "x/x"
   ]
  },
  {
   "cell_type": "code",
   "execution_count": 32,
   "id": "33ea07e7",
   "metadata": {},
   "outputs": [],
   "source": [
    "cv = StratifiedKFold()"
   ]
  },
  {
   "cell_type": "code",
   "execution_count": 33,
   "id": "dcea4cb3",
   "metadata": {},
   "outputs": [
    {
     "data": {
      "text/plain": [
       "5"
      ]
     },
     "execution_count": 33,
     "metadata": {},
     "output_type": "execute_result"
    }
   ],
   "source": [
    "cv.n_splits"
   ]
  },
  {
   "cell_type": "code",
   "execution_count": 36,
   "id": "c540ab73",
   "metadata": {},
   "outputs": [
    {
     "data": {
      "text/plain": [
       "array([[1, 2, 3],\n",
       "       [4, 5, 6]])"
      ]
     },
     "execution_count": 36,
     "metadata": {},
     "output_type": "execute_result"
    }
   ],
   "source": [
    "x = np.array([[1,2,3],[4,5,6]])\n",
    "x"
   ]
  },
  {
   "cell_type": "code",
   "execution_count": 37,
   "id": "690fde34",
   "metadata": {},
   "outputs": [
    {
     "data": {
      "text/plain": [
       "array([2., 5.])"
      ]
     },
     "execution_count": 37,
     "metadata": {},
     "output_type": "execute_result"
    }
   ],
   "source": [
    "np.mean(x, axis = 1)"
   ]
  },
  {
   "cell_type": "code",
   "execution_count": 10,
   "id": "fe53106d",
   "metadata": {},
   "outputs": [],
   "source": [
    "with open('datasets_classlabels.pkl', 'rb') as fp:\n",
    "    DFs = pickle.load(fp)"
   ]
  },
  {
   "cell_type": "code",
   "execution_count": 14,
   "id": "5f1d3d43",
   "metadata": {},
   "outputs": [
    {
     "data": {
      "text/plain": [
       "['thyroid',\n",
       " 'audiology',\n",
       " 'autism',\n",
       " 'adult',\n",
       " 'arrhythmia',\n",
       " 'chess king-rook vs king pawn',\n",
       " 'algerian forest fires',\n",
       " 'cryotherapy',\n",
       " 'diabetes',\n",
       " 'heart failure',\n",
       " 'students performance',\n",
       " 'immunotherapy',\n",
       " 'firewall',\n",
       " 'Las Vegas clubs']"
      ]
     },
     "execution_count": 14,
     "metadata": {},
     "output_type": "execute_result"
    }
   ],
   "source": [
    "DFs['names']"
   ]
  },
  {
   "cell_type": "code",
   "execution_count": 15,
   "id": "2ac8edaf",
   "metadata": {},
   "outputs": [
    {
     "data": {
      "text/plain": [
       "[0.8971399193387374,\n",
       " 0.96,\n",
       " 1.0,\n",
       " 0.8716523341523341,\n",
       " 0.8296618357487923,\n",
       " 0.9689958855799373,\n",
       " 0.7925000000000001,\n",
       " 0.9222222222222223,\n",
       " 0.9653846153846153,\n",
       " 0.8165517241379311,\n",
       " 0.6385714285714286,\n",
       " 0.8111111111111111,\n",
       " 0.9997558393495891,\n",
       " 0.531529411764706]"
      ]
     },
     "execution_count": 15,
     "metadata": {},
     "output_type": "execute_result"
    }
   ],
   "source": [
    "DFs['xgb_accuracy']"
   ]
  },
  {
   "cell_type": "code",
   "execution_count": 6,
   "id": "d50932fe",
   "metadata": {},
   "outputs": [
    {
     "ename": "SyntaxError",
     "evalue": "unexpected EOF while parsing (<ipython-input-6-31f181e38cb2>, line 26)",
     "output_type": "error",
     "traceback": [
      "\u001b[1;36m  File \u001b[1;32m\"<ipython-input-6-31f181e38cb2>\"\u001b[1;36m, line \u001b[1;32m26\u001b[0m\n\u001b[1;33m    scores_run = np.zeros((len(metrics, cv_outer.n_splits))\u001b[0m\n\u001b[1;37m                                                           ^\u001b[0m\n\u001b[1;31mSyntaxError\u001b[0m\u001b[1;31m:\u001b[0m unexpected EOF while parsing\n"
     ]
    }
   ],
   "source": [
    "def acc_rate_with_param_selection(df,\n",
    "                                  class_feat, \n",
    "                                  pos_class, \n",
    "                                  cv_outer = 10,\n",
    "                                  cv_inner = 5,\n",
    "                                  param = 'W',\n",
    "                                  W = None,\n",
    "                                  budget = 15,\n",
    "                                  metrics = [accuracy_score],\n",
    "                                  n_rep = 10):\n",
    "    # First dummify your categorical features and booleanize your class values to make sklearn happy\n",
    "    X = df.loc[:,df.columns != class_feat]\n",
    "    X = pd.get_dummies(X, columns=X.select_dtypes('object').columns)\n",
    "    y = df[class_feat]\n",
    "    y = y.map(lambda x: 1 if x==pos_class else 0)\n",
    "                \n",
    "    # Set the parameter grid for W and define an array to contain all scores\n",
    "    acc_standard = np.zeros((n_rep, len(metrics)))\n",
    "    acc_improved = np.zeros((n_rep, len(metrics)))\n",
    "    p_grid = np.arange(0.1, 1, 0.1)\n",
    "\n",
    "    for i in range(n_rep):\n",
    "        cv_out = StratifiedKFold(cv_outer)\n",
    "        cv_in = StratifiedKFold(cv_inner)\n",
    "        scores_run_stand = np.zeros((len(metrics), cv_outer.n_splits))\n",
    "        scores_run = np.zeros((len(metrics, cv_outer.n_splits)))"
   ]
  },
  {
   "cell_type": "code",
   "execution_count": null,
   "id": "c8a62e55",
   "metadata": {},
   "outputs": [],
   "source": [
    " for train_ix, test_ix in cv_outer.split(X, y):\n",
    "            # Split data\n",
    "            X_train, X_test = X[train_ix, :], X[test_ix, :]\n",
    "            y_train, y_test = y[train_ix], y[test_ix]\n",
    "\n",
    "            # Define the models, train standard RIPPERk on the training set\n",
    "            ripper_clf = lw4.RIPPER(k=2)\n",
    "            ripper_standard = lw.RIPPER(k=2)\n",
    "            ripper_standard.fit(pd.concat([X_train,y_train], axis=1), class_feat = 0)\n",
    "\n",
    "            # Execute search for best W and return the best model too\n",
    "            best_W, best_model = param_selection(df = pd.concat([X_train,y_train], axis=1), \n",
    "                                                    class_feat = class_feat, \n",
    "                                                    pos_class = pos_class,\n",
    "                                                    return_model = True)\n",
    "\n",
    "            # Predict the values of the test set and compute scores\n",
    "            y_hat_stand = ripper_standard.predict(y_test)\n",
    "            y_hat = ripper_clf.predict(y_test)  \n",
    "\n",
    "            for j in range(len(metrics)):\n",
    "                metric = metrics[j]\n",
    "                scores_run_stand[j,k] = metric(y_hat_stand, y_test)\n",
    "                scores_run[j,k] = metric(y_hat, y_test)\n",
    "\n",
    "            k += 1\n",
    "                              \n",
    "                              \n",
    "        # store the result\n",
    "        acc_standard[i,] = np.mean(scores_run_stand, axis = 1)\n",
    "        acc_improved[i,] = np.mean(scores_run, axis = 1)\n",
    "                              \n",
    "                              \n",
    "    acc_rate = acc_improved / acc_standard\n",
    "    output = np.mean(acc_rate, axis = 0)\n",
    "    labels = [str(metric) for metric in metrics]\n",
    "                              \n",
    "    return dict(zip(labels, output))\n",
    "                              "
   ]
  }
 ],
 "metadata": {
  "kernelspec": {
   "display_name": "Python 3",
   "language": "python",
   "name": "python3"
  },
  "language_info": {
   "codemirror_mode": {
    "name": "ipython",
    "version": 3
   },
   "file_extension": ".py",
   "mimetype": "text/x-python",
   "name": "python",
   "nbconvert_exporter": "python",
   "pygments_lexer": "ipython3",
   "version": "3.8.8"
  }
 },
 "nbformat": 4,
 "nbformat_minor": 5
}
