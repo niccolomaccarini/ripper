{
 "cells": [
  {
   "cell_type": "markdown",
   "id": "dda8982e",
   "metadata": {},
   "source": [
    "In this notebook we want to verify whether the hyperparameter W consistently varies with the sample size of the training set and the noise in the data. We will test this on all the datasets considered. "
   ]
  },
  {
   "cell_type": "code",
   "execution_count": 1,
   "id": "dc764324",
   "metadata": {},
   "outputs": [],
   "source": [
    "import uci_dataset as data\n",
    "import random\n",
    "random.seed(10)\n",
    "n_rep = 10\n",
    "from sklearn.model_selection import train_test_split\n",
    "from sklearn.model_selection import KFold\n",
    "from sklearn.model_selection import cross_val_score\n",
    "import functions\n",
    "import pandas as pd\n",
    "import pickle\n",
    "import xarray as xr\n",
    "import numpy as np"
   ]
  },
  {
   "cell_type": "code",
   "execution_count": 2,
   "id": "47f20cab",
   "metadata": {},
   "outputs": [],
   "source": [
    "# Set values of the hyperparameters and load the dictionary with all the datasets and class features\n",
    "\n",
    "cv = 10\n",
    "budget = 12\n",
    "\n",
    "with open('datasets_classlabels.pkl', 'rb') as fp:\n",
    "    DFs = pickle.load(fp)"
   ]
  },
  {
   "cell_type": "markdown",
   "id": "ecbf388e",
   "metadata": {},
   "source": [
    "The following chunks will produce the values of W over 10 repetitions for every dataset, taking different sizes for the training set."
   ]
  },
  {
   "cell_type": "code",
   "execution_count": 3,
   "id": "c572faf5",
   "metadata": {},
   "outputs": [],
   "source": [
    "# Create a dictionary with the datasets' names \n",
    "\n",
    "w_df = dict()\n",
    "\n",
    "for name in DFs['names']:\n",
    "    w_df[name] = []\n",
    "    \n",
    "    \n",
    "n = len(w_df)\n",
    "n_repetitions = 10\n",
    "test_sizes = [0.1, 0.2, 0.33, 0.5, 0.66]  # We will study the cases where the test size is this proportion of the total"
   ]
  },
  {
   "cell_type": "code",
   "execution_count": null,
   "id": "4d3fbc0e",
   "metadata": {},
   "outputs": [],
   "source": [
    "#create 3D dataset\n",
    "xarray_3d = xr.Dataset(\n",
    "    {\"thyroid\": ((\"year\", \"quarter\"), np.zeros((len(test_sizes), n_repetitions)))},\n",
    "    coords={\n",
    "        \"test_size\": test_sizes,\n",
    "        \"repetition\": list(range(1, n_repetitions + 1)),\n",
    "    },)\n",
    "    \n",
    "results = xarray_3d.to_dataframe()\n",
    "\n",
    "for j in range(n):\n",
    "    \n",
    "    name = DFs['names'][j]\n",
    "    df = DFs['dfs'][j]\n",
    "    ws = []\n",
    "    class_feat = DFs['class_feats'][j]\n",
    "    pos_class = DFs['pos_classes'][j]\n",
    "    \n",
    "    # If the dataset is different from thyroid first adjourn it adding a new column\n",
    "    if name != 'thyroid':\n",
    "        results[name] = np.zeros((len(test_sizes), len(n_repetitions)))\n",
    "    \n",
    "    for test_size in test_sizes:\n",
    "        ws = []\n",
    "        \n",
    "        for i in range(n_repetitions):\n",
    "\n",
    "            X_train, _ = train_test_split(df, test_size = test_size)\n",
    "            w = functions.param_selection(X_train, class_feat, pos_class, cv = cv, verbosity = False)\n",
    "            ws += []\n",
    "        print(name + ' with test size ' + str(test_size) + ' completed')\n",
    "        \n",
    "        # Define the indexes of the dataframe to adjourn\n",
    "        #indexes = (results.index.get_level_values('test_size') == test_size)\n",
    "        results.loc[test_size, name] = ws"
   ]
  },
  {
   "cell_type": "markdown",
   "id": "3342dd4b",
   "metadata": {},
   "source": [
    "Brutta copia:"
   ]
  },
  {
   "cell_type": "code",
   "execution_count": 11,
   "id": "90e5df2e",
   "metadata": {
    "scrolled": true
   },
   "outputs": [
    {
     "ename": "KeyError",
     "evalue": "'class_feat'",
     "output_type": "error",
     "traceback": [
      "\u001b[1;31m---------------------------------------------------------------------------\u001b[0m",
      "\u001b[1;31mKeyError\u001b[0m                                  Traceback (most recent call last)",
      "\u001b[1;32m<ipython-input-11-71bc8c6ca9fa>\u001b[0m in \u001b[0;36m<module>\u001b[1;34m\u001b[0m\n\u001b[1;32m----> 1\u001b[1;33m \u001b[0mDFs\u001b[0m\u001b[1;33m[\u001b[0m\u001b[1;34m'class_feat'\u001b[0m\u001b[1;33m]\u001b[0m\u001b[1;33m[\u001b[0m\u001b[1;36m0\u001b[0m\u001b[1;33m]\u001b[0m\u001b[1;33m\u001b[0m\u001b[1;33m\u001b[0m\u001b[0m\n\u001b[0m",
      "\u001b[1;31mKeyError\u001b[0m: 'class_feat'"
     ]
    }
   ],
   "source": [
    "DFs['class_feat'][0]"
   ]
  },
  {
   "cell_type": "code",
   "execution_count": 14,
   "id": "92fdeb41",
   "metadata": {},
   "outputs": [
    {
     "data": {
      "text/plain": [
       "[1, 2, 3, 4, 5, 6, 7, 8, 9, 10]"
      ]
     },
     "execution_count": 14,
     "metadata": {},
     "output_type": "execute_result"
    }
   ],
   "source": [
    "list(range(1,11))"
   ]
  },
  {
   "cell_type": "code",
   "execution_count": 80,
   "id": "ff97ae34",
   "metadata": {},
   "outputs": [],
   "source": [
    "#create 3D dataset\n",
    "xarray_3d = xr.Dataset(\n",
    "    {\"product_A\": ((\"year\", \"quarter\"), np.zeros((2,4)))},\n",
    "    coords={\n",
    "        \"year\": [2021, 2022],\n",
    "        \"quarter\": [\"Q1\", \"Q2\", \"Q3\", \"Q4\"],\n",
    "        \"product_B\": 0,\n",
    "       },\n",
    ")"
   ]
  },
  {
   "cell_type": "code",
   "execution_count": 81,
   "id": "3d0ec0e0",
   "metadata": {},
   "outputs": [
    {
     "data": {
      "text/html": [
       "<div>\n",
       "<style scoped>\n",
       "    .dataframe tbody tr th:only-of-type {\n",
       "        vertical-align: middle;\n",
       "    }\n",
       "\n",
       "    .dataframe tbody tr th {\n",
       "        vertical-align: top;\n",
       "    }\n",
       "\n",
       "    .dataframe thead th {\n",
       "        text-align: right;\n",
       "    }\n",
       "</style>\n",
       "<table border=\"1\" class=\"dataframe\">\n",
       "  <thead>\n",
       "    <tr style=\"text-align: right;\">\n",
       "      <th></th>\n",
       "      <th></th>\n",
       "      <th>product_A</th>\n",
       "      <th>product_B</th>\n",
       "    </tr>\n",
       "    <tr>\n",
       "      <th>quarter</th>\n",
       "      <th>year</th>\n",
       "      <th></th>\n",
       "      <th></th>\n",
       "    </tr>\n",
       "  </thead>\n",
       "  <tbody>\n",
       "    <tr>\n",
       "      <th rowspan=\"2\" valign=\"top\">Q1</th>\n",
       "      <th>2021</th>\n",
       "      <td>0.0</td>\n",
       "      <td>0</td>\n",
       "    </tr>\n",
       "    <tr>\n",
       "      <th>2022</th>\n",
       "      <td>0.0</td>\n",
       "      <td>0</td>\n",
       "    </tr>\n",
       "    <tr>\n",
       "      <th rowspan=\"2\" valign=\"top\">Q2</th>\n",
       "      <th>2021</th>\n",
       "      <td>0.0</td>\n",
       "      <td>0</td>\n",
       "    </tr>\n",
       "    <tr>\n",
       "      <th>2022</th>\n",
       "      <td>0.0</td>\n",
       "      <td>0</td>\n",
       "    </tr>\n",
       "    <tr>\n",
       "      <th rowspan=\"2\" valign=\"top\">Q3</th>\n",
       "      <th>2021</th>\n",
       "      <td>0.0</td>\n",
       "      <td>0</td>\n",
       "    </tr>\n",
       "    <tr>\n",
       "      <th>2022</th>\n",
       "      <td>0.0</td>\n",
       "      <td>0</td>\n",
       "    </tr>\n",
       "    <tr>\n",
       "      <th rowspan=\"2\" valign=\"top\">Q4</th>\n",
       "      <th>2021</th>\n",
       "      <td>0.0</td>\n",
       "      <td>0</td>\n",
       "    </tr>\n",
       "    <tr>\n",
       "      <th>2022</th>\n",
       "      <td>0.0</td>\n",
       "      <td>0</td>\n",
       "    </tr>\n",
       "  </tbody>\n",
       "</table>\n",
       "</div>"
      ],
      "text/plain": [
       "              product_A  product_B\n",
       "quarter year                      \n",
       "Q1      2021        0.0          0\n",
       "        2022        0.0          0\n",
       "Q2      2021        0.0          0\n",
       "        2022        0.0          0\n",
       "Q3      2021        0.0          0\n",
       "        2022        0.0          0\n",
       "Q4      2021        0.0          0\n",
       "        2022        0.0          0"
      ]
     },
     "execution_count": 81,
     "metadata": {},
     "output_type": "execute_result"
    }
   ],
   "source": [
    "d = xarray_3d.to_dataframe()\n",
    "d"
   ]
  },
  {
   "cell_type": "code",
   "execution_count": 87,
   "id": "6b486566",
   "metadata": {},
   "outputs": [],
   "source": [
    "v=d.index.get_level_values('year') == '2021'"
   ]
  },
  {
   "cell_type": "code",
   "execution_count": 110,
   "id": "72c24890",
   "metadata": {},
   "outputs": [],
   "source": [
    "d.loc['Q2','product_C'] = [2,3]"
   ]
  },
  {
   "cell_type": "code",
   "execution_count": 111,
   "id": "570df751",
   "metadata": {},
   "outputs": [
    {
     "data": {
      "text/html": [
       "<div>\n",
       "<style scoped>\n",
       "    .dataframe tbody tr th:only-of-type {\n",
       "        vertical-align: middle;\n",
       "    }\n",
       "\n",
       "    .dataframe tbody tr th {\n",
       "        vertical-align: top;\n",
       "    }\n",
       "\n",
       "    .dataframe thead th {\n",
       "        text-align: right;\n",
       "    }\n",
       "</style>\n",
       "<table border=\"1\" class=\"dataframe\">\n",
       "  <thead>\n",
       "    <tr style=\"text-align: right;\">\n",
       "      <th></th>\n",
       "      <th></th>\n",
       "      <th>product_A</th>\n",
       "      <th>product_B</th>\n",
       "      <th>product_C</th>\n",
       "    </tr>\n",
       "    <tr>\n",
       "      <th>quarter</th>\n",
       "      <th>year</th>\n",
       "      <th></th>\n",
       "      <th></th>\n",
       "      <th></th>\n",
       "    </tr>\n",
       "  </thead>\n",
       "  <tbody>\n",
       "    <tr>\n",
       "      <th rowspan=\"2\" valign=\"top\">Q1</th>\n",
       "      <th>2021</th>\n",
       "      <td>0.0</td>\n",
       "      <td>0</td>\n",
       "      <td>1.0</td>\n",
       "    </tr>\n",
       "    <tr>\n",
       "      <th>2022</th>\n",
       "      <td>0.0</td>\n",
       "      <td>0</td>\n",
       "      <td>1.0</td>\n",
       "    </tr>\n",
       "    <tr>\n",
       "      <th rowspan=\"2\" valign=\"top\">Q2</th>\n",
       "      <th>2021</th>\n",
       "      <td>0.0</td>\n",
       "      <td>0</td>\n",
       "      <td>2.0</td>\n",
       "    </tr>\n",
       "    <tr>\n",
       "      <th>2022</th>\n",
       "      <td>0.0</td>\n",
       "      <td>0</td>\n",
       "      <td>3.0</td>\n",
       "    </tr>\n",
       "    <tr>\n",
       "      <th rowspan=\"2\" valign=\"top\">Q3</th>\n",
       "      <th>2021</th>\n",
       "      <td>0.0</td>\n",
       "      <td>0</td>\n",
       "      <td>0.0</td>\n",
       "    </tr>\n",
       "    <tr>\n",
       "      <th>2022</th>\n",
       "      <td>0.0</td>\n",
       "      <td>0</td>\n",
       "      <td>0.0</td>\n",
       "    </tr>\n",
       "    <tr>\n",
       "      <th rowspan=\"2\" valign=\"top\">Q4</th>\n",
       "      <th>2021</th>\n",
       "      <td>0.0</td>\n",
       "      <td>0</td>\n",
       "      <td>0.0</td>\n",
       "    </tr>\n",
       "    <tr>\n",
       "      <th>2022</th>\n",
       "      <td>0.0</td>\n",
       "      <td>0</td>\n",
       "      <td>0.0</td>\n",
       "    </tr>\n",
       "  </tbody>\n",
       "</table>\n",
       "</div>"
      ],
      "text/plain": [
       "              product_A  product_B  product_C\n",
       "quarter year                                 \n",
       "Q1      2021        0.0          0        1.0\n",
       "        2022        0.0          0        1.0\n",
       "Q2      2021        0.0          0        2.0\n",
       "        2022        0.0          0        3.0\n",
       "Q3      2021        0.0          0        0.0\n",
       "        2022        0.0          0        0.0\n",
       "Q4      2021        0.0          0        0.0\n",
       "        2022        0.0          0        0.0"
      ]
     },
     "execution_count": 111,
     "metadata": {},
     "output_type": "execute_result"
    }
   ],
   "source": [
    "d"
   ]
  },
  {
   "cell_type": "code",
   "execution_count": 72,
   "id": "f6c2f064",
   "metadata": {},
   "outputs": [
    {
     "data": {
      "text/plain": [
       "array([[-0.75063736, -1.86914845,  2.52901982, -1.37515322],\n",
       "       [-0.80331296, -0.71204998,  0.22428133, -1.39845241]])"
      ]
     },
     "execution_count": 72,
     "metadata": {},
     "output_type": "execute_result"
    }
   ],
   "source": [
    " np.random.randn(2,4)"
   ]
  },
  {
   "cell_type": "code",
   "execution_count": 77,
   "id": "740b7098",
   "metadata": {},
   "outputs": [
    {
     "data": {
      "text/plain": [
       "array([[0., 0., 0., 0.],\n",
       "       [0., 0., 0., 0.]])"
      ]
     },
     "execution_count": 77,
     "metadata": {},
     "output_type": "execute_result"
    }
   ],
   "source": [
    "np.zeros((2,4))"
   ]
  },
  {
   "cell_type": "code",
   "execution_count": null,
   "id": "059454c6",
   "metadata": {},
   "outputs": [],
   "source": []
  }
 ],
 "metadata": {
  "kernelspec": {
   "display_name": "Python 3",
   "language": "python",
   "name": "python3"
  },
  "language_info": {
   "codemirror_mode": {
    "name": "ipython",
    "version": 3
   },
   "file_extension": ".py",
   "mimetype": "text/x-python",
   "name": "python",
   "nbconvert_exporter": "python",
   "pygments_lexer": "ipython3",
   "version": "3.8.8"
  }
 },
 "nbformat": 4,
 "nbformat_minor": 5
}
