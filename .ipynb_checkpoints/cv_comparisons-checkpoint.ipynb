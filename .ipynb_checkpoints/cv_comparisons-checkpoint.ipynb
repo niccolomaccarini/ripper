{
 "cells": [
  {
   "cell_type": "markdown",
   "id": "314a5ecc",
   "metadata": {},
   "source": [
    "We will compare the performance of standard RIPPERk with enchanced RIPPERk. In the improved version we will first perform a hyperparameter selection step to choose the best value for W, then compare the two algorithms using the accuracy rate."
   ]
  },
  {
   "cell_type": "code",
   "execution_count": 1,
   "id": "6f01ac84",
   "metadata": {},
   "outputs": [],
   "source": [
    "import uci_dataset as data\n",
    "import random\n",
    "random.seed(10)\n",
    "n_rep = 10\n",
    "from sklearn.model_selection import train_test_split"
   ]
  },
  {
   "cell_type": "code",
   "execution_count": 2,
   "id": "7a9c40b0",
   "metadata": {},
   "outputs": [],
   "source": [
    "import functions\n",
    "import pandas as pd"
   ]
  },
  {
   "cell_type": "code",
   "execution_count": 3,
   "id": "14c4c393",
   "metadata": {},
   "outputs": [],
   "source": [
    "# Set values of the hyperparameters\n",
    "\n",
    "cv = 5\n",
    "budget = 12"
   ]
  },
  {
   "cell_type": "markdown",
   "id": "caa2e22b",
   "metadata": {},
   "source": [
    "# Thyroid dataset"
   ]
  },
  {
   "cell_type": "code",
   "execution_count": 4,
   "id": "d6d74a38",
   "metadata": {},
   "outputs": [],
   "source": [
    "df = data.load_thyroid_disease()"
   ]
  },
  {
   "cell_type": "code",
   "execution_count": 5,
   "id": "96e627c1",
   "metadata": {},
   "outputs": [],
   "source": [
    "class_feat = 'sick-euthyroid'\n",
    "pos_class = 'sick-euthyroid'"
   ]
  },
  {
   "cell_type": "code",
   "execution_count": null,
   "id": "d76c3cce",
   "metadata": {
    "scrolled": true
   },
   "outputs": [],
   "source": [
    "functions.acc_rate_with_param_selection(df, class_feat, pos_class, cv = cv, param = 'W', W = None, budget = budget)"
   ]
  },
  {
   "cell_type": "markdown",
   "id": "f50be318",
   "metadata": {},
   "source": [
    "# Audiology (Standardized) Data Set"
   ]
  },
  {
   "cell_type": "code",
   "execution_count": null,
   "id": "a32b139b",
   "metadata": {},
   "outputs": [],
   "source": [
    "df = data.load_audiology()"
   ]
  },
  {
   "cell_type": "code",
   "execution_count": null,
   "id": "f885f9c2",
   "metadata": {},
   "outputs": [],
   "source": [
    "class_feat = 'Class'\n",
    "pos_class = 'cochlear_poss_noise'"
   ]
  },
  {
   "cell_type": "code",
   "execution_count": null,
   "id": "df92d001",
   "metadata": {},
   "outputs": [],
   "source": [
    "functions.acc_rate_with_param_selection(df, class_feat, pos_class, cv = cv, param = 'W', W = None, budget = budget)"
   ]
  },
  {
   "cell_type": "markdown",
   "id": "91be3b4f",
   "metadata": {},
   "source": [
    "# Autism Screening Dataset"
   ]
  },
  {
   "cell_type": "code",
   "execution_count": null,
   "id": "94bed7ff",
   "metadata": {},
   "outputs": [],
   "source": [
    "df = data.load_autism_screening()"
   ]
  },
  {
   "cell_type": "code",
   "execution_count": null,
   "id": "b85c582d",
   "metadata": {},
   "outputs": [],
   "source": [
    "class_feat = 'Class/ASD'\n",
    "pos_class = 'YES'"
   ]
  },
  {
   "cell_type": "code",
   "execution_count": null,
   "id": "de117260",
   "metadata": {},
   "outputs": [],
   "source": [
    "functions.acc_rate_with_param_selection(df, class_feat, pos_class, cv = cv, param = 'W', W = None, budget = budget)"
   ]
  },
  {
   "cell_type": "markdown",
   "id": "4b1f3755",
   "metadata": {},
   "source": [
    "#  Adult Data Set "
   ]
  },
  {
   "cell_type": "code",
   "execution_count": null,
   "id": "84365290",
   "metadata": {},
   "outputs": [],
   "source": [
    "df = pd.read_csv('https://archive.ics.uci.edu/ml/machine-learning-databases/adult/adult.data')"
   ]
  },
  {
   "cell_type": "code",
   "execution_count": null,
   "id": "a494f185",
   "metadata": {},
   "outputs": [],
   "source": [
    "class_feat = ' <=50K'\n",
    "pos_class = ' <=50K'"
   ]
  },
  {
   "cell_type": "code",
   "execution_count": null,
   "id": "7b404c35",
   "metadata": {},
   "outputs": [],
   "source": [
    "functions.acc_rate_with_param_selection(df, class_feat, pos_class, cv = cv, param = 'W', W = None, budget = budget)"
   ]
  },
  {
   "cell_type": "markdown",
   "id": "23cfcef1",
   "metadata": {},
   "source": [
    "#  Arrhythmia Data Set "
   ]
  },
  {
   "cell_type": "code",
   "execution_count": null,
   "id": "0f2fc9ac",
   "metadata": {},
   "outputs": [],
   "source": [
    "df = data.load_arrhythmia()"
   ]
  },
  {
   "cell_type": "code",
   "execution_count": null,
   "id": "9f8b9075",
   "metadata": {},
   "outputs": [],
   "source": [
    "class_feat = 'diagnosis'\n",
    "pos_class = 1"
   ]
  },
  {
   "cell_type": "code",
   "execution_count": null,
   "id": "68a385eb",
   "metadata": {},
   "outputs": [],
   "source": [
    "functions.acc_rate_with_param_selection(df, class_feat, pos_class, cv = cv, param = 'W', W = None, budget = budget)"
   ]
  },
  {
   "cell_type": "code",
   "execution_count": null,
   "id": "f2bdfb7e",
   "metadata": {},
   "outputs": [],
   "source": []
  }
 ],
 "metadata": {
  "kernelspec": {
   "display_name": "Python 3",
   "language": "python",
   "name": "python3"
  },
  "language_info": {
   "codemirror_mode": {
    "name": "ipython",
    "version": 3
   },
   "file_extension": ".py",
   "mimetype": "text/x-python",
   "name": "python",
   "nbconvert_exporter": "python",
   "pygments_lexer": "ipython3",
   "version": "3.8.8"
  }
 },
 "nbformat": 4,
 "nbformat_minor": 5
}
