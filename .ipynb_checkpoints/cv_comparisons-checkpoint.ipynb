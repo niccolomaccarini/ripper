{
 "cells": [
  {
   "cell_type": "markdown",
   "id": "56213b26",
   "metadata": {},
   "source": [
    "We will compare the performance of standard RIPPERk with enchanced RIPPERk. In the improved version we will first perform a hyperparameter selection step to choose the best value for W, then compare the two algorithms using the accuracy rate."
   ]
  },
  {
   "cell_type": "code",
   "execution_count": 1,
   "id": "bf5773b5",
   "metadata": {},
   "outputs": [],
   "source": [
    "import uci_dataset as data\n",
    "import random\n",
    "random.seed(10)\n",
    "n_rep = 10\n",
    "from sklearn.model_selection import train_test_split"
   ]
  },
  {
   "cell_type": "markdown",
   "id": "6de73718",
   "metadata": {},
   "source": [
    "# Thyroid dataset"
   ]
  },
  {
   "cell_type": "code",
   "execution_count": 2,
   "id": "8eab7a52",
   "metadata": {},
   "outputs": [],
   "source": [
    "df = data.load_thyroid_disease()"
   ]
  },
  {
   "cell_type": "code",
   "execution_count": 3,
   "id": "385d7df4",
   "metadata": {},
   "outputs": [],
   "source": [
    "class_feat = 'sick-euthyroid'\n",
    "pos_class = 'sick-euthyroid'"
   ]
  },
  {
   "cell_type": "code",
   "execution_count": null,
   "id": "dee172d6",
   "metadata": {},
   "outputs": [],
   "source": []
  }
 ],
 "metadata": {
  "kernelspec": {
   "display_name": "Python 3",
   "language": "python",
   "name": "python3"
  },
  "language_info": {
   "codemirror_mode": {
    "name": "ipython",
    "version": 3
   },
   "file_extension": ".py",
   "mimetype": "text/x-python",
   "name": "python",
   "nbconvert_exporter": "python",
   "pygments_lexer": "ipython3",
   "version": "3.8.8"
  }
 },
 "nbformat": 4,
 "nbformat_minor": 5
}
