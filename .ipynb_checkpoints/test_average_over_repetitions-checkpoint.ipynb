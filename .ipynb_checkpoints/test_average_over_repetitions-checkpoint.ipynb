{
 "cells": [
  {
   "cell_type": "code",
   "execution_count": 20,
   "id": "3dda4673",
   "metadata": {},
   "outputs": [],
   "source": [
    "# Import all the necessary packages\n",
    "\n",
    "import numpy as np\n",
    "import pandas as pd\n",
    "import scipy\n",
    "import uci_dataset as data\n",
    "import random\n",
    "random.seed(10)\n",
    "\n",
    "# The results will depend on the random train-test split, so we average the accuracies over a certain number of repetitions\n",
    "n_rep = 40\n",
    "\n",
    "import wittgenstein2 as lw\n",
    "from sklearn.model_selection import train_test_split\n",
    "from sklearn.metrics import accuracy_score\n",
    "from datetime import datetime"
   ]
  },
  {
   "cell_type": "code",
   "execution_count": null,
   "id": "b58e5243",
   "metadata": {},
   "outputs": [],
   "source": [
    "# Define a dictionary with the datasets we want to consider when experimenting\n",
    "# dfs = ..."
   ]
  },
  {
   "cell_type": "code",
   "execution_count": 31,
   "id": "5bb2ec35",
   "metadata": {
    "scrolled": true
   },
   "outputs": [],
   "source": [
    "import numpy as np\n",
    "import time\n",
    "from Helper import LearningCurvePlot, smooth\n",
    "\n",
    "\n",
    "def average_over_repetitions(smoothing_window, n_repetitions, df, W, class_feat, pos_class, name_test):\n",
    "    acc = np.empty([n_repetitions]) # accuracies array\n",
    "    now = datetime.now()\n",
    "    \n",
    "    for i in range(n_repetitions):\n",
    "        X_train, X_test = train_test_split(df, test_size = 0.2)\n",
    "        ripper_clf = lw.RIPPER(k=2, verbosity = 1, W = W)\n",
    "        ripper_clf.fit(X_train, class_feat = class_feat, pos_class = pos_class)\n",
    "        y_test = X_test[pos_class]\n",
    "        score = ripper_clf.score(X_test, y_test)\n",
    "        acc += [score]\n",
    "        \n",
    "    # Save results to a text file\n",
    "    np.savetxt('Results/' + name_test + '_W' + str(W) + '_time' + now.strftime(\"%d-%m-%Y_%H.%M.%S\"),acc,delimiter = ',')\n",
    "    \n",
    "    print('Running one setting takes {} minutes'.format((time.time()-now)/60))\n",
    "    learning_curve = np.mean(acc,axis=0) # average over repetitions\n",
    "    learning_curve = smooth(learning_curve,smoothing_window) # additional smoothing\n",
    "    return learning_curve, acc\n",
    "\n",
    "def experiment(n_repetitions, DFs, Ws = np.arange(0,1,0.01)):\n",
    "    ####### Settings\n",
    "    # Experiment    \n",
    "    # Here DFs should be a dataframe with columns:\n",
    "    #        data: containing the keys to a dictionary of dataframes\n",
    "    #        class_feat: containing the class feature for each dataset\n",
    "    #        pos_class: containing the name of the positive class\n",
    "    smoothing_window = 24\n",
    "    \n",
    "    # Plotting parameters\n",
    "    plot = True\n",
    "    \n",
    "    ####### Experiments\n",
    "    \n",
    "    #Plot1 = LearningCurvePlot(title = labels[problem] + ' problem solved with ' + labels[method])\n",
    "    \n",
    "    for name_test in DFs:\n",
    "        Plot1 = LearningCurvePlot(title = name_test)\n",
    "        for W in Ws:\n",
    "            learning_curve = average_over_repetitions(smoothing_window, n_repetitions, dfs[name_test], W,\n",
    "                                                            class_feat, pos_class, name_test)\n",
    "            Plot1.add_curve(learning_curve,label = name_test + str(W))\n",
    "    Plot1.save(name_test + '_' + labels[problem] + '.png')"
   ]
  },
  {
   "cell_type": "code",
   "execution_count": null,
   "id": "ba69d377",
   "metadata": {},
   "outputs": [],
   "source": []
  }
 ],
 "metadata": {
  "kernelspec": {
   "display_name": "Python 3",
   "language": "python",
   "name": "python3"
  },
  "language_info": {
   "codemirror_mode": {
    "name": "ipython",
    "version": 3
   },
   "file_extension": ".py",
   "mimetype": "text/x-python",
   "name": "python",
   "nbconvert_exporter": "python",
   "pygments_lexer": "ipython3",
   "version": "3.8.8"
  }
 },
 "nbformat": 4,
 "nbformat_minor": 5
}
