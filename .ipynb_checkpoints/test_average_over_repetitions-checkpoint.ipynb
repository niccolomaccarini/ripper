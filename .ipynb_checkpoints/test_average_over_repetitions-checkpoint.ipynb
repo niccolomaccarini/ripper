{
 "cells": [
  {
   "cell_type": "code",
   "execution_count": 18,
   "id": "4b185821",
   "metadata": {},
   "outputs": [],
   "source": [
    "# Import all the necessary packages\n",
    "\n",
    "import numpy as np\n",
    "import pandas as pd\n",
    "import scipy\n",
    "import uci_dataset as data\n",
    "import random\n",
    "random.seed(10)\n",
    "\n",
    "# The results will depend on the random train-test split, so we average the accuracies over a certain number of repetitions\n",
    "n_rep = 40\n",
    "\n",
    "import wittgenstein3 as lw\n",
    "from sklearn.model_selection import train_test_split\n",
    "from sklearn.metrics import accuracy_score\n",
    "from datetime import datetime"
   ]
  },
  {
   "cell_type": "code",
   "execution_count": 19,
   "id": "b54e17c8",
   "metadata": {},
   "outputs": [],
   "source": [
    "# Define a dictionary with the datasets we want to consider when experimenting\n",
    "# dfs = ..."
   ]
  },
  {
   "cell_type": "code",
   "execution_count": 71,
   "id": "5bb2ec35",
   "metadata": {
    "scrolled": true
   },
   "outputs": [],
   "source": [
    "import numpy as np\n",
    "import time\n",
    "from Helper import LearningCurvePlot, smooth\n",
    "\n",
    "\n",
    "def average_over_repetitions(smoothing_window, n_repetitions, df, W, class_feat, pos_class, name_test, verbosity = 0):\n",
    "    acc = np.empty([n_repetitions]) # accuracies array\n",
    "    now = datetime.now()\n",
    "    \n",
    "    for i in range(n_repetitions):\n",
    "        X_train, X_test = train_test_split(df, test_size = 0.2)\n",
    "        ripper_clf = lw.RIPPER(k=2, verbosity = verbosity, W = W)\n",
    "        ripper_clf.fit(X_train, class_feat = class_feat, pos_class = pos_class)\n",
    "        y_test = X_test[pos_class]\n",
    "        score = ripper_clf.score(X_test, y_test)\n",
    "        acc += [score]\n",
    "        \n",
    "    # Save results to a text file\n",
    "    np.savetxt('Results/' + name_test + '_W' + str(W) + '_time' + now.strftime(\"%d-%m-%Y_%H.%M.%S\"),acc,delimiter = ',')\n",
    "    \n",
    "    now = time.time()\n",
    "    print('Running one setting takes {} minutes'.format((time.time()-now)/60))\n",
    "    learning_curve = np.mean(acc,axis=0) # average over repetitions\n",
    "    learning_curve = smooth(learning_curve,smoothing_window) # additional smoothing\n",
    "    return learning_curve, acc\n",
    "\n",
    "def experiment(n_repetitions, DFs, verbosity = 0, Ws = np.arange(0,1,0.01)):\n",
    "    ####### Settings\n",
    "    # Experiment    \n",
    "    # Here DFs should be a dataframe with columns:\n",
    "    #        data: containing the keys to a dictionary of dataframes\n",
    "    #        class_feat: containing the class feature for each dataset\n",
    "    #        pos_class: containing the name of the positive class\n",
    "    smoothing_window = 24\n",
    "    \n",
    "    # Plotting parameters\n",
    "    plot = True\n",
    "    \n",
    "    ####### Experiments\n",
    "    \n",
    "    #Plot1 = LearningCurvePlot(title = labels[problem] + ' problem solved with ' + labels[method])\n",
    "    \n",
    "    for name_test in DFs['tests']:\n",
    "        Plot1 = LearningCurvePlot(title = name_test)\n",
    "        class_feat = DFs['class'][DFs.tests == name_test][0]\n",
    "        pos_class = DFs['pos'][DFs.tests == name_test][0]\n",
    "        \n",
    "        for W in Ws:\n",
    "            learning_curve, _ = average_over_repetitions(smoothing_window, n_repetitions, dfs[name_test], W,\n",
    "                                                            class_feat, pos_class, name_test, verbosity)\n",
    "            Plot1.add_curve(learning_curve,label = name_test + str(W))\n",
    "    Plot1.save(name_test + '_' + labels[problem] + '.png')"
   ]
  },
  {
   "cell_type": "markdown",
   "id": "96dc3460",
   "metadata": {},
   "source": [
    "Now let's rerun the previous tests by looking at all the possible values of W."
   ]
  },
  {
   "cell_type": "markdown",
   "id": "15e807d9",
   "metadata": {},
   "source": [
    "# Thyroid dataset"
   ]
  },
  {
   "cell_type": "code",
   "execution_count": 72,
   "id": "21cafe74",
   "metadata": {},
   "outputs": [],
   "source": [
    "df = data.load_thyroid_disease()"
   ]
  },
  {
   "cell_type": "code",
   "execution_count": 73,
   "id": "87c19229",
   "metadata": {},
   "outputs": [],
   "source": [
    "name_test = 'Thyroid'"
   ]
  },
  {
   "cell_type": "code",
   "execution_count": 74,
   "id": "95abed50",
   "metadata": {},
   "outputs": [],
   "source": [
    "dfs = {'Thyroid':df}"
   ]
  },
  {
   "cell_type": "code",
   "execution_count": 75,
   "id": "4c9211bd",
   "metadata": {},
   "outputs": [],
   "source": [
    "DFs = pd.DataFrame({'tests': [name_test], 'class': ['sick-euthyroid'], 'pos': ['sick-euthyroid']})"
   ]
  },
  {
   "cell_type": "code",
   "execution_count": null,
   "id": "c8a0d69c",
   "metadata": {},
   "outputs": [],
   "source": [
    "experiment(40, DFs, Ws = np.arange(0,1,0.01))"
   ]
  },
  {
   "cell_type": "markdown",
   "id": "15a03423",
   "metadata": {},
   "source": [
    "# Audiology (Standardized) Data Set"
   ]
  },
  {
   "cell_type": "code",
   "execution_count": null,
   "id": "023c0698",
   "metadata": {},
   "outputs": [],
   "source": [
    "df = data.load_audiology()"
   ]
  },
  {
   "cell_type": "code",
   "execution_count": null,
   "id": "67b4c5f4",
   "metadata": {},
   "outputs": [],
   "source": [
    "name_test = 'audiology'"
   ]
  },
  {
   "cell_type": "code",
   "execution_count": null,
   "id": "4ddadf54",
   "metadata": {},
   "outputs": [],
   "source": [
    "dfs = {'audiology':df}"
   ]
  },
  {
   "cell_type": "code",
   "execution_count": null,
   "id": "7e6e0e7d",
   "metadata": {},
   "outputs": [],
   "source": [
    "DFs = pd.DataFrame({'tests': [name_test], 'class': ['Class'], 'pos': ['cochlear_poss_noise']})"
   ]
  },
  {
   "cell_type": "code",
   "execution_count": null,
   "id": "3d0f2645",
   "metadata": {},
   "outputs": [],
   "source": [
    "experiment(40, DFs)"
   ]
  },
  {
   "cell_type": "markdown",
   "id": "b168a9ae",
   "metadata": {},
   "source": [
    "# Autism Screening Dataset"
   ]
  },
  {
   "cell_type": "code",
   "execution_count": null,
   "id": "987c85a3",
   "metadata": {},
   "outputs": [],
   "source": [
    "df = data.load_autism_screening()"
   ]
  },
  {
   "cell_type": "code",
   "execution_count": null,
   "id": "210a31b2",
   "metadata": {},
   "outputs": [],
   "source": [
    "name_test = 'autism'"
   ]
  },
  {
   "cell_type": "code",
   "execution_count": null,
   "id": "b2bce590",
   "metadata": {},
   "outputs": [],
   "source": [
    "dfs = {'autism':df}"
   ]
  },
  {
   "cell_type": "code",
   "execution_count": null,
   "id": "4b889100",
   "metadata": {},
   "outputs": [],
   "source": [
    "DFs = pd.DataFrame({'tests': [name_test], 'class': ['Class/ASD'], 'pos': ['YES']})"
   ]
  },
  {
   "cell_type": "code",
   "execution_count": null,
   "id": "72d32894",
   "metadata": {},
   "outputs": [],
   "source": [
    "experiment(40, DFs)"
   ]
  },
  {
   "cell_type": "markdown",
   "id": "bd757af0",
   "metadata": {},
   "source": [
    "# Adult Data Set"
   ]
  },
  {
   "cell_type": "code",
   "execution_count": null,
   "id": "dca25216",
   "metadata": {},
   "outputs": [],
   "source": [
    "df = pd.read_csv('https://archive.ics.uci.edu/ml/machine-learning-databases/adult/adult.data')"
   ]
  },
  {
   "cell_type": "code",
   "execution_count": null,
   "id": "1c0f34b1",
   "metadata": {},
   "outputs": [],
   "source": [
    "name_test = 'adult'"
   ]
  },
  {
   "cell_type": "code",
   "execution_count": null,
   "id": "32d85298",
   "metadata": {},
   "outputs": [],
   "source": [
    "dfs = {'adult':df}"
   ]
  },
  {
   "cell_type": "code",
   "execution_count": null,
   "id": "286eb695",
   "metadata": {},
   "outputs": [],
   "source": [
    "DFs = pd.DataFrame({'tests': [name_test], 'class': [' <=50K'], 'pos': [' <=50K']})"
   ]
  },
  {
   "cell_type": "code",
   "execution_count": null,
   "id": "bf0a19bb",
   "metadata": {},
   "outputs": [],
   "source": [
    "experiment(40, DFs)"
   ]
  },
  {
   "cell_type": "markdown",
   "id": "7a51bed0",
   "metadata": {},
   "source": [
    "# Arrhythmia Data Set "
   ]
  },
  {
   "cell_type": "code",
   "execution_count": null,
   "id": "cc8bbe99",
   "metadata": {},
   "outputs": [],
   "source": [
    "df = data.load_arrhythmia()"
   ]
  },
  {
   "cell_type": "code",
   "execution_count": null,
   "id": "423ce460",
   "metadata": {},
   "outputs": [],
   "source": [
    "name_test = 'arrhythmia'"
   ]
  },
  {
   "cell_type": "code",
   "execution_count": null,
   "id": "7dc0ebb9",
   "metadata": {},
   "outputs": [],
   "source": [
    "dfs = {'arrhythmia':df}"
   ]
  },
  {
   "cell_type": "code",
   "execution_count": null,
   "id": "ca73300d",
   "metadata": {},
   "outputs": [],
   "source": [
    "DFs = pd.DataFrame({'tests': [name_test], 'class': ['diagnosis'], 'pos': [1]})"
   ]
  },
  {
   "cell_type": "code",
   "execution_count": null,
   "id": "cbbb2f17",
   "metadata": {},
   "outputs": [],
   "source": [
    "experiment(40, DFs)"
   ]
  },
  {
   "cell_type": "code",
   "execution_count": null,
   "id": "f1990c77",
   "metadata": {},
   "outputs": [],
   "source": []
  }
 ],
 "metadata": {
  "kernelspec": {
   "display_name": "Python 3",
   "language": "python",
   "name": "python3"
  },
  "language_info": {
   "codemirror_mode": {
    "name": "ipython",
    "version": 3
   },
   "file_extension": ".py",
   "mimetype": "text/x-python",
   "name": "python",
   "nbconvert_exporter": "python",
   "pygments_lexer": "ipython3",
   "version": "3.8.8"
  }
 },
 "nbformat": 4,
 "nbformat_minor": 5
}
