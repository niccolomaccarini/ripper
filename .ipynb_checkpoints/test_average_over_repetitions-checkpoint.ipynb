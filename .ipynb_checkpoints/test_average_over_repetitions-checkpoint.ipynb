{
 "cells": [
  {
   "cell_type": "code",
   "execution_count": 1,
   "id": "8a4b1bd0",
   "metadata": {},
   "outputs": [],
   "source": [
    "# Import all the necessary packages\n",
    "\n",
    "import numpy as np\n",
    "import pandas as pd\n",
    "import scipy\n",
    "import uci_dataset as data\n",
    "import random\n",
    "random.seed(10)\n",
    "\n",
    "# The results will depend on the random train-test split, so we average the accuracies over a certain number of repetitions\n",
    "n_rep = 40\n",
    "\n",
    "import wittgenstein3 as lw\n",
    "from sklearn.model_selection import train_test_split\n",
    "from sklearn.metrics import accuracy_score\n",
    "from datetime import datetime"
   ]
  },
  {
   "cell_type": "code",
   "execution_count": 2,
   "id": "6149c736",
   "metadata": {},
   "outputs": [],
   "source": [
    "# Define a dictionary with the datasets we want to consider when experimenting\n",
    "# dfs = ..."
   ]
  },
  {
   "cell_type": "code",
   "execution_count": 3,
   "id": "135b71a2",
   "metadata": {},
   "outputs": [],
   "source": [
    "# Dictionary of accuracies of standard RIPPERk on all datasets\n",
    "\n",
    "stand_acc = {'Thyroid': 0.946, 'audiology': 0.9738, 'autism': 0.9968, 'adult': 0.7099, 'arrhythmia': 0.5262}"
   ]
  },
  {
   "cell_type": "code",
   "execution_count": 4,
   "id": "5bb2ec35",
   "metadata": {
    "scrolled": true
   },
   "outputs": [],
   "source": [
    "import time\n",
    "from Helper import LearningCurvePlot, smooth\n",
    "\n",
    "\n",
    "def average_over_repetitions(n_repetitions, smoothing_window, df, Ws, class_feat, pos_class, name_test, verbosity = 0):\n",
    "    acc = np.empty([n_repetitions, len(Ws)]) # accuracies array\n",
    "    start = datetime.now()\n",
    "    start2 = time.time()\n",
    "    \n",
    "    for i in range(n_repetitions):\n",
    "        for j in range(len(Ws)):\n",
    "            W = Ws[j]\n",
    "            X_train, X_test = train_test_split(df, test_size = 0.2)\n",
    "            ripper_clf = lw.RIPPER(k=2, verbosity = verbosity, W = W)\n",
    "            ripper_clf.fit(X_train, class_feat = class_feat, pos_class = pos_class)\n",
    "            y_test = X_test[class_feat]\n",
    "            score = ripper_clf.score(X_test, y_test)\n",
    "            acc[i,j] = score\n",
    "        \n",
    "    # Save results to a text file\n",
    "    np.savetxt('Results/' + name_test + '_time' + start.strftime(\"%d-%m-%Y_%H.%M.%S\"),acc,delimiter = ',')\n",
    "    \n",
    "    print('Running the test takes {} minutes'.format((time.time()-start2)/60))\n",
    "    learning_curve = np.mean(acc, axis = 0) # average over repetitions\n",
    "    learning_curve = smooth(learning_curve,smoothing_window) # additional smoothing\n",
    "    return learning_curve, acc\n",
    "\n",
    "def experiment(n_repetitions, DFs, verbosity = 0, Ws = np.arange(0,1,0.01)):\n",
    "    ####### Settings\n",
    "    # Experiment    \n",
    "    # Here DFs should be a dataframe with columns:\n",
    "    #        data: containing the keys to a dictionary of dataframes\n",
    "    #        class_feat: containing the class feature for each dataset\n",
    "    #        pos_class: containing the name of the positive class\n",
    "    \n",
    "    # Plotting parameters\n",
    "    plot = True\n",
    "    smoothing_window = 2\n",
    "    \n",
    "    ####### Experiments\n",
    "    \n",
    "    #Plot1 = LearningCurvePlot(title = labels[problem] + ' problem solved with ' + labels[method])\n",
    "    \n",
    "    for name_test in DFs['tests']:\n",
    "        Plot1 = LearningCurvePlot(title = name_test)\n",
    "        Plot1.add_hline(stand_acc[name_test], 'standard' + name_test)\n",
    "        class_feat = DFs['class'][DFs.tests == name_test][0]\n",
    "        pos_class = DFs['pos'][DFs.tests == name_test][0]\n",
    "        \n",
    "        learning_curve, _ = average_over_repetitions(n_repetitions, smoothing_window, dfs[name_test], Ws,\n",
    "                                                            class_feat, pos_class, name_test, verbosity)\n",
    "        Plot1.add_curve(learning_curve,label = name_test)\n",
    "    Plot1.save(name_test + '_' + 'test_W' + '.png')"
   ]
  },
  {
   "cell_type": "markdown",
   "id": "e2e20cab",
   "metadata": {},
   "source": [
    "Now let's rerun the previous tests by looking at all the possible values of W."
   ]
  },
  {
   "cell_type": "markdown",
   "id": "4359dd17",
   "metadata": {},
   "source": [
    "# Thyroid dataset"
   ]
  },
  {
   "cell_type": "code",
   "execution_count": null,
   "id": "b8f3fc91",
   "metadata": {},
   "outputs": [],
   "source": [
    "df = data.load_thyroid_disease()"
   ]
  },
  {
   "cell_type": "code",
   "execution_count": null,
   "id": "1b35b43d",
   "metadata": {},
   "outputs": [],
   "source": [
    "name_test = 'Thyroid'"
   ]
  },
  {
   "cell_type": "code",
   "execution_count": null,
   "id": "dd474e39",
   "metadata": {},
   "outputs": [],
   "source": [
    "dfs = {'Thyroid':df}"
   ]
  },
  {
   "cell_type": "code",
   "execution_count": null,
   "id": "88e72cc4",
   "metadata": {},
   "outputs": [],
   "source": [
    "DFs = pd.DataFrame({'tests': [name_test], 'class': ['sick-euthyroid'], 'pos': ['sick-euthyroid']})"
   ]
  },
  {
   "cell_type": "code",
   "execution_count": null,
   "id": "27021cce",
   "metadata": {},
   "outputs": [],
   "source": [
    "experiment(40, DFs, Ws = np.arange(0,1,0.01))"
   ]
  },
  {
   "cell_type": "markdown",
   "id": "9efa1285",
   "metadata": {},
   "source": [
    "# Audiology (Standardized) Data Set"
   ]
  },
  {
   "cell_type": "code",
   "execution_count": null,
   "id": "2663da10",
   "metadata": {},
   "outputs": [],
   "source": [
    "df = data.load_audiology()"
   ]
  },
  {
   "cell_type": "code",
   "execution_count": null,
   "id": "b1002f21",
   "metadata": {},
   "outputs": [],
   "source": [
    "name_test = 'audiology'"
   ]
  },
  {
   "cell_type": "code",
   "execution_count": null,
   "id": "18a6d55e",
   "metadata": {},
   "outputs": [],
   "source": [
    "dfs = {'audiology':df}"
   ]
  },
  {
   "cell_type": "code",
   "execution_count": null,
   "id": "8c8b0779",
   "metadata": {},
   "outputs": [],
   "source": [
    "DFs = pd.DataFrame({'tests': [name_test], 'class': ['Class'], 'pos': ['cochlear_poss_noise']})"
   ]
  },
  {
   "cell_type": "code",
   "execution_count": null,
   "id": "eae83082",
   "metadata": {},
   "outputs": [],
   "source": [
    "experiment(40, DFs)"
   ]
  },
  {
   "cell_type": "markdown",
   "id": "633aa988",
   "metadata": {},
   "source": [
    "# Autism Screening Dataset"
   ]
  },
  {
   "cell_type": "code",
   "execution_count": null,
   "id": "b4b6eebb",
   "metadata": {},
   "outputs": [],
   "source": [
    "df = data.load_autism_screening()"
   ]
  },
  {
   "cell_type": "code",
   "execution_count": null,
   "id": "cd280b82",
   "metadata": {},
   "outputs": [],
   "source": [
    "name_test = 'autism'"
   ]
  },
  {
   "cell_type": "code",
   "execution_count": null,
   "id": "f104787b",
   "metadata": {},
   "outputs": [],
   "source": [
    "dfs = {'autism':df}"
   ]
  },
  {
   "cell_type": "code",
   "execution_count": null,
   "id": "83786743",
   "metadata": {},
   "outputs": [],
   "source": [
    "DFs = pd.DataFrame({'tests': [name_test], 'class': ['Class/ASD'], 'pos': ['YES']})"
   ]
  },
  {
   "cell_type": "code",
   "execution_count": null,
   "id": "206fe1ae",
   "metadata": {},
   "outputs": [],
   "source": [
    "experiment(40, DFs)"
   ]
  },
  {
   "cell_type": "markdown",
   "id": "f817d8ca",
   "metadata": {},
   "source": [
    "# Adult Data Set"
   ]
  },
  {
   "cell_type": "code",
   "execution_count": null,
   "id": "1ac77cc3",
   "metadata": {},
   "outputs": [],
   "source": [
    "df = pd.read_csv('https://archive.ics.uci.edu/ml/machine-learning-databases/adult/adult.data')"
   ]
  },
  {
   "cell_type": "code",
   "execution_count": null,
   "id": "cbc340d7",
   "metadata": {},
   "outputs": [],
   "source": [
    "name_test = 'adult'"
   ]
  },
  {
   "cell_type": "code",
   "execution_count": null,
   "id": "7424c583",
   "metadata": {},
   "outputs": [],
   "source": [
    "dfs = {'adult':df}"
   ]
  },
  {
   "cell_type": "code",
   "execution_count": null,
   "id": "6ba49b42",
   "metadata": {},
   "outputs": [],
   "source": [
    "DFs = pd.DataFrame({'tests': [name_test], 'class': [' <=50K'], 'pos': [' <=50K']})"
   ]
  },
  {
   "cell_type": "code",
   "execution_count": null,
   "id": "9eb5f57a",
   "metadata": {},
   "outputs": [],
   "source": [
    "experiment(40, DFs)"
   ]
  },
  {
   "cell_type": "markdown",
   "id": "837d5543",
   "metadata": {},
   "source": [
    "# Arrhythmia Data Set "
   ]
  },
  {
   "cell_type": "code",
   "execution_count": null,
   "id": "c67ca798",
   "metadata": {},
   "outputs": [],
   "source": [
    "df = data.load_arrhythmia()"
   ]
  },
  {
   "cell_type": "code",
   "execution_count": null,
   "id": "a87aa231",
   "metadata": {},
   "outputs": [],
   "source": [
    "name_test = 'arrhythmia'"
   ]
  },
  {
   "cell_type": "code",
   "execution_count": null,
   "id": "87448252",
   "metadata": {},
   "outputs": [],
   "source": [
    "dfs = {'arrhythmia':df}"
   ]
  },
  {
   "cell_type": "code",
   "execution_count": null,
   "id": "fed26ae6",
   "metadata": {},
   "outputs": [],
   "source": [
    "DFs = pd.DataFrame({'tests': [name_test], 'class': ['diagnosis'], 'pos': [1]})"
   ]
  },
  {
   "cell_type": "code",
   "execution_count": null,
   "id": "b65a8e12",
   "metadata": {},
   "outputs": [],
   "source": [
    "experiment(40, DFs)"
   ]
  },
  {
   "cell_type": "code",
   "execution_count": null,
   "id": "20377401",
   "metadata": {},
   "outputs": [],
   "source": []
  },
  {
   "cell_type": "code",
   "execution_count": null,
   "id": "2f0eee53",
   "metadata": {},
   "outputs": [],
   "source": []
  },
  {
   "cell_type": "code",
   "execution_count": null,
   "id": "01fc5ff4",
   "metadata": {},
   "outputs": [],
   "source": []
  },
  {
   "cell_type": "code",
   "execution_count": null,
   "id": "360cfe04",
   "metadata": {},
   "outputs": [],
   "source": []
  },
  {
   "cell_type": "code",
   "execution_count": null,
   "id": "e7edd564",
   "metadata": {},
   "outputs": [],
   "source": []
  },
  {
   "cell_type": "code",
   "execution_count": null,
   "id": "6976b098",
   "metadata": {},
   "outputs": [],
   "source": []
  },
  {
   "cell_type": "code",
   "execution_count": null,
   "id": "27c2e69f",
   "metadata": {},
   "outputs": [],
   "source": []
  },
  {
   "cell_type": "code",
   "execution_count": null,
   "id": "a724e662",
   "metadata": {},
   "outputs": [],
   "source": []
  },
  {
   "cell_type": "code",
   "execution_count": null,
   "id": "bfed90f0",
   "metadata": {},
   "outputs": [],
   "source": []
  }
 ],
 "metadata": {
  "kernelspec": {
   "display_name": "Python 3",
   "language": "python",
   "name": "python3"
  },
  "language_info": {
   "codemirror_mode": {
    "name": "ipython",
    "version": 3
   },
   "file_extension": ".py",
   "mimetype": "text/x-python",
   "name": "python",
   "nbconvert_exporter": "python",
   "pygments_lexer": "ipython3",
   "version": "3.8.8"
  }
 },
 "nbformat": 4,
 "nbformat_minor": 5
}
