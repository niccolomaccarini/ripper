{
 "cells": [
  {
   "cell_type": "code",
   "execution_count": 108,
   "id": "7b7e4904",
   "metadata": {},
   "outputs": [],
   "source": [
    "# Import all the necessary packages\n",
    "\n",
    "import numpy as np\n",
    "import pandas as pd\n",
    "import scipy\n",
    "import uci_dataset as data\n",
    "import random\n",
    "random.seed(10)\n",
    "\n",
    "# The results will depend on the random train-test split, so we average the accuracies over a certain number of repetitions\n",
    "n_rep = 40\n",
    "\n",
    "import wittgenstein3 as lw\n",
    "from sklearn.model_selection import train_test_split\n",
    "from sklearn.metrics import accuracy_score\n",
    "from datetime import datetime"
   ]
  },
  {
   "cell_type": "code",
   "execution_count": 19,
   "id": "aebf96d2",
   "metadata": {},
   "outputs": [],
   "source": [
    "# Define a dictionary with the datasets we want to consider when experimenting\n",
    "# dfs = ..."
   ]
  },
  {
   "cell_type": "code",
   "execution_count": 101,
   "id": "0a04a661",
   "metadata": {},
   "outputs": [],
   "source": [
    "# Dictionary of accuracies of standard RIPPERk on all datasets\n",
    "\n",
    "stand_acc = {'Thyroid': 0.946, 'audiology': 0.9738, 'autism': 0.9968, 'adult': 0.7099, 'arrhythmia': 0.5262}"
   ]
  },
  {
   "cell_type": "code",
   "execution_count": 102,
   "id": "5bb2ec35",
   "metadata": {
    "scrolled": true
   },
   "outputs": [],
   "source": [
    "import time\n",
    "from Helper import LearningCurvePlot, smooth\n",
    "\n",
    "\n",
    "def average_over_repetitions(n_repetitions, smoothing_window, df, Ws, class_feat, pos_class, name_test, verbosity = 0):\n",
    "    acc = np.empty([n_repetitions, len(Ws)]) # accuracies array\n",
    "    start = datetime.now()\n",
    "    start2 = time.time()\n",
    "    \n",
    "    for i in range(n_repetitions):\n",
    "        for j in range(len(Ws)):\n",
    "            W = Ws[j]\n",
    "            X_train, X_test = train_test_split(df, test_size = 0.2)\n",
    "            ripper_clf = lw.RIPPER(k=2, verbosity = verbosity, W = W)\n",
    "            ripper_clf.fit(X_train, class_feat = class_feat, pos_class = pos_class)\n",
    "            y_test = X_test[pos_class]\n",
    "            score = ripper_clf.score(X_test, y_test)\n",
    "            acc[i,j] = score\n",
    "        \n",
    "    # Save results to a text file\n",
    "    np.savetxt('Results/' + name_test + '_time' + start.strftime(\"%d-%m-%Y_%H.%M.%S\"),acc,delimiter = ',')\n",
    "    \n",
    "    print('Running the test takes {} minutes'.format((time.time()-start2)/60))\n",
    "    learning_curve = np.mean(acc, axis = 0) # average over repetitions\n",
    "    learning_curve = smooth(learning_curve,smoothing_window) # additional smoothing\n",
    "    return learning_curve, acc\n",
    "\n",
    "def experiment(n_repetitions, DFs, verbosity = 0, Ws = np.arange(0,1,0.01)):\n",
    "    ####### Settings\n",
    "    # Experiment    \n",
    "    # Here DFs should be a dataframe with columns:\n",
    "    #        data: containing the keys to a dictionary of dataframes\n",
    "    #        class_feat: containing the class feature for each dataset\n",
    "    #        pos_class: containing the name of the positive class\n",
    "    \n",
    "    # Plotting parameters\n",
    "    plot = True\n",
    "    smoothing_window = 12\n",
    "    \n",
    "    ####### Experiments\n",
    "    \n",
    "    #Plot1 = LearningCurvePlot(title = labels[problem] + ' problem solved with ' + labels[method])\n",
    "    \n",
    "    for name_test in DFs['tests']:\n",
    "        Plot1 = LearningCurvePlot(title = name_test)\n",
    "        Plot1.add_hline(stand_acc[name_test], 'standard' + name_test)\n",
    "        class_feat = DFs['class'][DFs.tests == name_test][0]\n",
    "        pos_class = DFs['pos'][DFs.tests == name_test][0]\n",
    "        \n",
    "        learning_curve, _ = average_over_repetitions(n_repetitions, smoothing_window, dfs[name_test], Ws,\n",
    "                                                            class_feat, pos_class, name_test, verbosity)\n",
    "        Plot1.add_curve(learning_curve,label = name_test + str(W))\n",
    "    Plot1.save(name_test + '_' + labels[problem] + '.png')"
   ]
  },
  {
   "cell_type": "markdown",
   "id": "cc156b8d",
   "metadata": {},
   "source": [
    "Now let's rerun the previous tests by looking at all the possible values of W."
   ]
  },
  {
   "cell_type": "markdown",
   "id": "70344d3b",
   "metadata": {},
   "source": [
    "# Thyroid dataset"
   ]
  },
  {
   "cell_type": "code",
   "execution_count": 103,
   "id": "3376acdb",
   "metadata": {},
   "outputs": [],
   "source": [
    "df = data.load_thyroid_disease()"
   ]
  },
  {
   "cell_type": "code",
   "execution_count": 104,
   "id": "c2f77ccd",
   "metadata": {},
   "outputs": [],
   "source": [
    "name_test = 'Thyroid'"
   ]
  },
  {
   "cell_type": "code",
   "execution_count": 105,
   "id": "deb13032",
   "metadata": {},
   "outputs": [],
   "source": [
    "dfs = {'Thyroid':df}"
   ]
  },
  {
   "cell_type": "code",
   "execution_count": 106,
   "id": "ea3d1a12",
   "metadata": {},
   "outputs": [],
   "source": [
    "DFs = pd.DataFrame({'tests': [name_test], 'class': ['sick-euthyroid'], 'pos': ['sick-euthyroid']})"
   ]
  },
  {
   "cell_type": "code",
   "execution_count": 107,
   "id": "6274b851",
   "metadata": {},
   "outputs": [
    {
     "name": "stdout",
     "output_type": "stream",
     "text": [
      "Running one setting takes 3.296808580557505 minutes\n",
      "Running one setting takes 3.0609883427619935 minutes\n",
      "Running one setting takes 20.389798374970756 minutes\n",
      "Running one setting takes 2.9693583130836485 minutes\n",
      "Running one setting takes 3.418598238627116 minutes\n",
      "Running one setting takes 2.645556048552195 minutes\n",
      "Running one setting takes 2.4254393021265668 minutes\n",
      "Running one setting takes 2.5320465127627054 minutes\n",
      "Running one setting takes 2.3615397969881693 minutes\n",
      "Running one setting takes 2.289930828412374 minutes\n",
      "Running one setting takes 2.229115136464437 minutes\n",
      "Running one setting takes 2.227724285920461 minutes\n",
      "Running one setting takes 2.2298605402310687 minutes\n",
      "Running one setting takes 2.337112720807393 minutes\n",
      "Running one setting takes 2.1948078870773315 minutes\n",
      "Running one setting takes 2.271188473701477 minutes\n",
      "Running one setting takes 2.2314823269844055 minutes\n",
      "Running one setting takes 2.1748867789904276 minutes\n",
      "Running one setting takes 2.169401184717814 minutes\n",
      "Running one setting takes 2.108250399430593 minutes\n",
      "Running one setting takes 2.1289194504419964 minutes\n",
      "Running one setting takes 2.101226282119751 minutes\n",
      "Running one setting takes 1.9867073178291321 minutes\n",
      "Running one setting takes 2.0193506280581155 minutes\n",
      "Running one setting takes 2.0773473223050436 minutes\n",
      "Running one setting takes 1.969083881378174 minutes\n",
      "Running one setting takes 2.0608286261558533 minutes\n",
      "Running one setting takes 2.0551803429921467 minutes\n",
      "Running one setting takes 2.0919899463653566 minutes\n",
      "Running one setting takes 2.1327879071235656 minutes\n",
      "Running one setting takes 2.066819481054942 minutes\n",
      "Running one setting takes 2.053936219215393 minutes\n",
      "Running one setting takes 2.0486709554990132 minutes\n",
      "Running one setting takes 1.878624975681305 minutes\n",
      "Running one setting takes 1.9739978353182475 minutes\n",
      "Running one setting takes 1.9008366505304972 minutes\n",
      "Running one setting takes 2.1056844035784406 minutes\n",
      "Running one setting takes 2.017438459396362 minutes\n",
      "Running one setting takes 1.6703877011934916 minutes\n",
      "Running one setting takes 1.5668010751406352 minutes\n",
      "Running one setting takes 1.4389431715011596 minutes\n",
      "Running one setting takes 1.3226459701855977 minutes\n",
      "Running one setting takes 1.1806861241658528 minutes\n",
      "Running one setting takes 1.1944977561632792 minutes\n",
      "Running one setting takes 1.2459063251813254 minutes\n",
      "Running one setting takes 1.130700739224752 minutes\n",
      "Running one setting takes 1.1004880348841348 minutes\n",
      "Running one setting takes 1.0668537894884744 minutes\n",
      "Running one setting takes 1.0291804869969685 minutes\n",
      "Running one setting takes 1.0045730551083882 minutes\n",
      "Running one setting takes 0.9706180453300476 minutes\n",
      "Running one setting takes 0.9952352404594421 minutes\n",
      "Running one setting takes 0.9485223094622294 minutes\n",
      "Running one setting takes 0.9366735219955444 minutes\n",
      "Running one setting takes 1.202714240550995 minutes\n",
      "Running one setting takes 1.0622504115104676 minutes\n",
      "Running one setting takes 1.1790948351224264 minutes\n",
      "Running one setting takes 1.2222173452377318 minutes\n",
      "Running one setting takes 1.091185176372528 minutes\n",
      "Running one setting takes 1.1361350854237875 minutes\n",
      "Running one setting takes 1.125888741016388 minutes\n",
      "Running one setting takes 0.9065242648124695 minutes\n",
      "Running one setting takes 0.9478102366129557 minutes\n",
      "Running one setting takes 1.0158206820487976 minutes\n",
      "Running one setting takes 0.775339154402415 minutes\n",
      "Running one setting takes 0.7726301272710164 minutes\n",
      "Running one setting takes 0.7128581960995992 minutes\n",
      "Running one setting takes 0.745664405822754 minutes\n",
      "Running one setting takes 0.7062733054161072 minutes\n",
      "Running one setting takes 0.7086557229359944 minutes\n",
      "Running one setting takes 0.739193340142568 minutes\n",
      "Running one setting takes 0.6748297214508057 minutes\n",
      "Running one setting takes 0.7545262932777405 minutes\n",
      "Running one setting takes 0.6453029394149781 minutes\n",
      "Running one setting takes 0.7209492603937785 minutes\n",
      "Running one setting takes 0.7919986724853516 minutes\n",
      "Running one setting takes 0.6392269531885783 minutes\n",
      "Running one setting takes 0.7410397450129191 minutes\n",
      "Running one setting takes 0.7028469443321228 minutes\n",
      "Running one setting takes 0.6345461726188659 minutes\n",
      "Running one setting takes 0.6575587511062622 minutes\n",
      "Running one setting takes 0.6870761473973592 minutes\n",
      "Running one setting takes 0.716606605052948 minutes\n",
      "Running one setting takes 0.7141177495320638 minutes\n",
      "Running one setting takes 0.6456042408943177 minutes\n",
      "Running one setting takes 0.6055476148923238 minutes\n",
      "Running one setting takes 0.5924633383750916 minutes\n",
      "Running one setting takes 0.5453304251035055 minutes\n",
      "Running one setting takes 0.5480056802431742 minutes\n",
      "Running one setting takes 0.556430725256602 minutes\n",
      "Running one setting takes 0.5788824955622355 minutes\n",
      "Running one setting takes 0.5242037932078044 minutes\n",
      "Running one setting takes 0.5482853730519612 minutes\n",
      "Running one setting takes 0.6424245436986288 minutes\n",
      "Running one setting takes 0.5953521927197775 minutes\n",
      "Running one setting takes 0.5077745874722799 minutes\n",
      "Running one setting takes 0.46805195808410643 minutes\n",
      "Running one setting takes 0.48888811270395915 minutes\n",
      "Running one setting takes 0.4738093415896098 minutes\n",
      "Running one setting takes 0.5798635045687358 minutes\n"
     ]
    },
    {
     "ename": "NameError",
     "evalue": "name 'labels' is not defined",
     "output_type": "error",
     "traceback": [
      "\u001b[1;31m---------------------------------------------------------------------------\u001b[0m",
      "\u001b[1;31mNameError\u001b[0m                                 Traceback (most recent call last)",
      "\u001b[1;32m<ipython-input-107-d56b392efaf9>\u001b[0m in \u001b[0;36m<module>\u001b[1;34m\u001b[0m\n\u001b[1;32m----> 1\u001b[1;33m \u001b[0mexperiment\u001b[0m\u001b[1;33m(\u001b[0m\u001b[1;36m40\u001b[0m\u001b[1;33m,\u001b[0m \u001b[0mDFs\u001b[0m\u001b[1;33m,\u001b[0m \u001b[0mWs\u001b[0m \u001b[1;33m=\u001b[0m \u001b[0mnp\u001b[0m\u001b[1;33m.\u001b[0m\u001b[0marange\u001b[0m\u001b[1;33m(\u001b[0m\u001b[1;36m0\u001b[0m\u001b[1;33m,\u001b[0m\u001b[1;36m1\u001b[0m\u001b[1;33m,\u001b[0m\u001b[1;36m0.01\u001b[0m\u001b[1;33m)\u001b[0m\u001b[1;33m)\u001b[0m\u001b[1;33m\u001b[0m\u001b[1;33m\u001b[0m\u001b[0m\n\u001b[0m",
      "\u001b[1;32m<ipython-input-102-f9ec7d8e500e>\u001b[0m in \u001b[0;36mexperiment\u001b[1;34m(n_repetitions, DFs, verbosity, Ws)\u001b[0m\n\u001b[0;32m     49\u001b[0m                                                             class_feat, pos_class, name_test, verbosity)\n\u001b[0;32m     50\u001b[0m             \u001b[0mPlot1\u001b[0m\u001b[1;33m.\u001b[0m\u001b[0madd_curve\u001b[0m\u001b[1;33m(\u001b[0m\u001b[0mlearning_curve\u001b[0m\u001b[1;33m,\u001b[0m\u001b[0mlabel\u001b[0m \u001b[1;33m=\u001b[0m \u001b[0mname_test\u001b[0m \u001b[1;33m+\u001b[0m \u001b[0mstr\u001b[0m\u001b[1;33m(\u001b[0m\u001b[0mW\u001b[0m\u001b[1;33m)\u001b[0m\u001b[1;33m)\u001b[0m\u001b[1;33m\u001b[0m\u001b[1;33m\u001b[0m\u001b[0m\n\u001b[1;32m---> 51\u001b[1;33m     \u001b[0mPlot1\u001b[0m\u001b[1;33m.\u001b[0m\u001b[0msave\u001b[0m\u001b[1;33m(\u001b[0m\u001b[0mname_test\u001b[0m \u001b[1;33m+\u001b[0m \u001b[1;34m'_'\u001b[0m \u001b[1;33m+\u001b[0m \u001b[0mlabels\u001b[0m\u001b[1;33m[\u001b[0m\u001b[0mproblem\u001b[0m\u001b[1;33m]\u001b[0m \u001b[1;33m+\u001b[0m \u001b[1;34m'.png'\u001b[0m\u001b[1;33m)\u001b[0m\u001b[1;33m\u001b[0m\u001b[1;33m\u001b[0m\u001b[0m\n\u001b[0m",
      "\u001b[1;31mNameError\u001b[0m: name 'labels' is not defined"
     ]
    },
    {
     "data": {
      "image/png": "[encoded data removed]",
      "text/plain": [
       "<Figure size 432x288 with 1 Axes>"
      ]
     },
     "metadata": {
      "needs_background": "light"
     },
     "output_type": "display_data"
    }
   ],
   "source": [
    "experiment(40, DFs, Ws = np.arange(0,1,0.01))"
   ]
  },
  {
   "cell_type": "markdown",
   "id": "3ee96b61",
   "metadata": {},
   "source": [
    "# Audiology (Standardized) Data Set"
   ]
  },
  {
   "cell_type": "code",
   "execution_count": null,
   "id": "dfb8c8be",
   "metadata": {},
   "outputs": [],
   "source": [
    "df = data.load_audiology()"
   ]
  },
  {
   "cell_type": "code",
   "execution_count": null,
   "id": "94e83ab9",
   "metadata": {},
   "outputs": [],
   "source": [
    "name_test = 'audiology'"
   ]
  },
  {
   "cell_type": "code",
   "execution_count": null,
   "id": "65e90339",
   "metadata": {},
   "outputs": [],
   "source": [
    "dfs = {'audiology':df}"
   ]
  },
  {
   "cell_type": "code",
   "execution_count": null,
   "id": "ed1c6522",
   "metadata": {},
   "outputs": [],
   "source": [
    "DFs = pd.DataFrame({'tests': [name_test], 'class': ['Class'], 'pos': ['cochlear_poss_noise']})"
   ]
  },
  {
   "cell_type": "code",
   "execution_count": null,
   "id": "78ea7185",
   "metadata": {},
   "outputs": [],
   "source": [
    "experiment(40, DFs)"
   ]
  },
  {
   "cell_type": "markdown",
   "id": "4f2a8540",
   "metadata": {},
   "source": [
    "# Autism Screening Dataset"
   ]
  },
  {
   "cell_type": "code",
   "execution_count": null,
   "id": "7ac3e4c8",
   "metadata": {},
   "outputs": [],
   "source": [
    "df = data.load_autism_screening()"
   ]
  },
  {
   "cell_type": "code",
   "execution_count": null,
   "id": "c0d35fe6",
   "metadata": {},
   "outputs": [],
   "source": [
    "name_test = 'autism'"
   ]
  },
  {
   "cell_type": "code",
   "execution_count": null,
   "id": "738a5f31",
   "metadata": {},
   "outputs": [],
   "source": [
    "dfs = {'autism':df}"
   ]
  },
  {
   "cell_type": "code",
   "execution_count": null,
   "id": "ec293803",
   "metadata": {},
   "outputs": [],
   "source": [
    "DFs = pd.DataFrame({'tests': [name_test], 'class': ['Class/ASD'], 'pos': ['YES']})"
   ]
  },
  {
   "cell_type": "code",
   "execution_count": null,
   "id": "81152649",
   "metadata": {},
   "outputs": [],
   "source": [
    "experiment(40, DFs)"
   ]
  },
  {
   "cell_type": "markdown",
   "id": "ef55c095",
   "metadata": {},
   "source": [
    "# Adult Data Set"
   ]
  },
  {
   "cell_type": "code",
   "execution_count": null,
   "id": "99c31f77",
   "metadata": {},
   "outputs": [],
   "source": [
    "df = pd.read_csv('https://archive.ics.uci.edu/ml/machine-learning-databases/adult/adult.data')"
   ]
  },
  {
   "cell_type": "code",
   "execution_count": null,
   "id": "5a436853",
   "metadata": {},
   "outputs": [],
   "source": [
    "name_test = 'adult'"
   ]
  },
  {
   "cell_type": "code",
   "execution_count": null,
   "id": "36fdf97e",
   "metadata": {},
   "outputs": [],
   "source": [
    "dfs = {'adult':df}"
   ]
  },
  {
   "cell_type": "code",
   "execution_count": null,
   "id": "636b4c26",
   "metadata": {},
   "outputs": [],
   "source": [
    "DFs = pd.DataFrame({'tests': [name_test], 'class': [' <=50K'], 'pos': [' <=50K']})"
   ]
  },
  {
   "cell_type": "code",
   "execution_count": null,
   "id": "bf499907",
   "metadata": {},
   "outputs": [],
   "source": [
    "experiment(40, DFs)"
   ]
  },
  {
   "cell_type": "markdown",
   "id": "30b2ce6f",
   "metadata": {},
   "source": [
    "# Arrhythmia Data Set "
   ]
  },
  {
   "cell_type": "code",
   "execution_count": null,
   "id": "7017809f",
   "metadata": {},
   "outputs": [],
   "source": [
    "df = data.load_arrhythmia()"
   ]
  },
  {
   "cell_type": "code",
   "execution_count": null,
   "id": "c75b1215",
   "metadata": {},
   "outputs": [],
   "source": [
    "name_test = 'arrhythmia'"
   ]
  },
  {
   "cell_type": "code",
   "execution_count": null,
   "id": "df087f15",
   "metadata": {},
   "outputs": [],
   "source": [
    "dfs = {'arrhythmia':df}"
   ]
  },
  {
   "cell_type": "code",
   "execution_count": null,
   "id": "546f9155",
   "metadata": {},
   "outputs": [],
   "source": [
    "DFs = pd.DataFrame({'tests': [name_test], 'class': ['diagnosis'], 'pos': [1]})"
   ]
  },
  {
   "cell_type": "code",
   "execution_count": null,
   "id": "4a0faed0",
   "metadata": {},
   "outputs": [],
   "source": [
    "experiment(40, DFs)"
   ]
  },
  {
   "cell_type": "code",
   "execution_count": null,
   "id": "df3c6ffb",
   "metadata": {},
   "outputs": [],
   "source": []
  },
  {
   "cell_type": "code",
   "execution_count": null,
   "id": "c9263551",
   "metadata": {},
   "outputs": [],
   "source": []
  },
  {
   "cell_type": "code",
   "execution_count": null,
   "id": "e8568a97",
   "metadata": {},
   "outputs": [],
   "source": []
  },
  {
   "cell_type": "code",
   "execution_count": null,
   "id": "ea785266",
   "metadata": {},
   "outputs": [],
   "source": []
  },
  {
   "cell_type": "code",
   "execution_count": null,
   "id": "4f49b329",
   "metadata": {},
   "outputs": [],
   "source": []
  },
  {
   "cell_type": "code",
   "execution_count": null,
   "id": "d7b1ceca",
   "metadata": {},
   "outputs": [],
   "source": []
  }
 ],
 "metadata": {
  "kernelspec": {
   "display_name": "Python 3",
   "language": "python",
   "name": "python3"
  },
  "language_info": {
   "codemirror_mode": {
    "name": "ipython",
    "version": 3
   },
   "file_extension": ".py",
   "mimetype": "text/x-python",
   "name": "python",
   "nbconvert_exporter": "python",
   "pygments_lexer": "ipython3",
   "version": "3.8.8"
  }
 },
 "nbformat": 4,
 "nbformat_minor": 5
}
