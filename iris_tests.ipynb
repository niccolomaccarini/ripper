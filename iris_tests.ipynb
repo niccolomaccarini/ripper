{
 "cells": [
  {
   "cell_type": "code",
   "execution_count": 1,
   "id": "85346267",
   "metadata": {},
   "outputs": [],
   "source": [
    "import wittgenstein4 as lw\n",
    "import pandas as pd\n",
    "import numpy as np"
   ]
  },
  {
   "cell_type": "code",
   "execution_count": 2,
   "id": "55f25892",
   "metadata": {},
   "outputs": [],
   "source": [
    "from sklearn.datasets import load_iris\n",
    "from sklearn.model_selection import train_test_split\n",
    "from sklearn.metrics import accuracy_score\n",
    "\n",
    "import random\n",
    "random.seed(25)\n",
    "\n",
    "iris = load_iris()\n",
    "X = pd.DataFrame(iris.data, columns=iris.feature_names)\n",
    "y = pd.Series(iris.target)\n",
    "\n",
    "X_train, X_test, y_train, y_test = train_test_split(X, y, test_size=0.2, random_state=42)"
   ]
  },
  {
   "cell_type": "code",
   "execution_count": 3,
   "id": "70614f4a",
   "metadata": {},
   "outputs": [],
   "source": [
    "ripper_clf = lw.RIPPER(k=2)#, n_discretize_bins = 3)"
   ]
  },
  {
   "cell_type": "code",
   "execution_count": 4,
   "id": "bda913b8",
   "metadata": {
    "scrolled": true
   },
   "outputs": [],
   "source": [
    "ripper_clf.fit(pd.concat([X_train,y_train], axis=1), class_feat = 0, pos_class = 2)"
   ]
  },
  {
   "cell_type": "code",
   "execution_count": 5,
   "id": "bdf83548",
   "metadata": {},
   "outputs": [
    {
     "data": {
      "text/plain": [
       "0.9666666666666667"
      ]
     },
     "execution_count": 5,
     "metadata": {},
     "output_type": "execute_result"
    }
   ],
   "source": [
    "ripper_clf.score(X_test, y_test)"
   ]
  },
  {
   "cell_type": "code",
   "execution_count": 6,
   "id": "cc774077",
   "metadata": {},
   "outputs": [],
   "source": [
    "x=ripper_clf.ruleset_"
   ]
  },
  {
   "cell_type": "code",
   "execution_count": 7,
   "id": "24f84f1f",
   "metadata": {},
   "outputs": [
    {
     "name": "stdout",
     "output_type": "stream",
     "text": [
      "[[petallength(cm)=>4.83] V\n",
      "[petalwidth(cm)=>1.53]]\n"
     ]
    }
   ],
   "source": [
    "x.out_pretty()"
   ]
  },
  {
   "cell_type": "code",
   "execution_count": 36,
   "id": "30965e9c",
   "metadata": {},
   "outputs": [],
   "source": [
    "ripper_clf.ruleset_ = x"
   ]
  },
  {
   "cell_type": "code",
   "execution_count": 37,
   "id": "69549e8c",
   "metadata": {},
   "outputs": [
    {
     "name": "stdout",
     "output_type": "stream",
     "text": [
      "[[petallength(cm)=>4.83] V\n",
      "[petalwidth(cm)=>1.53]]\n"
     ]
    }
   ],
   "source": [
    "x.out_pretty()"
   ]
  },
  {
   "cell_type": "code",
   "execution_count": 32,
   "id": "6d492016",
   "metadata": {},
   "outputs": [
    {
     "data": {
      "text/plain": [
       "[False,\n",
       " False,\n",
       " False,\n",
       " False,\n",
       " False,\n",
       " False,\n",
       " False,\n",
       " False,\n",
       " False,\n",
       " False,\n",
       " False,\n",
       " False,\n",
       " False,\n",
       " False,\n",
       " False,\n",
       " False,\n",
       " False,\n",
       " False,\n",
       " False,\n",
       " False,\n",
       " False,\n",
       " False,\n",
       " False,\n",
       " False,\n",
       " False,\n",
       " False,\n",
       " False,\n",
       " False,\n",
       " False,\n",
       " False]"
      ]
     },
     "execution_count": 32,
     "metadata": {},
     "output_type": "execute_result"
    }
   ],
   "source": [
    "ripper_clf.predict(X_test)"
   ]
  },
  {
   "cell_type": "code",
   "execution_count": 13,
   "id": "8b9bbcf8",
   "metadata": {},
   "outputs": [
    {
     "data": {
      "text/plain": [
       "['petal length (cm)', 'petal width (cm)']"
      ]
     },
     "execution_count": 13,
     "metadata": {},
     "output_type": "execute_result"
    }
   ],
   "source": [
    "f = ripper_clf.selected_features_\n",
    "f"
   ]
  },
  {
   "cell_type": "code",
   "execution_count": 15,
   "id": "9374ceb5",
   "metadata": {},
   "outputs": [
    {
     "data": {
      "text/plain": [
       "['sepal length (cm)',\n",
       " 'sepal width (cm)',\n",
       " 'petal length (cm)',\n",
       " 'petal width (cm)']"
      ]
     },
     "execution_count": 15,
     "metadata": {},
     "output_type": "execute_result"
    }
   ],
   "source": [
    "t = ripper_clf.trainset_features_\n",
    "t"
   ]
  },
  {
   "cell_type": "code",
   "execution_count": 19,
   "id": "8eca2753",
   "metadata": {},
   "outputs": [],
   "source": [
    "ripper_clf.class_feat=0\n",
    "ripper_clf.pos_class=2\n",
    "ripper_clf.selected_features_ = f\n",
    "ripper_clf.trainset_features_ = t"
   ]
  },
  {
   "cell_type": "code",
   "execution_count": 33,
   "id": "8647068d",
   "metadata": {},
   "outputs": [
    {
     "data": {
      "text/plain": [
       "{'sepal length (cm)': ['<4.6', '4.6-4.89', '4.89-5.0', '5.0-5.1', '5.1-5.2', '5.2-5.4', '5.4-5.5', '5.5-5.66', '5.66-5.75', '5.75-5.85', '5.85-6.0', '6.0-6.14', '6.14-6.3', '6.3-6.4', '6.4-6.5', '6.5-6.7', '6.7-6.9', '6.9-7.21', '>7.21'], 'sepal width (cm)': ['<2.3', '2.3-2.5', '2.5-2.6', '2.6-2.7', '2.7-2.8', '2.8-2.9', '2.9-3.0', '3.05-3.1', '3.1-3.2', '3.23-3.4', '3.4-3.5', '3.5-3.61', '3.61-3.81', '>3.81'], 'petal length (cm)': ['<1.3', '1.3-1.4', '1.4-1.5', '1.5-1.7', '1.7-3.3', '3.3-3.96', '3.96-4.1', '4.1-4.25', '4.25-4.44', '4.44-4.6', '4.6-4.8', '4.8-4.93', '4.93-5.1', '5.1-5.3', '5.3-5.52', '5.52-5.7', '5.7-6.1', '>6.1'], 'petal width (cm)': ['<0.2', '0.2-0.3', '0.3-0.4', '0.4-1.0', '1.0-1.1', '1.1-1.3', '1.3-1.4', '1.4-1.5', '1.5-1.7', '1.7-1.8', '1.8-1.9', '1.9-2.0', '2.0-2.1', '2.1-2.31', '>2.31']}"
      ]
     },
     "execution_count": 33,
     "metadata": {},
     "output_type": "execute_result"
    }
   ],
   "source": [
    "ripper_clf.bin_transformer_"
   ]
  },
  {
   "cell_type": "code",
   "execution_count": 7,
   "id": "682a7f9b",
   "metadata": {},
   "outputs": [
    {
     "data": {
      "text/plain": [
       "3"
      ]
     },
     "execution_count": 7,
     "metadata": {},
     "output_type": "execute_result"
    }
   ],
   "source": [
    "ripper_clf.n_discretize_bins"
   ]
  },
  {
   "cell_type": "code",
   "execution_count": 11,
   "id": "3be50f22",
   "metadata": {},
   "outputs": [
    {
     "data": {
      "text/plain": [
       "20"
      ]
     },
     "execution_count": 11,
     "metadata": {},
     "output_type": "execute_result"
    }
   ],
   "source": [
    "maximum_discr_bins = 2\n",
    "for i in range(4):\n",
    "    n = len(np.unique(np.asarray(X_train)[:, i])) # Number of unique elements in the i-th variable\n",
    "    maximum_discr_bins = max(maximum_discr_bins, n)\n",
    "\n",
    "maximum_discr_bins = min(maximum_discr_bins, 20)\n",
    "maximum_discr_bins"
   ]
  },
  {
   "cell_type": "code",
   "execution_count": 21,
   "id": "1f0cb679",
   "metadata": {},
   "outputs": [],
   "source": [
    "rulesets = []\n",
    "min_dls = []"
   ]
  },
  {
   "cell_type": "code",
   "execution_count": 23,
   "id": "e89f578b",
   "metadata": {},
   "outputs": [],
   "source": [
    "for i in range(2, maximum_discr_bins + 1):\n",
    "    ripper_clf.n_discretize_bins = i\n",
    "    ripper_clf.fit_rules(pd.concat([X_train,y_train], axis=1),\n",
    "    n_discretize_bins = i,\n",
    "    class_feat=0,\n",
    "    pos_class=2,\n",
    "    initial_model=None,\n",
    "    cn_optimize=True)\n",
    "    \n",
    "    rulesets += [ripper_clf.ruleset_]\n",
    "    min_dls += [ripper_clf.dl]"
   ]
  },
  {
   "cell_type": "code",
   "execution_count": 29,
   "id": "1c7adaff",
   "metadata": {},
   "outputs": [
    {
     "data": {
      "text/plain": [
       "[70.17301445623596,\n",
       " 48.179882599379084,\n",
       " 55.9368403106656,\n",
       " 61.55314745759908,\n",
       " 48.309708407840034,\n",
       " 50.42490859120039,\n",
       " 58.100697405028725,\n",
       " 63.60563724193384,\n",
       " 55.39855163483989,\n",
       " 66.15829876486833,\n",
       " 71.66057802256182,\n",
       " 73.94247787944343,\n",
       " 67.52467134004337,\n",
       " 74.97663768245464,\n",
       " 78.74021190960957,\n",
       " 73.58934601977755,\n",
       " 83.70975013620873,\n",
       " 77.64616212663545,\n",
       " 72.30236220672327]"
      ]
     },
     "execution_count": 29,
     "metadata": {},
     "output_type": "execute_result"
    }
   ],
   "source": [
    "min_dls"
   ]
  },
  {
   "cell_type": "code",
   "execution_count": 25,
   "id": "ec10693c",
   "metadata": {},
   "outputs": [],
   "source": [
    "ripper_clf.ruleset_ = rulesets[np.argmin(min_dls)] # Select the best ruleset\n",
    "ripper_clf.n_discretize_bins = range(2, maximum_discr_bins + 1)[np.argmin(min_dls)]"
   ]
  },
  {
   "cell_type": "code",
   "execution_count": 26,
   "id": "9949818d",
   "metadata": {},
   "outputs": [
    {
     "name": "stdout",
     "output_type": "stream",
     "text": [
      "[[petallength(cm)=>4.83 ^ petalwidth(cm)=>1.53] V\n",
      "[petalwidth(cm)=>1.53] V\n",
      "[petallength(cm)=>4.83]]\n"
     ]
    }
   ],
   "source": [
    "ripper_clf.ruleset_.out_pretty()"
   ]
  },
  {
   "cell_type": "code",
   "execution_count": 32,
   "id": "d67b7495",
   "metadata": {},
   "outputs": [
    {
     "name": "stdout",
     "output_type": "stream",
     "text": [
      "[[petallength(cm)=>4.83 ^ petalwidth(cm)=>1.53] V\n",
      "[petalwidth(cm)=>1.53] V\n",
      "[petallength(cm)=>4.83]]\n"
     ]
    }
   ],
   "source": [
    "ripper_clf.ruleset_.out_pretty()"
   ]
  },
  {
   "cell_type": "code",
   "execution_count": null,
   "id": "7ac41e1d",
   "metadata": {},
   "outputs": [],
   "source": []
  },
  {
   "cell_type": "code",
   "execution_count": null,
   "id": "db8d9c9a",
   "metadata": {},
   "outputs": [],
   "source": []
  },
  {
   "cell_type": "code",
   "execution_count": null,
   "id": "a509513f",
   "metadata": {},
   "outputs": [],
   "source": []
  },
  {
   "cell_type": "code",
   "execution_count": null,
   "id": "950f8187",
   "metadata": {},
   "outputs": [],
   "source": []
  },
  {
   "cell_type": "code",
   "execution_count": null,
   "id": "02eb8e48",
   "metadata": {},
   "outputs": [],
   "source": []
  },
  {
   "cell_type": "code",
   "execution_count": null,
   "id": "2d424378",
   "metadata": {},
   "outputs": [],
   "source": []
  },
  {
   "cell_type": "code",
   "execution_count": null,
   "id": "384dc188",
   "metadata": {},
   "outputs": [],
   "source": []
  },
  {
   "cell_type": "code",
   "execution_count": 183,
   "id": "1547dba6",
   "metadata": {},
   "outputs": [],
   "source": [
    "preprocess_params = {\n",
    "            \"X\": X_test,\n",
    "            \"class_feat\": 0,\n",
    "            \"pos_class\": 2,\n",
    "            \"bin_transformer_\": ripper_clf.bin_transformer_,\n",
    "            \"user_requested_feature_names\": None,\n",
    "            \"selected_features_\": ripper_clf.selected_features_,\n",
    "            \"trainset_features_\": ripper_clf.trainset_features_,\n",
    "            \"verbosity\": ripper_clf.verbosity,\n",
    "        }"
   ]
  },
  {
   "cell_type": "code",
   "execution_count": 164,
   "id": "60df61d6",
   "metadata": {},
   "outputs": [
    {
     "data": {
      "text/plain": [
       "['petal width (cm)', 'petal length (cm)']"
      ]
     },
     "execution_count": 164,
     "metadata": {},
     "output_type": "execute_result"
    }
   ],
   "source": [
    "ripper_clf.selected_features_"
   ]
  },
  {
   "cell_type": "code",
   "execution_count": 184,
   "id": "a2b417ae",
   "metadata": {},
   "outputs": [],
   "source": [
    "X_df = preprocess.preprocess_prediction_data(preprocess_params)"
   ]
  },
  {
   "cell_type": "code",
   "execution_count": 185,
   "id": "8cc7f1b8",
   "metadata": {},
   "outputs": [
    {
     "data": {
      "text/html": [
       "<div>\n",
       "<style scoped>\n",
       "    .dataframe tbody tr th:only-of-type {\n",
       "        vertical-align: middle;\n",
       "    }\n",
       "\n",
       "    .dataframe tbody tr th {\n",
       "        vertical-align: top;\n",
       "    }\n",
       "\n",
       "    .dataframe thead th {\n",
       "        text-align: right;\n",
       "    }\n",
       "</style>\n",
       "<table border=\"1\" class=\"dataframe\">\n",
       "  <thead>\n",
       "    <tr style=\"text-align: right;\">\n",
       "      <th></th>\n",
       "      <th>sepal length (cm)</th>\n",
       "      <th>sepal width (cm)</th>\n",
       "      <th>petal length (cm)</th>\n",
       "      <th>petal width (cm)</th>\n",
       "    </tr>\n",
       "  </thead>\n",
       "  <tbody>\n",
       "    <tr>\n",
       "      <th>73</th>\n",
       "      <td>6.0-6.3</td>\n",
       "      <td>2.7-2.8</td>\n",
       "      <td>4.6-4.93</td>\n",
       "      <td>1.1-1.3</td>\n",
       "    </tr>\n",
       "    <tr>\n",
       "      <th>18</th>\n",
       "      <td>5.5-5.75</td>\n",
       "      <td>&gt;3.61</td>\n",
       "      <td>1.5-1.7</td>\n",
       "      <td>0.2-0.4</td>\n",
       "    </tr>\n",
       "    <tr>\n",
       "      <th>118</th>\n",
       "      <td>&gt;6.9</td>\n",
       "      <td>2.5-2.7</td>\n",
       "      <td>&gt;5.7</td>\n",
       "      <td>&gt;2.1</td>\n",
       "    </tr>\n",
       "    <tr>\n",
       "      <th>78</th>\n",
       "      <td>5.75-6.0</td>\n",
       "      <td>2.8-3.0</td>\n",
       "      <td>4.25-4.6</td>\n",
       "      <td>1.3-1.5</td>\n",
       "    </tr>\n",
       "    <tr>\n",
       "      <th>76</th>\n",
       "      <td>6.5-6.9</td>\n",
       "      <td>2.7-2.8</td>\n",
       "      <td>4.6-4.93</td>\n",
       "      <td>1.3-1.5</td>\n",
       "    </tr>\n",
       "    <tr>\n",
       "      <th>31</th>\n",
       "      <td>5.2-5.5</td>\n",
       "      <td>3.23-3.4</td>\n",
       "      <td>1.4-1.5</td>\n",
       "      <td>0.2-0.4</td>\n",
       "    </tr>\n",
       "    <tr>\n",
       "      <th>64</th>\n",
       "      <td>5.5-5.75</td>\n",
       "      <td>2.8-3.0</td>\n",
       "      <td>1.7-3.96</td>\n",
       "      <td>1.1-1.3</td>\n",
       "    </tr>\n",
       "    <tr>\n",
       "      <th>141</th>\n",
       "      <td>6.5-6.9</td>\n",
       "      <td>3.0-3.1</td>\n",
       "      <td>4.93-5.3</td>\n",
       "      <td>&gt;2.1</td>\n",
       "    </tr>\n",
       "    <tr>\n",
       "      <th>68</th>\n",
       "      <td>6.0-6.3</td>\n",
       "      <td>&lt;2.5</td>\n",
       "      <td>4.25-4.6</td>\n",
       "      <td>1.3-1.5</td>\n",
       "    </tr>\n",
       "    <tr>\n",
       "      <th>82</th>\n",
       "      <td>5.75-6.0</td>\n",
       "      <td>2.5-2.7</td>\n",
       "      <td>1.7-3.96</td>\n",
       "      <td>1.1-1.3</td>\n",
       "    </tr>\n",
       "    <tr>\n",
       "      <th>110</th>\n",
       "      <td>6.3-6.5</td>\n",
       "      <td>3.1-3.23</td>\n",
       "      <td>4.93-5.3</td>\n",
       "      <td>1.9-2.1</td>\n",
       "    </tr>\n",
       "    <tr>\n",
       "      <th>12</th>\n",
       "      <td>&lt;4.89</td>\n",
       "      <td>2.8-3.0</td>\n",
       "      <td>&lt;1.4</td>\n",
       "      <td>&lt;0.2</td>\n",
       "    </tr>\n",
       "    <tr>\n",
       "      <th>36</th>\n",
       "      <td>5.2-5.5</td>\n",
       "      <td>3.4-3.61</td>\n",
       "      <td>&lt;1.4</td>\n",
       "      <td>&lt;0.2</td>\n",
       "    </tr>\n",
       "    <tr>\n",
       "      <th>9</th>\n",
       "      <td>4.89-5.0</td>\n",
       "      <td>3.0-3.1</td>\n",
       "      <td>1.4-1.5</td>\n",
       "      <td>&lt;0.2</td>\n",
       "    </tr>\n",
       "    <tr>\n",
       "      <th>19</th>\n",
       "      <td>5.0-5.2</td>\n",
       "      <td>&gt;3.61</td>\n",
       "      <td>1.4-1.5</td>\n",
       "      <td>0.2-0.4</td>\n",
       "    </tr>\n",
       "    <tr>\n",
       "      <th>56</th>\n",
       "      <td>6.0-6.3</td>\n",
       "      <td>3.23-3.4</td>\n",
       "      <td>4.6-4.93</td>\n",
       "      <td>1.5-1.7</td>\n",
       "    </tr>\n",
       "    <tr>\n",
       "      <th>104</th>\n",
       "      <td>6.3-6.5</td>\n",
       "      <td>2.8-3.0</td>\n",
       "      <td>&gt;5.7</td>\n",
       "      <td>&gt;2.1</td>\n",
       "    </tr>\n",
       "    <tr>\n",
       "      <th>69</th>\n",
       "      <td>5.5-5.75</td>\n",
       "      <td>&lt;2.5</td>\n",
       "      <td>1.7-3.96</td>\n",
       "      <td>0.4-1.1</td>\n",
       "    </tr>\n",
       "    <tr>\n",
       "      <th>55</th>\n",
       "      <td>5.5-5.75</td>\n",
       "      <td>2.7-2.8</td>\n",
       "      <td>4.25-4.6</td>\n",
       "      <td>1.1-1.3</td>\n",
       "    </tr>\n",
       "    <tr>\n",
       "      <th>132</th>\n",
       "      <td>6.3-6.5</td>\n",
       "      <td>2.7-2.8</td>\n",
       "      <td>5.3-5.7</td>\n",
       "      <td>&gt;2.1</td>\n",
       "    </tr>\n",
       "    <tr>\n",
       "      <th>29</th>\n",
       "      <td>&lt;4.89</td>\n",
       "      <td>3.1-3.23</td>\n",
       "      <td>1.5-1.7</td>\n",
       "      <td>&lt;0.2</td>\n",
       "    </tr>\n",
       "    <tr>\n",
       "      <th>127</th>\n",
       "      <td>6.0-6.3</td>\n",
       "      <td>2.8-3.0</td>\n",
       "      <td>4.6-4.93</td>\n",
       "      <td>1.7-1.9</td>\n",
       "    </tr>\n",
       "    <tr>\n",
       "      <th>26</th>\n",
       "      <td>4.89-5.0</td>\n",
       "      <td>3.23-3.4</td>\n",
       "      <td>1.5-1.7</td>\n",
       "      <td>0.2-0.4</td>\n",
       "    </tr>\n",
       "    <tr>\n",
       "      <th>128</th>\n",
       "      <td>6.3-6.5</td>\n",
       "      <td>2.7-2.8</td>\n",
       "      <td>5.3-5.7</td>\n",
       "      <td>1.9-2.1</td>\n",
       "    </tr>\n",
       "    <tr>\n",
       "      <th>131</th>\n",
       "      <td>&gt;6.9</td>\n",
       "      <td>&gt;3.61</td>\n",
       "      <td>&gt;5.7</td>\n",
       "      <td>1.9-2.1</td>\n",
       "    </tr>\n",
       "    <tr>\n",
       "      <th>145</th>\n",
       "      <td>6.5-6.9</td>\n",
       "      <td>2.8-3.0</td>\n",
       "      <td>4.93-5.3</td>\n",
       "      <td>&gt;2.1</td>\n",
       "    </tr>\n",
       "    <tr>\n",
       "      <th>108</th>\n",
       "      <td>6.5-6.9</td>\n",
       "      <td>&lt;2.5</td>\n",
       "      <td>&gt;5.7</td>\n",
       "      <td>1.7-1.9</td>\n",
       "    </tr>\n",
       "    <tr>\n",
       "      <th>143</th>\n",
       "      <td>6.5-6.9</td>\n",
       "      <td>3.1-3.23</td>\n",
       "      <td>&gt;5.7</td>\n",
       "      <td>&gt;2.1</td>\n",
       "    </tr>\n",
       "    <tr>\n",
       "      <th>45</th>\n",
       "      <td>&lt;4.89</td>\n",
       "      <td>2.8-3.0</td>\n",
       "      <td>&lt;1.4</td>\n",
       "      <td>0.2-0.4</td>\n",
       "    </tr>\n",
       "    <tr>\n",
       "      <th>30</th>\n",
       "      <td>&lt;4.89</td>\n",
       "      <td>3.0-3.1</td>\n",
       "      <td>1.5-1.7</td>\n",
       "      <td>&lt;0.2</td>\n",
       "    </tr>\n",
       "  </tbody>\n",
       "</table>\n",
       "</div>"
      ],
      "text/plain": [
       "    sepal length (cm) sepal width (cm) petal length (cm) petal width (cm)\n",
       "73            6.0-6.3          2.7-2.8          4.6-4.93          1.1-1.3\n",
       "18           5.5-5.75            >3.61           1.5-1.7          0.2-0.4\n",
       "118              >6.9          2.5-2.7              >5.7             >2.1\n",
       "78           5.75-6.0          2.8-3.0          4.25-4.6          1.3-1.5\n",
       "76            6.5-6.9          2.7-2.8          4.6-4.93          1.3-1.5\n",
       "31            5.2-5.5         3.23-3.4           1.4-1.5          0.2-0.4\n",
       "64           5.5-5.75          2.8-3.0          1.7-3.96          1.1-1.3\n",
       "141           6.5-6.9          3.0-3.1          4.93-5.3             >2.1\n",
       "68            6.0-6.3             <2.5          4.25-4.6          1.3-1.5\n",
       "82           5.75-6.0          2.5-2.7          1.7-3.96          1.1-1.3\n",
       "110           6.3-6.5         3.1-3.23          4.93-5.3          1.9-2.1\n",
       "12              <4.89          2.8-3.0              <1.4             <0.2\n",
       "36            5.2-5.5         3.4-3.61              <1.4             <0.2\n",
       "9            4.89-5.0          3.0-3.1           1.4-1.5             <0.2\n",
       "19            5.0-5.2            >3.61           1.4-1.5          0.2-0.4\n",
       "56            6.0-6.3         3.23-3.4          4.6-4.93          1.5-1.7\n",
       "104           6.3-6.5          2.8-3.0              >5.7             >2.1\n",
       "69           5.5-5.75             <2.5          1.7-3.96          0.4-1.1\n",
       "55           5.5-5.75          2.7-2.8          4.25-4.6          1.1-1.3\n",
       "132           6.3-6.5          2.7-2.8           5.3-5.7             >2.1\n",
       "29              <4.89         3.1-3.23           1.5-1.7             <0.2\n",
       "127           6.0-6.3          2.8-3.0          4.6-4.93          1.7-1.9\n",
       "26           4.89-5.0         3.23-3.4           1.5-1.7          0.2-0.4\n",
       "128           6.3-6.5          2.7-2.8           5.3-5.7          1.9-2.1\n",
       "131              >6.9            >3.61              >5.7          1.9-2.1\n",
       "145           6.5-6.9          2.8-3.0          4.93-5.3             >2.1\n",
       "108           6.5-6.9             <2.5              >5.7          1.7-1.9\n",
       "143           6.5-6.9         3.1-3.23              >5.7             >2.1\n",
       "45              <4.89          2.8-3.0              <1.4          0.2-0.4\n",
       "30              <4.89          3.0-3.1           1.5-1.7             <0.2"
      ]
     },
     "execution_count": 185,
     "metadata": {},
     "output_type": "execute_result"
    }
   ],
   "source": [
    "X_df"
   ]
  },
  {
   "cell_type": "code",
   "execution_count": 167,
   "id": "9c5acb6b",
   "metadata": {},
   "outputs": [
    {
     "name": "stdout",
     "output_type": "stream",
     "text": [
      "[[petalwidth(cm)=1.7-2.1] V\n",
      "[petalwidth(cm)=>2.1] V\n",
      "[petallength(cm)=>5.7]]\n"
     ]
    }
   ],
   "source": [
    "ripper_clf.out_model()"
   ]
  },
  {
   "cell_type": "code",
   "execution_count": 168,
   "id": "47eea565",
   "metadata": {},
   "outputs": [],
   "source": [
    "ruleset = ripper_clf.ruleset_"
   ]
  },
  {
   "cell_type": "code",
   "execution_count": 169,
   "id": "dbdb28dc",
   "metadata": {},
   "outputs": [],
   "source": [
    "from wittgenstein import discretize"
   ]
  },
  {
   "cell_type": "code",
   "execution_count": 170,
   "id": "9b739337",
   "metadata": {},
   "outputs": [
    {
     "data": {
      "text/plain": [
       "{'petal width (cm)': [('1.7', '2.1')]}"
      ]
     },
     "execution_count": 170,
     "metadata": {},
     "output_type": "execute_result"
    }
   ],
   "source": [
    "ripper_clf.bin_transformer_.construct_from_ruleset(ripper_clf.ruleset_)"
   ]
  },
  {
   "cell_type": "code",
   "execution_count": 26,
   "id": "b7e6c54a",
   "metadata": {},
   "outputs": [
    {
     "data": {
      "text/plain": [
       "None"
      ]
     },
     "execution_count": 26,
     "metadata": {},
     "output_type": "execute_result"
    }
   ],
   "source": [
    "ripper_clf.bin_transformer_"
   ]
  },
  {
   "cell_type": "code",
   "execution_count": 172,
   "id": "736955b4",
   "metadata": {},
   "outputs": [],
   "source": [
    "discrete = discretize.defaultdict(list)"
   ]
  },
  {
   "cell_type": "code",
   "execution_count": 173,
   "id": "c4859944",
   "metadata": {},
   "outputs": [
    {
     "name": "stdout",
     "output_type": "stream",
     "text": [
      "petal width (cm)=1.7-2.1\n",
      "('1.7', '2.1')\n",
      "petal width (cm)=>2.1\n",
      "petal length (cm)=>5.7\n",
      "[('1.7', '2.1')]\n"
     ]
    }
   ],
   "source": [
    "for cond in ruleset.get_conds():\n",
    "    print(cond)\n",
    "            # floor_ceil = self.find_floor_ceil(cond.val)\n",
    "    floor_ceil = find_floor_ceil(cond.val) # The function find_floor_ceil is not an attribute of bin_transformer - Niccolò\n",
    "    if floor_ceil:\n",
    "        discrete[cond.feature].append(floor_ceil)\n",
    "        print(floor_ceil)\n",
    "for feat, ranges in discrete.items():\n",
    "    ranges.sort(key=lambda x: float(x[0]))\n",
    "    print(ranges)"
   ]
  },
  {
   "cell_type": "code",
   "execution_count": 174,
   "id": "7511abfc",
   "metadata": {},
   "outputs": [],
   "source": [
    "def find_floor_ceil(value):\n",
    "            \"\"\"id min, max separated by a dash. Return None if invalid pattern.\"\"\"\n",
    "            split_idx = 0\n",
    "            for i, char in enumerate(value):\n",
    "                # Found a possible split and it's not the first number's minus sign\n",
    "                if char == \"-\" and i != 0:\n",
    "                    if split_idx is not None and not split_idx:\n",
    "                        split_idx = i\n",
    "                    # Found a - after the split, and it's not the minus of a negative number\n",
    "                    elif i > split_idx + 1:\n",
    "                        return None\n",
    "\n",
    "            floor = value[:split_idx]\n",
    "            ceil = value[split_idx + 1 :]\n",
    "            if is_valid_decimal(floor) and is_valid_decimal(ceil):\n",
    "                return (floor, ceil)\n",
    "            else:\n",
    "                return None"
   ]
  },
  {
   "cell_type": "code",
   "execution_count": 175,
   "id": "6ac2229c",
   "metadata": {},
   "outputs": [
    {
     "data": {
      "text/plain": [
       "[<Cond petal width (cm)=1.7-2.1>,\n",
       " <Cond petal width (cm)=>2.1>,\n",
       " <Cond petal length (cm)=>5.7>]"
      ]
     },
     "execution_count": 175,
     "metadata": {},
     "output_type": "execute_result"
    }
   ],
   "source": [
    "ruleset.get_conds()"
   ]
  },
  {
   "cell_type": "code",
   "execution_count": 176,
   "id": "46e02196",
   "metadata": {},
   "outputs": [],
   "source": [
    "def is_valid_decimal(s):\n",
    "            try:\n",
    "                float(s)\n",
    "            except:\n",
    "                return False\n",
    "            return True"
   ]
  },
  {
   "cell_type": "code",
   "execution_count": 177,
   "id": "854b4299",
   "metadata": {},
   "outputs": [
    {
     "data": {
      "text/plain": [
       "defaultdict(list, {'petal width (cm)': [('1.7', '2.1')]})"
      ]
     },
     "execution_count": 177,
     "metadata": {},
     "output_type": "execute_result"
    }
   ],
   "source": [
    "discrete"
   ]
  },
  {
   "cell_type": "code",
   "execution_count": 194,
   "id": "91614293",
   "metadata": {},
   "outputs": [
    {
     "ename": "TypeError",
     "evalue": "float() argument must be a string or a number, not 'tuple'",
     "output_type": "error",
     "traceback": [
      "\u001b[1;31m---------------------------------------------------------------------------\u001b[0m",
      "\u001b[1;31mTypeError\u001b[0m                                 Traceback (most recent call last)",
      "\u001b[1;32m<ipython-input-194-a6520ffc8547>\u001b[0m in \u001b[0;36m<module>\u001b[1;34m\u001b[0m\n\u001b[1;32m----> 1\u001b[1;33m \u001b[0mripper_clf\u001b[0m\u001b[1;33m.\u001b[0m\u001b[0mpredict\u001b[0m\u001b[1;33m(\u001b[0m\u001b[0mX_test\u001b[0m\u001b[1;33m,\u001b[0m \u001b[0mgive_reasons\u001b[0m \u001b[1;33m=\u001b[0m \u001b[1;32mFalse\u001b[0m\u001b[1;33m)\u001b[0m\u001b[1;33m\u001b[0m\u001b[1;33m\u001b[0m\u001b[0m\n\u001b[0m",
      "\u001b[1;32m~\\Desktop\\Statistics and data Science\\Master Thesis\\wittgenstein\\abstract_ruleset_classifier.py\u001b[0m in \u001b[0;36mpredict\u001b[1;34m(self, X, give_reasons, feature_names)\u001b[0m\n\u001b[0;32m    125\u001b[0m         }\n\u001b[0;32m    126\u001b[0m \u001b[1;33m\u001b[0m\u001b[0m\n\u001b[1;32m--> 127\u001b[1;33m         \u001b[0mX_df\u001b[0m \u001b[1;33m=\u001b[0m \u001b[0mpreprocess\u001b[0m\u001b[1;33m.\u001b[0m\u001b[0mpreprocess_prediction_data\u001b[0m\u001b[1;33m(\u001b[0m\u001b[0mpreprocess_params\u001b[0m\u001b[1;33m)\u001b[0m\u001b[1;33m\u001b[0m\u001b[1;33m\u001b[0m\u001b[0m\n\u001b[0m\u001b[0;32m    128\u001b[0m \u001b[1;33m\u001b[0m\u001b[0m\n\u001b[0;32m    129\u001b[0m         \u001b[1;32mreturn\u001b[0m \u001b[0mself\u001b[0m\u001b[1;33m.\u001b[0m\u001b[0mruleset_\u001b[0m\u001b[1;33m.\u001b[0m\u001b[0mpredict\u001b[0m\u001b[1;33m(\u001b[0m\u001b[0mX_df\u001b[0m\u001b[1;33m,\u001b[0m \u001b[0mgive_reasons\u001b[0m\u001b[1;33m=\u001b[0m\u001b[0mgive_reasons\u001b[0m\u001b[1;33m)\u001b[0m\u001b[1;33m\u001b[0m\u001b[1;33m\u001b[0m\u001b[0m\n",
      "\u001b[1;32m~\\Desktop\\Statistics and data Science\\Master Thesis\\wittgenstein\\preprocess.py\u001b[0m in \u001b[0;36mpreprocess_prediction_data\u001b[1;34m(preprocess_params)\u001b[0m\n\u001b[0;32m     96\u001b[0m     \u001b[1;31m# Bin, if necessary\u001b[0m\u001b[1;33m\u001b[0m\u001b[1;33m\u001b[0m\u001b[1;33m\u001b[0m\u001b[0m\n\u001b[0;32m     97\u001b[0m     \u001b[1;32mif\u001b[0m \u001b[0mbin_transformer_\u001b[0m\u001b[1;33m:\u001b[0m\u001b[1;33m\u001b[0m\u001b[1;33m\u001b[0m\u001b[0m\n\u001b[1;32m---> 98\u001b[1;33m         \u001b[0mdf\u001b[0m \u001b[1;33m=\u001b[0m \u001b[0mbin_transformer_\u001b[0m\u001b[1;33m.\u001b[0m\u001b[0mtransform\u001b[0m\u001b[1;33m(\u001b[0m\u001b[0mdf\u001b[0m\u001b[1;33m)\u001b[0m\u001b[1;33m\u001b[0m\u001b[1;33m\u001b[0m\u001b[0m\n\u001b[0m\u001b[0;32m     99\u001b[0m \u001b[1;33m\u001b[0m\u001b[0m\n\u001b[0;32m    100\u001b[0m     \u001b[1;31m# Done\u001b[0m\u001b[1;33m\u001b[0m\u001b[1;33m\u001b[0m\u001b[1;33m\u001b[0m\u001b[0m\n",
      "\u001b[1;32m~\\Desktop\\Statistics and data Science\\Master Thesis\\wittgenstein\\discretize.py\u001b[0m in \u001b[0;36mtransform\u001b[1;34m(self, df)\u001b[0m\n\u001b[0;32m    137\u001b[0m         \u001b[1;32mfor\u001b[0m \u001b[0mfeat\u001b[0m \u001b[1;32min\u001b[0m \u001b[0mself\u001b[0m\u001b[1;33m.\u001b[0m\u001b[0mbins_\u001b[0m\u001b[1;33m.\u001b[0m\u001b[0mkeys\u001b[0m\u001b[1;33m(\u001b[0m\u001b[1;33m)\u001b[0m\u001b[1;33m:\u001b[0m\u001b[1;33m\u001b[0m\u001b[1;33m\u001b[0m\u001b[0m\n\u001b[0;32m    138\u001b[0m             \u001b[1;32mif\u001b[0m \u001b[0mfeat\u001b[0m \u001b[1;32min\u001b[0m \u001b[0mres\u001b[0m\u001b[1;33m.\u001b[0m\u001b[0mcolumns\u001b[0m \u001b[1;32mand\u001b[0m \u001b[0mfeat\u001b[0m \u001b[1;32mnot\u001b[0m \u001b[1;32min\u001b[0m \u001b[0malready_transformed_feats\u001b[0m\u001b[1;33m:\u001b[0m\u001b[1;33m\u001b[0m\u001b[1;33m\u001b[0m\u001b[0m\n\u001b[1;32m--> 139\u001b[1;33m                 \u001b[0mres\u001b[0m\u001b[1;33m[\u001b[0m\u001b[0mfeat\u001b[0m\u001b[1;33m]\u001b[0m \u001b[1;33m=\u001b[0m \u001b[0m_transform_feat\u001b[0m\u001b[1;33m(\u001b[0m\u001b[0mres\u001b[0m\u001b[1;33m,\u001b[0m \u001b[0mfeat\u001b[0m\u001b[1;33m)\u001b[0m\u001b[1;33m\u001b[0m\u001b[1;33m\u001b[0m\u001b[0m\n\u001b[0m\u001b[0;32m    140\u001b[0m         \u001b[1;32mreturn\u001b[0m \u001b[0mres\u001b[0m\u001b[1;33m\u001b[0m\u001b[1;33m\u001b[0m\u001b[0m\n\u001b[0;32m    141\u001b[0m \u001b[1;33m\u001b[0m\u001b[0m\n",
      "\u001b[1;32m~\\Desktop\\Statistics and data Science\\Master Thesis\\wittgenstein\\discretize.py\u001b[0m in \u001b[0;36m_transform_feat\u001b[1;34m(df, feat)\u001b[0m\n\u001b[0;32m    124\u001b[0m \u001b[1;33m\u001b[0m\u001b[0m\n\u001b[0;32m    125\u001b[0m             \u001b[0mres\u001b[0m \u001b[1;33m=\u001b[0m \u001b[0mdeepcopy\u001b[0m\u001b[1;33m(\u001b[0m\u001b[0mdf\u001b[0m\u001b[1;33m[\u001b[0m\u001b[0mfeat\u001b[0m\u001b[1;33m]\u001b[0m\u001b[1;33m)\u001b[0m\u001b[1;33m\u001b[0m\u001b[1;33m\u001b[0m\u001b[0m\n\u001b[1;32m--> 126\u001b[1;33m             \u001b[0mbins\u001b[0m \u001b[1;33m=\u001b[0m \u001b[0mself\u001b[0m\u001b[1;33m.\u001b[0m\u001b[0m_strs_to_intervals\u001b[0m\u001b[1;33m(\u001b[0m\u001b[0mself\u001b[0m\u001b[1;33m.\u001b[0m\u001b[0mbins_\u001b[0m\u001b[1;33m[\u001b[0m\u001b[0mfeat\u001b[0m\u001b[1;33m]\u001b[0m\u001b[1;33m)\u001b[0m\u001b[1;33m\u001b[0m\u001b[1;33m\u001b[0m\u001b[0m\n\u001b[0m\u001b[0;32m    127\u001b[0m             \u001b[0mres\u001b[0m \u001b[1;33m=\u001b[0m \u001b[0mpd\u001b[0m\u001b[1;33m.\u001b[0m\u001b[0mcut\u001b[0m\u001b[1;33m(\u001b[0m\u001b[0mdf\u001b[0m\u001b[1;33m[\u001b[0m\u001b[0mfeat\u001b[0m\u001b[1;33m]\u001b[0m\u001b[1;33m,\u001b[0m \u001b[0mbins\u001b[0m\u001b[1;33m=\u001b[0m\u001b[0mpd\u001b[0m\u001b[1;33m.\u001b[0m\u001b[0mIntervalIndex\u001b[0m\u001b[1;33m(\u001b[0m\u001b[0mbins\u001b[0m\u001b[1;33m)\u001b[0m\u001b[1;33m)\u001b[0m\u001b[1;33m\u001b[0m\u001b[1;33m\u001b[0m\u001b[0m\n\u001b[0;32m    128\u001b[0m             res = res.map(\n",
      "\u001b[1;32m~\\Desktop\\Statistics and data Science\\Master Thesis\\wittgenstein\\discretize.py\u001b[0m in \u001b[0;36m_strs_to_intervals\u001b[1;34m(self, strs)\u001b[0m\n\u001b[0;32m    160\u001b[0m \u001b[1;33m\u001b[0m\u001b[0m\n\u001b[0;32m    161\u001b[0m     \u001b[1;32mdef\u001b[0m \u001b[0m_strs_to_intervals\u001b[0m\u001b[1;33m(\u001b[0m\u001b[0mself\u001b[0m\u001b[1;33m,\u001b[0m \u001b[0mstrs\u001b[0m\u001b[1;33m)\u001b[0m\u001b[1;33m:\u001b[0m\u001b[1;33m\u001b[0m\u001b[1;33m\u001b[0m\u001b[0m\n\u001b[1;32m--> 162\u001b[1;33m         \u001b[1;32mreturn\u001b[0m \u001b[1;33m[\u001b[0m\u001b[0mself\u001b[0m\u001b[1;33m.\u001b[0m\u001b[0m_str_to_interval\u001b[0m\u001b[1;33m(\u001b[0m\u001b[0ms\u001b[0m\u001b[1;33m)\u001b[0m \u001b[1;32mfor\u001b[0m \u001b[0ms\u001b[0m \u001b[1;32min\u001b[0m \u001b[0mstrs\u001b[0m\u001b[1;33m]\u001b[0m\u001b[1;33m\u001b[0m\u001b[1;33m\u001b[0m\u001b[0m\n\u001b[0m\u001b[0;32m    163\u001b[0m \u001b[1;33m\u001b[0m\u001b[0m\n\u001b[0;32m    164\u001b[0m     \u001b[1;32mdef\u001b[0m \u001b[0m_str_to_interval\u001b[0m\u001b[1;33m(\u001b[0m\u001b[0mself\u001b[0m\u001b[1;33m,\u001b[0m \u001b[0ms\u001b[0m\u001b[1;33m)\u001b[0m\u001b[1;33m:\u001b[0m\u001b[1;33m\u001b[0m\u001b[1;33m\u001b[0m\u001b[0m\n",
      "\u001b[1;32m~\\Desktop\\Statistics and data Science\\Master Thesis\\wittgenstein\\discretize.py\u001b[0m in \u001b[0;36m<listcomp>\u001b[1;34m(.0)\u001b[0m\n\u001b[0;32m    160\u001b[0m \u001b[1;33m\u001b[0m\u001b[0m\n\u001b[0;32m    161\u001b[0m     \u001b[1;32mdef\u001b[0m \u001b[0m_strs_to_intervals\u001b[0m\u001b[1;33m(\u001b[0m\u001b[0mself\u001b[0m\u001b[1;33m,\u001b[0m \u001b[0mstrs\u001b[0m\u001b[1;33m)\u001b[0m\u001b[1;33m:\u001b[0m\u001b[1;33m\u001b[0m\u001b[1;33m\u001b[0m\u001b[0m\n\u001b[1;32m--> 162\u001b[1;33m         \u001b[1;32mreturn\u001b[0m \u001b[1;33m[\u001b[0m\u001b[0mself\u001b[0m\u001b[1;33m.\u001b[0m\u001b[0m_str_to_interval\u001b[0m\u001b[1;33m(\u001b[0m\u001b[0ms\u001b[0m\u001b[1;33m)\u001b[0m \u001b[1;32mfor\u001b[0m \u001b[0ms\u001b[0m \u001b[1;32min\u001b[0m \u001b[0mstrs\u001b[0m\u001b[1;33m]\u001b[0m\u001b[1;33m\u001b[0m\u001b[1;33m\u001b[0m\u001b[0m\n\u001b[0m\u001b[0;32m    163\u001b[0m \u001b[1;33m\u001b[0m\u001b[0m\n\u001b[0;32m    164\u001b[0m     \u001b[1;32mdef\u001b[0m \u001b[0m_str_to_interval\u001b[0m\u001b[1;33m(\u001b[0m\u001b[0mself\u001b[0m\u001b[1;33m,\u001b[0m \u001b[0ms\u001b[0m\u001b[1;33m)\u001b[0m\u001b[1;33m:\u001b[0m\u001b[1;33m\u001b[0m\u001b[1;33m\u001b[0m\u001b[0m\n",
      "\u001b[1;32m~\\Desktop\\Statistics and data Science\\Master Thesis\\wittgenstein\\discretize.py\u001b[0m in \u001b[0;36m_str_to_interval\u001b[1;34m(self, s)\u001b[0m\n\u001b[0;32m    163\u001b[0m \u001b[1;33m\u001b[0m\u001b[0m\n\u001b[0;32m    164\u001b[0m     \u001b[1;32mdef\u001b[0m \u001b[0m_str_to_interval\u001b[0m\u001b[1;33m(\u001b[0m\u001b[0mself\u001b[0m\u001b[1;33m,\u001b[0m \u001b[0ms\u001b[0m\u001b[1;33m)\u001b[0m\u001b[1;33m:\u001b[0m\u001b[1;33m\u001b[0m\u001b[1;33m\u001b[0m\u001b[0m\n\u001b[1;32m--> 165\u001b[1;33m         \u001b[0mfloor\u001b[0m\u001b[1;33m,\u001b[0m \u001b[0mceil\u001b[0m \u001b[1;33m=\u001b[0m \u001b[0mself\u001b[0m\u001b[1;33m.\u001b[0m\u001b[0m_str_to_floor_ceil\u001b[0m\u001b[1;33m(\u001b[0m\u001b[0ms\u001b[0m\u001b[1;33m)\u001b[0m\u001b[1;33m\u001b[0m\u001b[1;33m\u001b[0m\u001b[0m\n\u001b[0m\u001b[0;32m    166\u001b[0m         \u001b[1;32mreturn\u001b[0m \u001b[0mpd\u001b[0m\u001b[1;33m.\u001b[0m\u001b[0mInterval\u001b[0m\u001b[1;33m(\u001b[0m\u001b[0mfloor\u001b[0m\u001b[1;33m,\u001b[0m \u001b[0mceil\u001b[0m\u001b[1;33m)\u001b[0m\u001b[1;33m\u001b[0m\u001b[1;33m\u001b[0m\u001b[0m\n\u001b[0;32m    167\u001b[0m \u001b[1;33m\u001b[0m\u001b[0m\n",
      "\u001b[1;32m~\\Desktop\\Statistics and data Science\\Master Thesis\\wittgenstein\\discretize.py\u001b[0m in \u001b[0;36m_str_to_floor_ceil\u001b[1;34m(self, value)\u001b[0m\n\u001b[0;32m    196\u001b[0m             \u001b[0mfloor\u001b[0m \u001b[1;33m=\u001b[0m \u001b[0mvalue\u001b[0m\u001b[1;33m[\u001b[0m\u001b[1;33m:\u001b[0m\u001b[0msplit_idx\u001b[0m\u001b[1;33m]\u001b[0m\u001b[1;33m\u001b[0m\u001b[1;33m\u001b[0m\u001b[0m\n\u001b[0;32m    197\u001b[0m             \u001b[0mceil\u001b[0m \u001b[1;33m=\u001b[0m \u001b[0mvalue\u001b[0m\u001b[1;33m[\u001b[0m\u001b[0msplit_idx\u001b[0m \u001b[1;33m+\u001b[0m \u001b[1;36m1\u001b[0m \u001b[1;33m:\u001b[0m\u001b[1;33m]\u001b[0m\u001b[1;33m\u001b[0m\u001b[1;33m\u001b[0m\u001b[0m\n\u001b[1;32m--> 198\u001b[1;33m         \u001b[1;32mreturn\u001b[0m \u001b[0mfloat\u001b[0m\u001b[1;33m(\u001b[0m\u001b[0mfloor\u001b[0m\u001b[1;33m)\u001b[0m\u001b[1;33m,\u001b[0m \u001b[0mfloat\u001b[0m\u001b[1;33m(\u001b[0m\u001b[0mceil\u001b[0m\u001b[1;33m)\u001b[0m\u001b[1;33m\u001b[0m\u001b[1;33m\u001b[0m\u001b[0m\n\u001b[0m\u001b[0;32m    199\u001b[0m \u001b[1;33m\u001b[0m\u001b[0m\n\u001b[0;32m    200\u001b[0m     \u001b[1;32mdef\u001b[0m \u001b[0mconstruct_from_ruleset\u001b[0m\u001b[1;33m(\u001b[0m\u001b[0mself\u001b[0m\u001b[1;33m,\u001b[0m \u001b[0mruleset\u001b[0m\u001b[1;33m)\u001b[0m\u001b[1;33m:\u001b[0m\u001b[1;33m\u001b[0m\u001b[1;33m\u001b[0m\u001b[0m\n",
      "\u001b[1;31mTypeError\u001b[0m: float() argument must be a string or a number, not 'tuple'"
     ]
    }
   ],
   "source": [
    "ripper_clf.predict(X_test, give_reasons = False)"
   ]
  },
  {
   "cell_type": "code",
   "execution_count": 134,
   "id": "e6d76ac6",
   "metadata": {},
   "outputs": [],
   "source": [
    "from wittgenstein import preprocess"
   ]
  },
  {
   "cell_type": "code",
   "execution_count": 193,
   "id": "24e6cbed",
   "metadata": {},
   "outputs": [],
   "source": [
    "preprocess._upgrade_bin_transformer_ifdepr(ripper_clf)"
   ]
  },
  {
   "cell_type": "code",
   "execution_count": 192,
   "id": "bc558e83",
   "metadata": {},
   "outputs": [],
   "source": [
    "ripper_clf.bin_transformer_ = ripper_clf.bin_transformer_.construct_from_ruleset(ruleset)"
   ]
  },
  {
   "cell_type": "code",
   "execution_count": 188,
   "id": "7448f724",
   "metadata": {},
   "outputs": [
    {
     "data": {
      "text/plain": [
       "<Ruleset [[petalwidth(cm)=1.7-2.1] V [petalwidth(cm)=>2.1] V [petallength(cm)=>5.7]]>"
      ]
     },
     "execution_count": 188,
     "metadata": {},
     "output_type": "execute_result"
    }
   ],
   "source": [
    "ruleset"
   ]
  },
  {
   "cell_type": "code",
   "execution_count": 1,
   "id": "1975fa67",
   "metadata": {},
   "outputs": [
    {
     "ename": "SyntaxError",
     "evalue": "invalid syntax (<ipython-input-1-380dd165f01d>, line 1)",
     "output_type": "error",
     "traceback": [
      "\u001b[1;36m  File \u001b[1;32m\"<ipython-input-1-380dd165f01d>\"\u001b[1;36m, line \u001b[1;32m1\u001b[0m\n\u001b[1;33m    git clone https://github.com/maryami66/uci_dataset\u001b[0m\n\u001b[1;37m        ^\u001b[0m\n\u001b[1;31mSyntaxError\u001b[0m\u001b[1;31m:\u001b[0m invalid syntax\n"
     ]
    }
   ],
   "source": [
    "git clone https://github.com/maryami66/uci_dataset"
   ]
  },
  {
   "cell_type": "code",
   "execution_count": null,
   "id": "dd564a30",
   "metadata": {},
   "outputs": [],
   "source": [
    "import numpy as np\n",
    "import"
   ]
  }
 ],
 "metadata": {
  "kernelspec": {
   "display_name": "Python 3",
   "language": "python",
   "name": "python3"
  },
  "language_info": {
   "codemirror_mode": {
    "name": "ipython",
    "version": 3
   },
   "file_extension": ".py",
   "mimetype": "text/x-python",
   "name": "python",
   "nbconvert_exporter": "python",
   "pygments_lexer": "ipython3",
   "version": "3.8.8"
  }
 },
 "nbformat": 4,
 "nbformat_minor": 5
}
