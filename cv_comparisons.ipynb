{
 "cells": [
  {
   "cell_type": "markdown",
   "id": "9a37fe5d",
   "metadata": {},
   "source": [
    "We will compare the performance of standard RIPPERk with enchanced RIPPERk. In the improved version we will first perform a hyperparameter selection step to choose the best value for W, then compare the two algorithms using the accuracy rate."
   ]
  },
  {
   "cell_type": "code",
   "execution_count": 1,
   "id": "75347b99",
   "metadata": {},
   "outputs": [],
   "source": [
    "import uci_dataset as data\n",
    "import random\n",
    "random.seed(10)\n",
    "n_rep = 10\n",
    "from sklearn.model_selection import train_test_split\n",
    "from sklearn.model_selection import StratifiedKFold\n",
    "from sklearn.model_selection import cross_val_score"
   ]
  },
  {
   "cell_type": "code",
   "execution_count": 2,
   "id": "3d1b3d34",
   "metadata": {},
   "outputs": [],
   "source": [
    "import functions\n",
    "import pandas as pd\n",
    "import pickle"
   ]
  },
  {
   "cell_type": "code",
   "execution_count": 3,
   "id": "77e976f1",
   "metadata": {},
   "outputs": [],
   "source": [
    "# Set values of the hyperparameters and define a dictionary with all the datasets and class features\n",
    "\n",
    "cv = StratifiedKFold(n_splits = 5)\n",
    "budget = 12\n",
    "DFs = {'dfs': [], 'class_feats': [], 'pos_classes': [], 'xgb_accuracy<': [], 'names': []}"
   ]
  },
  {
   "cell_type": "markdown",
   "id": "b188893a",
   "metadata": {},
   "source": [
    "# Thyroid dataset"
   ]
  },
  {
   "cell_type": "code",
   "execution_count": 4,
   "id": "759acc7a",
   "metadata": {},
   "outputs": [],
   "source": [
    "df = data.load_thyroid_disease()"
   ]
  },
  {
   "cell_type": "code",
   "execution_count": 5,
   "id": "1c7270b0",
   "metadata": {},
   "outputs": [],
   "source": [
    "class_feat = 'sick-euthyroid'\n",
    "pos_class = 'sick-euthyroid'\n",
    "name = 'thyroid'"
   ]
  },
  {
   "cell_type": "code",
   "execution_count": 6,
   "id": "2f9fc02e",
   "metadata": {},
   "outputs": [],
   "source": [
    "# Update the dictionary DFs\n",
    "\n",
    "DFs['dfs'] += [df]\n",
    "DFs['class_feats'] += [class_feat]\n",
    "DFs['pos_classes'] += [pos_class]\n",
    "DFs['names'] += [name]"
   ]
  },
  {
   "cell_type": "code",
   "execution_count": 7,
   "id": "be44d59a",
   "metadata": {
    "scrolled": true
   },
   "outputs": [
    {
     "name": "stderr",
     "output_type": "stream",
     "text": [
      "C:\\Users\\nikma\\anaconda3\\lib\\site-packages\\sklearn\\model_selection\\_validation.py:610: FitFailedWarning: Estimator fit failed. The score on this train-test partition for these parameters will be set to nan. Details: \n",
      "Traceback (most recent call last):\n",
      "  File \"C:\\Users\\nikma\\anaconda3\\lib\\site-packages\\sklearn\\model_selection\\_validation.py\", line 593, in _fit_and_score\n",
      "    estimator.fit(X_train, y_train, **fit_params)\n",
      "  File \"C:\\Users\\nikma\\Desktop\\Statistics and data Science\\Master Thesis\\Code\\wittgenstein4\\ripper.py\", line 156, in fit\n",
      "    self.fit_rules(\n",
      "TypeError: fit_rules() got multiple values for argument 'n_discretize_bins'\n",
      "\n",
      "  warnings.warn(\"Estimator fit failed. The score on this train-test\"\n",
      "C:\\Users\\nikma\\anaconda3\\lib\\site-packages\\sklearn\\model_selection\\_validation.py:610: FitFailedWarning: Estimator fit failed. The score on this train-test partition for these parameters will be set to nan. Details: \n",
      "Traceback (most recent call last):\n",
      "  File \"C:\\Users\\nikma\\anaconda3\\lib\\site-packages\\sklearn\\model_selection\\_validation.py\", line 593, in _fit_and_score\n",
      "    estimator.fit(X_train, y_train, **fit_params)\n",
      "  File \"C:\\Users\\nikma\\Desktop\\Statistics and data Science\\Master Thesis\\Code\\wittgenstein4\\ripper.py\", line 156, in fit\n",
      "    self.fit_rules(\n",
      "TypeError: fit_rules() got multiple values for argument 'n_discretize_bins'\n",
      "\n",
      "  warnings.warn(\"Estimator fit failed. The score on this train-test\"\n",
      "C:\\Users\\nikma\\anaconda3\\lib\\site-packages\\sklearn\\model_selection\\_validation.py:610: FitFailedWarning: Estimator fit failed. The score on this train-test partition for these parameters will be set to nan. Details: \n",
      "Traceback (most recent call last):\n",
      "  File \"C:\\Users\\nikma\\anaconda3\\lib\\site-packages\\sklearn\\model_selection\\_validation.py\", line 593, in _fit_and_score\n",
      "    estimator.fit(X_train, y_train, **fit_params)\n",
      "  File \"C:\\Users\\nikma\\Desktop\\Statistics and data Science\\Master Thesis\\Code\\wittgenstein4\\ripper.py\", line 156, in fit\n",
      "    self.fit_rules(\n",
      "TypeError: fit_rules() got multiple values for argument 'n_discretize_bins'\n",
      "\n",
      "  warnings.warn(\"Estimator fit failed. The score on this train-test\"\n",
      "C:\\Users\\nikma\\anaconda3\\lib\\site-packages\\sklearn\\model_selection\\_validation.py:610: FitFailedWarning: Estimator fit failed. The score on this train-test partition for these parameters will be set to nan. Details: \n",
      "Traceback (most recent call last):\n",
      "  File \"C:\\Users\\nikma\\anaconda3\\lib\\site-packages\\sklearn\\model_selection\\_validation.py\", line 593, in _fit_and_score\n",
      "    estimator.fit(X_train, y_train, **fit_params)\n",
      "  File \"C:\\Users\\nikma\\Desktop\\Statistics and data Science\\Master Thesis\\Code\\wittgenstein4\\ripper.py\", line 156, in fit\n",
      "    self.fit_rules(\n",
      "TypeError: fit_rules() got multiple values for argument 'n_discretize_bins'\n",
      "\n",
      "  warnings.warn(\"Estimator fit failed. The score on this train-test\"\n",
      "C:\\Users\\nikma\\anaconda3\\lib\\site-packages\\sklearn\\model_selection\\_validation.py:610: FitFailedWarning: Estimator fit failed. The score on this train-test partition for these parameters will be set to nan. Details: \n",
      "Traceback (most recent call last):\n",
      "  File \"C:\\Users\\nikma\\anaconda3\\lib\\site-packages\\sklearn\\model_selection\\_validation.py\", line 593, in _fit_and_score\n",
      "    estimator.fit(X_train, y_train, **fit_params)\n",
      "  File \"C:\\Users\\nikma\\Desktop\\Statistics and data Science\\Master Thesis\\Code\\wittgenstein4\\ripper.py\", line 156, in fit\n",
      "    self.fit_rules(\n",
      "TypeError: fit_rules() got multiple values for argument 'n_discretize_bins'\n",
      "\n",
      "  warnings.warn(\"Estimator fit failed. The score on this train-test\"\n",
      "C:\\Users\\nikma\\anaconda3\\lib\\site-packages\\sklearn\\model_selection\\_validation.py:610: FitFailedWarning: Estimator fit failed. The score on this train-test partition for these parameters will be set to nan. Details: \n",
      "Traceback (most recent call last):\n",
      "  File \"C:\\Users\\nikma\\anaconda3\\lib\\site-packages\\sklearn\\model_selection\\_validation.py\", line 593, in _fit_and_score\n",
      "    estimator.fit(X_train, y_train, **fit_params)\n",
      "  File \"C:\\Users\\nikma\\Desktop\\Statistics and data Science\\Master Thesis\\Code\\wittgenstein4\\ripper.py\", line 156, in fit\n",
      "    self.fit_rules(\n",
      "TypeError: fit_rules() got multiple values for argument 'n_discretize_bins'\n",
      "\n",
      "  warnings.warn(\"Estimator fit failed. The score on this train-test\"\n",
      "C:\\Users\\nikma\\anaconda3\\lib\\site-packages\\sklearn\\model_selection\\_validation.py:610: FitFailedWarning: Estimator fit failed. The score on this train-test partition for these parameters will be set to nan. Details: \n",
      "Traceback (most recent call last):\n",
      "  File \"C:\\Users\\nikma\\anaconda3\\lib\\site-packages\\sklearn\\model_selection\\_validation.py\", line 593, in _fit_and_score\n",
      "    estimator.fit(X_train, y_train, **fit_params)\n",
      "  File \"C:\\Users\\nikma\\Desktop\\Statistics and data Science\\Master Thesis\\Code\\wittgenstein4\\ripper.py\", line 156, in fit\n",
      "    self.fit_rules(\n",
      "TypeError: fit_rules() got multiple values for argument 'n_discretize_bins'\n",
      "\n",
      "  warnings.warn(\"Estimator fit failed. The score on this train-test\"\n",
      "C:\\Users\\nikma\\anaconda3\\lib\\site-packages\\sklearn\\model_selection\\_validation.py:610: FitFailedWarning: Estimator fit failed. The score on this train-test partition for these parameters will be set to nan. Details: \n",
      "Traceback (most recent call last):\n",
      "  File \"C:\\Users\\nikma\\anaconda3\\lib\\site-packages\\sklearn\\model_selection\\_validation.py\", line 593, in _fit_and_score\n",
      "    estimator.fit(X_train, y_train, **fit_params)\n",
      "  File \"C:\\Users\\nikma\\Desktop\\Statistics and data Science\\Master Thesis\\Code\\wittgenstein4\\ripper.py\", line 156, in fit\n",
      "    self.fit_rules(\n",
      "TypeError: fit_rules() got multiple values for argument 'n_discretize_bins'\n",
      "\n",
      "  warnings.warn(\"Estimator fit failed. The score on this train-test\"\n",
      "C:\\Users\\nikma\\anaconda3\\lib\\site-packages\\sklearn\\model_selection\\_validation.py:610: FitFailedWarning: Estimator fit failed. The score on this train-test partition for these parameters will be set to nan. Details: \n",
      "Traceback (most recent call last):\n",
      "  File \"C:\\Users\\nikma\\anaconda3\\lib\\site-packages\\sklearn\\model_selection\\_validation.py\", line 593, in _fit_and_score\n",
      "    estimator.fit(X_train, y_train, **fit_params)\n",
      "  File \"C:\\Users\\nikma\\Desktop\\Statistics and data Science\\Master Thesis\\Code\\wittgenstein4\\ripper.py\", line 156, in fit\n",
      "    self.fit_rules(\n",
      "TypeError: fit_rules() got multiple values for argument 'n_discretize_bins'\n",
      "\n",
      "  warnings.warn(\"Estimator fit failed. The score on this train-test\"\n",
      "C:\\Users\\nikma\\anaconda3\\lib\\site-packages\\sklearn\\model_selection\\_validation.py:610: FitFailedWarning: Estimator fit failed. The score on this train-test partition for these parameters will be set to nan. Details: \n",
      "Traceback (most recent call last):\n",
      "  File \"C:\\Users\\nikma\\anaconda3\\lib\\site-packages\\sklearn\\model_selection\\_validation.py\", line 593, in _fit_and_score\n",
      "    estimator.fit(X_train, y_train, **fit_params)\n",
      "  File \"C:\\Users\\nikma\\Desktop\\Statistics and data Science\\Master Thesis\\Code\\wittgenstein4\\ripper.py\", line 156, in fit\n",
      "    self.fit_rules(\n",
      "TypeError: fit_rules() got multiple values for argument 'n_discretize_bins'\n",
      "\n",
      "  warnings.warn(\"Estimator fit failed. The score on this train-test\"\n",
      "C:\\Users\\nikma\\anaconda3\\lib\\site-packages\\sklearn\\model_selection\\_validation.py:610: FitFailedWarning: Estimator fit failed. The score on this train-test partition for these parameters will be set to nan. Details: \n",
      "Traceback (most recent call last):\n",
      "  File \"C:\\Users\\nikma\\anaconda3\\lib\\site-packages\\sklearn\\model_selection\\_validation.py\", line 593, in _fit_and_score\n",
      "    estimator.fit(X_train, y_train, **fit_params)\n",
      "  File \"C:\\Users\\nikma\\Desktop\\Statistics and data Science\\Master Thesis\\Code\\wittgenstein4\\ripper.py\", line 156, in fit\n",
      "    self.fit_rules(\n",
      "TypeError: fit_rules() got multiple values for argument 'n_discretize_bins'\n",
      "\n",
      "  warnings.warn(\"Estimator fit failed. The score on this train-test\"\n",
      "C:\\Users\\nikma\\anaconda3\\lib\\site-packages\\sklearn\\model_selection\\_validation.py:610: FitFailedWarning: Estimator fit failed. The score on this train-test partition for these parameters will be set to nan. Details: \n",
      "Traceback (most recent call last):\n",
      "  File \"C:\\Users\\nikma\\anaconda3\\lib\\site-packages\\sklearn\\model_selection\\_validation.py\", line 593, in _fit_and_score\n",
      "    estimator.fit(X_train, y_train, **fit_params)\n",
      "  File \"C:\\Users\\nikma\\Desktop\\Statistics and data Science\\Master Thesis\\Code\\wittgenstein4\\ripper.py\", line 156, in fit\n",
      "    self.fit_rules(\n",
      "TypeError: fit_rules() got multiple values for argument 'n_discretize_bins'\n",
      "\n",
      "  warnings.warn(\"Estimator fit failed. The score on this train-test\"\n",
      "C:\\Users\\nikma\\anaconda3\\lib\\site-packages\\sklearn\\model_selection\\_validation.py:610: FitFailedWarning: Estimator fit failed. The score on this train-test partition for these parameters will be set to nan. Details: \n",
      "Traceback (most recent call last):\n",
      "  File \"C:\\Users\\nikma\\anaconda3\\lib\\site-packages\\sklearn\\model_selection\\_validation.py\", line 593, in _fit_and_score\n",
      "    estimator.fit(X_train, y_train, **fit_params)\n",
      "  File \"C:\\Users\\nikma\\Desktop\\Statistics and data Science\\Master Thesis\\Code\\wittgenstein4\\ripper.py\", line 156, in fit\n",
      "    self.fit_rules(\n",
      "TypeError: fit_rules() got multiple values for argument 'n_discretize_bins'\n",
      "\n",
      "  warnings.warn(\"Estimator fit failed. The score on this train-test\"\n",
      "C:\\Users\\nikma\\anaconda3\\lib\\site-packages\\sklearn\\model_selection\\_validation.py:610: FitFailedWarning: Estimator fit failed. The score on this train-test partition for these parameters will be set to nan. Details: \n",
      "Traceback (most recent call last):\n",
      "  File \"C:\\Users\\nikma\\anaconda3\\lib\\site-packages\\sklearn\\model_selection\\_validation.py\", line 593, in _fit_and_score\n",
      "    estimator.fit(X_train, y_train, **fit_params)\n",
      "  File \"C:\\Users\\nikma\\Desktop\\Statistics and data Science\\Master Thesis\\Code\\wittgenstein4\\ripper.py\", line 156, in fit\n",
      "    self.fit_rules(\n",
      "TypeError: fit_rules() got multiple values for argument 'n_discretize_bins'\n",
      "\n",
      "  warnings.warn(\"Estimator fit failed. The score on this train-test\"\n",
      "C:\\Users\\nikma\\anaconda3\\lib\\site-packages\\sklearn\\model_selection\\_validation.py:610: FitFailedWarning: Estimator fit failed. The score on this train-test partition for these parameters will be set to nan. Details: \n",
      "Traceback (most recent call last):\n",
      "  File \"C:\\Users\\nikma\\anaconda3\\lib\\site-packages\\sklearn\\model_selection\\_validation.py\", line 593, in _fit_and_score\n",
      "    estimator.fit(X_train, y_train, **fit_params)\n",
      "  File \"C:\\Users\\nikma\\Desktop\\Statistics and data Science\\Master Thesis\\Code\\wittgenstein4\\ripper.py\", line 156, in fit\n",
      "    self.fit_rules(\n",
      "TypeError: fit_rules() got multiple values for argument 'n_discretize_bins'\n",
      "\n",
      "  warnings.warn(\"Estimator fit failed. The score on this train-test\"\n",
      "C:\\Users\\nikma\\anaconda3\\lib\\site-packages\\sklearn\\model_selection\\_validation.py:610: FitFailedWarning: Estimator fit failed. The score on this train-test partition for these parameters will be set to nan. Details: \n",
      "Traceback (most recent call last):\n",
      "  File \"C:\\Users\\nikma\\anaconda3\\lib\\site-packages\\sklearn\\model_selection\\_validation.py\", line 593, in _fit_and_score\n",
      "    estimator.fit(X_train, y_train, **fit_params)\n",
      "  File \"C:\\Users\\nikma\\Desktop\\Statistics and data Science\\Master Thesis\\Code\\wittgenstein4\\ripper.py\", line 156, in fit\n",
      "    self.fit_rules(\n",
      "TypeError: fit_rules() got multiple values for argument 'n_discretize_bins'\n",
      "\n",
      "  warnings.warn(\"Estimator fit failed. The score on this train-test\"\n",
      "C:\\Users\\nikma\\anaconda3\\lib\\site-packages\\sklearn\\model_selection\\_validation.py:610: FitFailedWarning: Estimator fit failed. The score on this train-test partition for these parameters will be set to nan. Details: \n",
      "Traceback (most recent call last):\n",
      "  File \"C:\\Users\\nikma\\anaconda3\\lib\\site-packages\\sklearn\\model_selection\\_validation.py\", line 593, in _fit_and_score\n",
      "    estimator.fit(X_train, y_train, **fit_params)\n",
      "  File \"C:\\Users\\nikma\\Desktop\\Statistics and data Science\\Master Thesis\\Code\\wittgenstein4\\ripper.py\", line 156, in fit\n",
      "    self.fit_rules(\n",
      "TypeError: fit_rules() got multiple values for argument 'n_discretize_bins'\n",
      "\n",
      "  warnings.warn(\"Estimator fit failed. The score on this train-test\"\n",
      "C:\\Users\\nikma\\anaconda3\\lib\\site-packages\\sklearn\\model_selection\\_validation.py:610: FitFailedWarning: Estimator fit failed. The score on this train-test partition for these parameters will be set to nan. Details: \n",
      "Traceback (most recent call last):\n",
      "  File \"C:\\Users\\nikma\\anaconda3\\lib\\site-packages\\sklearn\\model_selection\\_validation.py\", line 593, in _fit_and_score\n",
      "    estimator.fit(X_train, y_train, **fit_params)\n",
      "  File \"C:\\Users\\nikma\\Desktop\\Statistics and data Science\\Master Thesis\\Code\\wittgenstein4\\ripper.py\", line 156, in fit\n",
      "    self.fit_rules(\n",
      "TypeError: fit_rules() got multiple values for argument 'n_discretize_bins'\n",
      "\n",
      "  warnings.warn(\"Estimator fit failed. The score on this train-test\"\n",
      "C:\\Users\\nikma\\anaconda3\\lib\\site-packages\\sklearn\\model_selection\\_validation.py:610: FitFailedWarning: Estimator fit failed. The score on this train-test partition for these parameters will be set to nan. Details: \n",
      "Traceback (most recent call last):\n",
      "  File \"C:\\Users\\nikma\\anaconda3\\lib\\site-packages\\sklearn\\model_selection\\_validation.py\", line 593, in _fit_and_score\n",
      "    estimator.fit(X_train, y_train, **fit_params)\n",
      "  File \"C:\\Users\\nikma\\Desktop\\Statistics and data Science\\Master Thesis\\Code\\wittgenstein4\\ripper.py\", line 156, in fit\n",
      "    self.fit_rules(\n",
      "TypeError: fit_rules() got multiple values for argument 'n_discretize_bins'\n",
      "\n",
      "  warnings.warn(\"Estimator fit failed. The score on this train-test\"\n",
      "C:\\Users\\nikma\\anaconda3\\lib\\site-packages\\sklearn\\model_selection\\_validation.py:610: FitFailedWarning: Estimator fit failed. The score on this train-test partition for these parameters will be set to nan. Details: \n",
      "Traceback (most recent call last):\n",
      "  File \"C:\\Users\\nikma\\anaconda3\\lib\\site-packages\\sklearn\\model_selection\\_validation.py\", line 593, in _fit_and_score\n",
      "    estimator.fit(X_train, y_train, **fit_params)\n",
      "  File \"C:\\Users\\nikma\\Desktop\\Statistics and data Science\\Master Thesis\\Code\\wittgenstein4\\ripper.py\", line 156, in fit\n",
      "    self.fit_rules(\n",
      "TypeError: fit_rules() got multiple values for argument 'n_discretize_bins'\n",
      "\n",
      "  warnings.warn(\"Estimator fit failed. The score on this train-test\"\n",
      "C:\\Users\\nikma\\anaconda3\\lib\\site-packages\\sklearn\\model_selection\\_validation.py:610: FitFailedWarning: Estimator fit failed. The score on this train-test partition for these parameters will be set to nan. Details: \n",
      "Traceback (most recent call last):\n",
      "  File \"C:\\Users\\nikma\\anaconda3\\lib\\site-packages\\sklearn\\model_selection\\_validation.py\", line 593, in _fit_and_score\n",
      "    estimator.fit(X_train, y_train, **fit_params)\n",
      "  File \"C:\\Users\\nikma\\Desktop\\Statistics and data Science\\Master Thesis\\Code\\wittgenstein4\\ripper.py\", line 156, in fit\n",
      "    self.fit_rules(\n",
      "TypeError: fit_rules() got multiple values for argument 'n_discretize_bins'\n",
      "\n",
      "  warnings.warn(\"Estimator fit failed. The score on this train-test\"\n"
     ]
    },
    {
     "name": "stderr",
     "output_type": "stream",
     "text": [
      "C:\\Users\\nikma\\anaconda3\\lib\\site-packages\\sklearn\\model_selection\\_validation.py:610: FitFailedWarning: Estimator fit failed. The score on this train-test partition for these parameters will be set to nan. Details: \n",
      "Traceback (most recent call last):\n",
      "  File \"C:\\Users\\nikma\\anaconda3\\lib\\site-packages\\sklearn\\model_selection\\_validation.py\", line 593, in _fit_and_score\n",
      "    estimator.fit(X_train, y_train, **fit_params)\n",
      "  File \"C:\\Users\\nikma\\Desktop\\Statistics and data Science\\Master Thesis\\Code\\wittgenstein4\\ripper.py\", line 156, in fit\n",
      "    self.fit_rules(\n",
      "TypeError: fit_rules() got multiple values for argument 'n_discretize_bins'\n",
      "\n",
      "  warnings.warn(\"Estimator fit failed. The score on this train-test\"\n",
      "C:\\Users\\nikma\\anaconda3\\lib\\site-packages\\sklearn\\model_selection\\_validation.py:610: FitFailedWarning: Estimator fit failed. The score on this train-test partition for these parameters will be set to nan. Details: \n",
      "Traceback (most recent call last):\n",
      "  File \"C:\\Users\\nikma\\anaconda3\\lib\\site-packages\\sklearn\\model_selection\\_validation.py\", line 593, in _fit_and_score\n",
      "    estimator.fit(X_train, y_train, **fit_params)\n",
      "  File \"C:\\Users\\nikma\\Desktop\\Statistics and data Science\\Master Thesis\\Code\\wittgenstein4\\ripper.py\", line 156, in fit\n",
      "    self.fit_rules(\n",
      "TypeError: fit_rules() got multiple values for argument 'n_discretize_bins'\n",
      "\n",
      "  warnings.warn(\"Estimator fit failed. The score on this train-test\"\n",
      "C:\\Users\\nikma\\anaconda3\\lib\\site-packages\\sklearn\\model_selection\\_validation.py:610: FitFailedWarning: Estimator fit failed. The score on this train-test partition for these parameters will be set to nan. Details: \n",
      "Traceback (most recent call last):\n",
      "  File \"C:\\Users\\nikma\\anaconda3\\lib\\site-packages\\sklearn\\model_selection\\_validation.py\", line 593, in _fit_and_score\n",
      "    estimator.fit(X_train, y_train, **fit_params)\n",
      "  File \"C:\\Users\\nikma\\Desktop\\Statistics and data Science\\Master Thesis\\Code\\wittgenstein4\\ripper.py\", line 156, in fit\n",
      "    self.fit_rules(\n",
      "TypeError: fit_rules() got multiple values for argument 'n_discretize_bins'\n",
      "\n",
      "  warnings.warn(\"Estimator fit failed. The score on this train-test\"\n",
      "C:\\Users\\nikma\\anaconda3\\lib\\site-packages\\sklearn\\model_selection\\_validation.py:610: FitFailedWarning: Estimator fit failed. The score on this train-test partition for these parameters will be set to nan. Details: \n",
      "Traceback (most recent call last):\n",
      "  File \"C:\\Users\\nikma\\anaconda3\\lib\\site-packages\\sklearn\\model_selection\\_validation.py\", line 593, in _fit_and_score\n",
      "    estimator.fit(X_train, y_train, **fit_params)\n",
      "  File \"C:\\Users\\nikma\\Desktop\\Statistics and data Science\\Master Thesis\\Code\\wittgenstein4\\ripper.py\", line 156, in fit\n",
      "    self.fit_rules(\n",
      "TypeError: fit_rules() got multiple values for argument 'n_discretize_bins'\n",
      "\n",
      "  warnings.warn(\"Estimator fit failed. The score on this train-test\"\n",
      "C:\\Users\\nikma\\anaconda3\\lib\\site-packages\\sklearn\\model_selection\\_validation.py:610: FitFailedWarning: Estimator fit failed. The score on this train-test partition for these parameters will be set to nan. Details: \n",
      "Traceback (most recent call last):\n",
      "  File \"C:\\Users\\nikma\\anaconda3\\lib\\site-packages\\sklearn\\model_selection\\_validation.py\", line 593, in _fit_and_score\n",
      "    estimator.fit(X_train, y_train, **fit_params)\n",
      "  File \"C:\\Users\\nikma\\Desktop\\Statistics and data Science\\Master Thesis\\Code\\wittgenstein4\\ripper.py\", line 156, in fit\n",
      "    self.fit_rules(\n",
      "TypeError: fit_rules() got multiple values for argument 'n_discretize_bins'\n",
      "\n",
      "  warnings.warn(\"Estimator fit failed. The score on this train-test\"\n",
      "C:\\Users\\nikma\\anaconda3\\lib\\site-packages\\sklearn\\model_selection\\_validation.py:610: FitFailedWarning: Estimator fit failed. The score on this train-test partition for these parameters will be set to nan. Details: \n",
      "Traceback (most recent call last):\n",
      "  File \"C:\\Users\\nikma\\anaconda3\\lib\\site-packages\\sklearn\\model_selection\\_validation.py\", line 593, in _fit_and_score\n",
      "    estimator.fit(X_train, y_train, **fit_params)\n",
      "  File \"C:\\Users\\nikma\\Desktop\\Statistics and data Science\\Master Thesis\\Code\\wittgenstein4\\ripper.py\", line 156, in fit\n",
      "    self.fit_rules(\n",
      "TypeError: fit_rules() got multiple values for argument 'n_discretize_bins'\n",
      "\n",
      "  warnings.warn(\"Estimator fit failed. The score on this train-test\"\n",
      "C:\\Users\\nikma\\anaconda3\\lib\\site-packages\\sklearn\\model_selection\\_validation.py:610: FitFailedWarning: Estimator fit failed. The score on this train-test partition for these parameters will be set to nan. Details: \n",
      "Traceback (most recent call last):\n",
      "  File \"C:\\Users\\nikma\\anaconda3\\lib\\site-packages\\sklearn\\model_selection\\_validation.py\", line 593, in _fit_and_score\n",
      "    estimator.fit(X_train, y_train, **fit_params)\n",
      "  File \"C:\\Users\\nikma\\Desktop\\Statistics and data Science\\Master Thesis\\Code\\wittgenstein4\\ripper.py\", line 156, in fit\n",
      "    self.fit_rules(\n",
      "TypeError: fit_rules() got multiple values for argument 'n_discretize_bins'\n",
      "\n",
      "  warnings.warn(\"Estimator fit failed. The score on this train-test\"\n",
      "C:\\Users\\nikma\\anaconda3\\lib\\site-packages\\sklearn\\model_selection\\_validation.py:610: FitFailedWarning: Estimator fit failed. The score on this train-test partition for these parameters will be set to nan. Details: \n",
      "Traceback (most recent call last):\n",
      "  File \"C:\\Users\\nikma\\anaconda3\\lib\\site-packages\\sklearn\\model_selection\\_validation.py\", line 593, in _fit_and_score\n",
      "    estimator.fit(X_train, y_train, **fit_params)\n",
      "  File \"C:\\Users\\nikma\\Desktop\\Statistics and data Science\\Master Thesis\\Code\\wittgenstein4\\ripper.py\", line 156, in fit\n",
      "    self.fit_rules(\n",
      "TypeError: fit_rules() got multiple values for argument 'n_discretize_bins'\n",
      "\n",
      "  warnings.warn(\"Estimator fit failed. The score on this train-test\"\n",
      "C:\\Users\\nikma\\anaconda3\\lib\\site-packages\\sklearn\\model_selection\\_validation.py:610: FitFailedWarning: Estimator fit failed. The score on this train-test partition for these parameters will be set to nan. Details: \n",
      "Traceback (most recent call last):\n",
      "  File \"C:\\Users\\nikma\\anaconda3\\lib\\site-packages\\sklearn\\model_selection\\_validation.py\", line 593, in _fit_and_score\n",
      "    estimator.fit(X_train, y_train, **fit_params)\n",
      "  File \"C:\\Users\\nikma\\Desktop\\Statistics and data Science\\Master Thesis\\Code\\wittgenstein4\\ripper.py\", line 156, in fit\n",
      "    self.fit_rules(\n",
      "TypeError: fit_rules() got multiple values for argument 'n_discretize_bins'\n",
      "\n",
      "  warnings.warn(\"Estimator fit failed. The score on this train-test\"\n",
      "C:\\Users\\nikma\\anaconda3\\lib\\site-packages\\sklearn\\model_selection\\_validation.py:610: FitFailedWarning: Estimator fit failed. The score on this train-test partition for these parameters will be set to nan. Details: \n",
      "Traceback (most recent call last):\n",
      "  File \"C:\\Users\\nikma\\anaconda3\\lib\\site-packages\\sklearn\\model_selection\\_validation.py\", line 593, in _fit_and_score\n",
      "    estimator.fit(X_train, y_train, **fit_params)\n",
      "  File \"C:\\Users\\nikma\\Desktop\\Statistics and data Science\\Master Thesis\\Code\\wittgenstein4\\ripper.py\", line 156, in fit\n",
      "    self.fit_rules(\n",
      "TypeError: fit_rules() got multiple values for argument 'n_discretize_bins'\n",
      "\n",
      "  warnings.warn(\"Estimator fit failed. The score on this train-test\"\n",
      "C:\\Users\\nikma\\anaconda3\\lib\\site-packages\\sklearn\\model_selection\\_validation.py:610: FitFailedWarning: Estimator fit failed. The score on this train-test partition for these parameters will be set to nan. Details: \n",
      "Traceback (most recent call last):\n",
      "  File \"C:\\Users\\nikma\\anaconda3\\lib\\site-packages\\sklearn\\model_selection\\_validation.py\", line 593, in _fit_and_score\n",
      "    estimator.fit(X_train, y_train, **fit_params)\n",
      "  File \"C:\\Users\\nikma\\Desktop\\Statistics and data Science\\Master Thesis\\Code\\wittgenstein4\\ripper.py\", line 156, in fit\n",
      "    self.fit_rules(\n",
      "TypeError: fit_rules() got multiple values for argument 'n_discretize_bins'\n",
      "\n",
      "  warnings.warn(\"Estimator fit failed. The score on this train-test\"\n",
      "C:\\Users\\nikma\\anaconda3\\lib\\site-packages\\sklearn\\model_selection\\_validation.py:610: FitFailedWarning: Estimator fit failed. The score on this train-test partition for these parameters will be set to nan. Details: \n",
      "Traceback (most recent call last):\n",
      "  File \"C:\\Users\\nikma\\anaconda3\\lib\\site-packages\\sklearn\\model_selection\\_validation.py\", line 593, in _fit_and_score\n",
      "    estimator.fit(X_train, y_train, **fit_params)\n",
      "  File \"C:\\Users\\nikma\\Desktop\\Statistics and data Science\\Master Thesis\\Code\\wittgenstein4\\ripper.py\", line 156, in fit\n",
      "    self.fit_rules(\n",
      "TypeError: fit_rules() got multiple values for argument 'n_discretize_bins'\n",
      "\n",
      "  warnings.warn(\"Estimator fit failed. The score on this train-test\"\n"
     ]
    },
    {
     "name": "stderr",
     "output_type": "stream",
     "text": [
      "C:\\Users\\nikma\\anaconda3\\lib\\site-packages\\sklearn\\model_selection\\_validation.py:610: FitFailedWarning: Estimator fit failed. The score on this train-test partition for these parameters will be set to nan. Details: \n",
      "Traceback (most recent call last):\n",
      "  File \"C:\\Users\\nikma\\anaconda3\\lib\\site-packages\\sklearn\\model_selection\\_validation.py\", line 593, in _fit_and_score\n",
      "    estimator.fit(X_train, y_train, **fit_params)\n",
      "  File \"C:\\Users\\nikma\\Desktop\\Statistics and data Science\\Master Thesis\\Code\\wittgenstein4\\ripper.py\", line 156, in fit\n",
      "    self.fit_rules(\n",
      "TypeError: fit_rules() got multiple values for argument 'n_discretize_bins'\n",
      "\n",
      "  warnings.warn(\"Estimator fit failed. The score on this train-test\"\n",
      "C:\\Users\\nikma\\anaconda3\\lib\\site-packages\\sklearn\\model_selection\\_validation.py:610: FitFailedWarning: Estimator fit failed. The score on this train-test partition for these parameters will be set to nan. Details: \n",
      "Traceback (most recent call last):\n",
      "  File \"C:\\Users\\nikma\\anaconda3\\lib\\site-packages\\sklearn\\model_selection\\_validation.py\", line 593, in _fit_and_score\n",
      "    estimator.fit(X_train, y_train, **fit_params)\n",
      "  File \"C:\\Users\\nikma\\Desktop\\Statistics and data Science\\Master Thesis\\Code\\wittgenstein4\\ripper.py\", line 156, in fit\n",
      "    self.fit_rules(\n",
      "TypeError: fit_rules() got multiple values for argument 'n_discretize_bins'\n",
      "\n",
      "  warnings.warn(\"Estimator fit failed. The score on this train-test\"\n",
      "C:\\Users\\nikma\\anaconda3\\lib\\site-packages\\sklearn\\model_selection\\_validation.py:610: FitFailedWarning: Estimator fit failed. The score on this train-test partition for these parameters will be set to nan. Details: \n",
      "Traceback (most recent call last):\n",
      "  File \"C:\\Users\\nikma\\anaconda3\\lib\\site-packages\\sklearn\\model_selection\\_validation.py\", line 593, in _fit_and_score\n",
      "    estimator.fit(X_train, y_train, **fit_params)\n",
      "  File \"C:\\Users\\nikma\\Desktop\\Statistics and data Science\\Master Thesis\\Code\\wittgenstein4\\ripper.py\", line 156, in fit\n",
      "    self.fit_rules(\n",
      "TypeError: fit_rules() got multiple values for argument 'n_discretize_bins'\n",
      "\n",
      "  warnings.warn(\"Estimator fit failed. The score on this train-test\"\n",
      "C:\\Users\\nikma\\anaconda3\\lib\\site-packages\\sklearn\\model_selection\\_validation.py:610: FitFailedWarning: Estimator fit failed. The score on this train-test partition for these parameters will be set to nan. Details: \n",
      "Traceback (most recent call last):\n",
      "  File \"C:\\Users\\nikma\\anaconda3\\lib\\site-packages\\sklearn\\model_selection\\_validation.py\", line 593, in _fit_and_score\n",
      "    estimator.fit(X_train, y_train, **fit_params)\n",
      "  File \"C:\\Users\\nikma\\Desktop\\Statistics and data Science\\Master Thesis\\Code\\wittgenstein4\\ripper.py\", line 156, in fit\n",
      "    self.fit_rules(\n",
      "TypeError: fit_rules() got multiple values for argument 'n_discretize_bins'\n",
      "\n",
      "  warnings.warn(\"Estimator fit failed. The score on this train-test\"\n",
      "C:\\Users\\nikma\\anaconda3\\lib\\site-packages\\sklearn\\model_selection\\_validation.py:610: FitFailedWarning: Estimator fit failed. The score on this train-test partition for these parameters will be set to nan. Details: \n",
      "Traceback (most recent call last):\n",
      "  File \"C:\\Users\\nikma\\anaconda3\\lib\\site-packages\\sklearn\\model_selection\\_validation.py\", line 593, in _fit_and_score\n",
      "    estimator.fit(X_train, y_train, **fit_params)\n",
      "  File \"C:\\Users\\nikma\\Desktop\\Statistics and data Science\\Master Thesis\\Code\\wittgenstein4\\ripper.py\", line 156, in fit\n",
      "    self.fit_rules(\n",
      "TypeError: fit_rules() got multiple values for argument 'n_discretize_bins'\n",
      "\n",
      "  warnings.warn(\"Estimator fit failed. The score on this train-test\"\n",
      "C:\\Users\\nikma\\anaconda3\\lib\\site-packages\\sklearn\\model_selection\\_validation.py:610: FitFailedWarning: Estimator fit failed. The score on this train-test partition for these parameters will be set to nan. Details: \n",
      "Traceback (most recent call last):\n",
      "  File \"C:\\Users\\nikma\\anaconda3\\lib\\site-packages\\sklearn\\model_selection\\_validation.py\", line 593, in _fit_and_score\n",
      "    estimator.fit(X_train, y_train, **fit_params)\n",
      "  File \"C:\\Users\\nikma\\Desktop\\Statistics and data Science\\Master Thesis\\Code\\wittgenstein4\\ripper.py\", line 156, in fit\n",
      "    self.fit_rules(\n",
      "TypeError: fit_rules() got multiple values for argument 'n_discretize_bins'\n",
      "\n",
      "  warnings.warn(\"Estimator fit failed. The score on this train-test\"\n",
      "C:\\Users\\nikma\\anaconda3\\lib\\site-packages\\sklearn\\model_selection\\_validation.py:610: FitFailedWarning: Estimator fit failed. The score on this train-test partition for these parameters will be set to nan. Details: \n",
      "Traceback (most recent call last):\n",
      "  File \"C:\\Users\\nikma\\anaconda3\\lib\\site-packages\\sklearn\\model_selection\\_validation.py\", line 593, in _fit_and_score\n",
      "    estimator.fit(X_train, y_train, **fit_params)\n",
      "  File \"C:\\Users\\nikma\\Desktop\\Statistics and data Science\\Master Thesis\\Code\\wittgenstein4\\ripper.py\", line 156, in fit\n",
      "    self.fit_rules(\n",
      "TypeError: fit_rules() got multiple values for argument 'n_discretize_bins'\n",
      "\n",
      "  warnings.warn(\"Estimator fit failed. The score on this train-test\"\n",
      "C:\\Users\\nikma\\anaconda3\\lib\\site-packages\\sklearn\\model_selection\\_validation.py:610: FitFailedWarning: Estimator fit failed. The score on this train-test partition for these parameters will be set to nan. Details: \n",
      "Traceback (most recent call last):\n",
      "  File \"C:\\Users\\nikma\\anaconda3\\lib\\site-packages\\sklearn\\model_selection\\_validation.py\", line 593, in _fit_and_score\n",
      "    estimator.fit(X_train, y_train, **fit_params)\n",
      "  File \"C:\\Users\\nikma\\Desktop\\Statistics and data Science\\Master Thesis\\Code\\wittgenstein4\\ripper.py\", line 156, in fit\n",
      "    self.fit_rules(\n",
      "TypeError: fit_rules() got multiple values for argument 'n_discretize_bins'\n",
      "\n",
      "  warnings.warn(\"Estimator fit failed. The score on this train-test\"\n",
      "C:\\Users\\nikma\\anaconda3\\lib\\site-packages\\sklearn\\model_selection\\_validation.py:610: FitFailedWarning: Estimator fit failed. The score on this train-test partition for these parameters will be set to nan. Details: \n",
      "Traceback (most recent call last):\n",
      "  File \"C:\\Users\\nikma\\anaconda3\\lib\\site-packages\\sklearn\\model_selection\\_validation.py\", line 593, in _fit_and_score\n",
      "    estimator.fit(X_train, y_train, **fit_params)\n",
      "  File \"C:\\Users\\nikma\\Desktop\\Statistics and data Science\\Master Thesis\\Code\\wittgenstein4\\ripper.py\", line 156, in fit\n",
      "    self.fit_rules(\n",
      "TypeError: fit_rules() got multiple values for argument 'n_discretize_bins'\n",
      "\n",
      "  warnings.warn(\"Estimator fit failed. The score on this train-test\"\n",
      "C:\\Users\\nikma\\anaconda3\\lib\\site-packages\\sklearn\\model_selection\\_validation.py:610: FitFailedWarning: Estimator fit failed. The score on this train-test partition for these parameters will be set to nan. Details: \n",
      "Traceback (most recent call last):\n",
      "  File \"C:\\Users\\nikma\\anaconda3\\lib\\site-packages\\sklearn\\model_selection\\_validation.py\", line 593, in _fit_and_score\n",
      "    estimator.fit(X_train, y_train, **fit_params)\n",
      "  File \"C:\\Users\\nikma\\Desktop\\Statistics and data Science\\Master Thesis\\Code\\wittgenstein4\\ripper.py\", line 156, in fit\n",
      "    self.fit_rules(\n",
      "TypeError: fit_rules() got multiple values for argument 'n_discretize_bins'\n",
      "\n",
      "  warnings.warn(\"Estimator fit failed. The score on this train-test\"\n",
      "C:\\Users\\nikma\\anaconda3\\lib\\site-packages\\sklearn\\model_selection\\_validation.py:610: FitFailedWarning: Estimator fit failed. The score on this train-test partition for these parameters will be set to nan. Details: \n",
      "Traceback (most recent call last):\n",
      "  File \"C:\\Users\\nikma\\anaconda3\\lib\\site-packages\\sklearn\\model_selection\\_validation.py\", line 593, in _fit_and_score\n",
      "    estimator.fit(X_train, y_train, **fit_params)\n",
      "  File \"C:\\Users\\nikma\\Desktop\\Statistics and data Science\\Master Thesis\\Code\\wittgenstein4\\ripper.py\", line 156, in fit\n",
      "    self.fit_rules(\n",
      "TypeError: fit_rules() got multiple values for argument 'n_discretize_bins'\n",
      "\n",
      "  warnings.warn(\"Estimator fit failed. The score on this train-test\"\n",
      "C:\\Users\\nikma\\anaconda3\\lib\\site-packages\\sklearn\\model_selection\\_validation.py:610: FitFailedWarning: Estimator fit failed. The score on this train-test partition for these parameters will be set to nan. Details: \n",
      "Traceback (most recent call last):\n",
      "  File \"C:\\Users\\nikma\\anaconda3\\lib\\site-packages\\sklearn\\model_selection\\_validation.py\", line 593, in _fit_and_score\n",
      "    estimator.fit(X_train, y_train, **fit_params)\n",
      "  File \"C:\\Users\\nikma\\Desktop\\Statistics and data Science\\Master Thesis\\Code\\wittgenstein4\\ripper.py\", line 156, in fit\n",
      "    self.fit_rules(\n",
      "TypeError: fit_rules() got multiple values for argument 'n_discretize_bins'\n",
      "\n",
      "  warnings.warn(\"Estimator fit failed. The score on this train-test\"\n"
     ]
    },
    {
     "name": "stdout",
     "output_type": "stream",
     "text": [
      "Best W found: 0.1 , best score: nan\n"
     ]
    },
    {
     "ename": "TypeError",
     "evalue": "'<' not supported between instances of 'float' and 'str'",
     "output_type": "error",
     "traceback": [
      "\u001b[1;31m---------------------------------------------------------------------------\u001b[0m",
      "\u001b[1;31mTypeError\u001b[0m                                 Traceback (most recent call last)",
      "\u001b[1;32m<ipython-input-7-9b019e41d8c7>\u001b[0m in \u001b[0;36m<module>\u001b[1;34m\u001b[0m\n\u001b[1;32m----> 1\u001b[1;33m \u001b[0mfunctions\u001b[0m\u001b[1;33m.\u001b[0m\u001b[0macc_rate_with_param_selection\u001b[0m\u001b[1;33m(\u001b[0m\u001b[0mdf\u001b[0m\u001b[1;33m,\u001b[0m \u001b[0mclass_feat\u001b[0m\u001b[1;33m,\u001b[0m \u001b[0mpos_class\u001b[0m\u001b[1;33m,\u001b[0m \u001b[0mcv\u001b[0m \u001b[1;33m=\u001b[0m \u001b[0mcv\u001b[0m\u001b[1;33m,\u001b[0m \u001b[0mparam\u001b[0m \u001b[1;33m=\u001b[0m \u001b[1;34m'W'\u001b[0m\u001b[1;33m,\u001b[0m \u001b[0mW\u001b[0m \u001b[1;33m=\u001b[0m \u001b[1;32mNone\u001b[0m\u001b[1;33m,\u001b[0m \u001b[0mbudget\u001b[0m \u001b[1;33m=\u001b[0m \u001b[0mbudget\u001b[0m\u001b[1;33m)\u001b[0m\u001b[1;33m\u001b[0m\u001b[1;33m\u001b[0m\u001b[0m\n\u001b[0m",
      "\u001b[1;32m~\\Desktop\\Statistics and data Science\\Master Thesis\\Code\\functions.py\u001b[0m in \u001b[0;36macc_rate_with_param_selection\u001b[1;34m(df, class_feat, pos_class, cv, param, W, budget)\u001b[0m\n\u001b[0;32m    161\u001b[0m         \u001b[0macc_standard\u001b[0m \u001b[1;33m+=\u001b[0m \u001b[1;33m[\u001b[0m\u001b[0mripper_standard\u001b[0m\u001b[1;33m.\u001b[0m\u001b[0mscore\u001b[0m\u001b[1;33m(\u001b[0m\u001b[0mX_test\u001b[0m\u001b[1;33m,\u001b[0m \u001b[0my_test\u001b[0m\u001b[1;33m)\u001b[0m\u001b[1;33m]\u001b[0m\u001b[1;33m\u001b[0m\u001b[1;33m\u001b[0m\u001b[0m\n\u001b[0;32m    162\u001b[0m \u001b[1;33m\u001b[0m\u001b[0m\n\u001b[1;32m--> 163\u001b[1;33m         \u001b[0mripper_improved\u001b[0m\u001b[1;33m.\u001b[0m\u001b[0mfit\u001b[0m\u001b[1;33m(\u001b[0m\u001b[0mX_train\u001b[0m\u001b[1;33m,\u001b[0m \u001b[0mclass_feat\u001b[0m \u001b[1;33m=\u001b[0m \u001b[0mclass_feat\u001b[0m\u001b[1;33m,\u001b[0m \u001b[0mpos_class\u001b[0m \u001b[1;33m=\u001b[0m \u001b[0mpos_class\u001b[0m\u001b[1;33m)\u001b[0m\u001b[1;33m\u001b[0m\u001b[1;33m\u001b[0m\u001b[0m\n\u001b[0m\u001b[0;32m    164\u001b[0m         \u001b[0my_test\u001b[0m \u001b[1;33m=\u001b[0m \u001b[0mX_test\u001b[0m\u001b[1;33m[\u001b[0m\u001b[0mclass_feat\u001b[0m\u001b[1;33m]\u001b[0m\u001b[1;33m\u001b[0m\u001b[1;33m\u001b[0m\u001b[0m\n\u001b[0;32m    165\u001b[0m         \u001b[0macc_improved\u001b[0m \u001b[1;33m+=\u001b[0m \u001b[1;33m[\u001b[0m\u001b[0mripper_improved\u001b[0m\u001b[1;33m.\u001b[0m\u001b[0mscore\u001b[0m\u001b[1;33m(\u001b[0m\u001b[0mX_test\u001b[0m\u001b[1;33m,\u001b[0m \u001b[0my_test\u001b[0m\u001b[1;33m)\u001b[0m\u001b[1;33m]\u001b[0m\u001b[1;33m\u001b[0m\u001b[1;33m\u001b[0m\u001b[0m\n",
      "\u001b[1;32m~\\Desktop\\Statistics and data Science\\Master Thesis\\Code\\wittgenstein4\\ripper.py\u001b[0m in \u001b[0;36mfit\u001b[1;34m(self, trainset, y, class_feat, pos_class, feature_names, initial_model, cn_optimize, n_discretize_bins, **kwargs)\u001b[0m\n\u001b[0;32m    142\u001b[0m             \u001b[0mmaximum_discr_bins\u001b[0m \u001b[1;33m=\u001b[0m \u001b[1;36m2\u001b[0m\u001b[1;33m\u001b[0m\u001b[1;33m\u001b[0m\u001b[0m\n\u001b[0;32m    143\u001b[0m             \u001b[1;32mfor\u001b[0m \u001b[0mi\u001b[0m \u001b[1;32min\u001b[0m \u001b[0mrange\u001b[0m\u001b[1;33m(\u001b[0m\u001b[0mn_variables\u001b[0m\u001b[1;33m)\u001b[0m\u001b[1;33m:\u001b[0m\u001b[1;33m\u001b[0m\u001b[1;33m\u001b[0m\u001b[0m\n\u001b[1;32m--> 144\u001b[1;33m                 \u001b[0mn\u001b[0m \u001b[1;33m=\u001b[0m \u001b[0mlen\u001b[0m\u001b[1;33m(\u001b[0m\u001b[0mnp\u001b[0m\u001b[1;33m.\u001b[0m\u001b[0munique\u001b[0m\u001b[1;33m(\u001b[0m\u001b[0mnp\u001b[0m\u001b[1;33m.\u001b[0m\u001b[0masarray\u001b[0m\u001b[1;33m(\u001b[0m\u001b[0mtrainset\u001b[0m\u001b[1;33m)\u001b[0m\u001b[1;33m[\u001b[0m\u001b[1;33m:\u001b[0m\u001b[1;33m,\u001b[0m \u001b[0mi\u001b[0m\u001b[1;33m]\u001b[0m\u001b[1;33m)\u001b[0m\u001b[1;33m)\u001b[0m \u001b[1;31m# Number of unique elements in the i-th variable\u001b[0m\u001b[1;33m\u001b[0m\u001b[1;33m\u001b[0m\u001b[0m\n\u001b[0m\u001b[0;32m    145\u001b[0m                 \u001b[0mmaximum_discr_bins\u001b[0m \u001b[1;33m=\u001b[0m \u001b[0mmax\u001b[0m\u001b[1;33m(\u001b[0m\u001b[0mmaximum_discr_bins\u001b[0m\u001b[1;33m,\u001b[0m \u001b[0mn\u001b[0m\u001b[1;33m)\u001b[0m\u001b[1;33m\u001b[0m\u001b[1;33m\u001b[0m\u001b[0m\n\u001b[0;32m    146\u001b[0m \u001b[1;33m\u001b[0m\u001b[0m\n",
      "\u001b[1;32m~\\anaconda3\\lib\\site-packages\\numpy\\core\\overrides.py\u001b[0m in \u001b[0;36munique\u001b[1;34m(*args, **kwargs)\u001b[0m\n",
      "\u001b[1;32m~\\anaconda3\\lib\\site-packages\\numpy\\lib\\arraysetops.py\u001b[0m in \u001b[0;36munique\u001b[1;34m(ar, return_index, return_inverse, return_counts, axis, equal_nan)\u001b[0m\n\u001b[0;32m    272\u001b[0m     \u001b[0mar\u001b[0m \u001b[1;33m=\u001b[0m \u001b[0mnp\u001b[0m\u001b[1;33m.\u001b[0m\u001b[0masanyarray\u001b[0m\u001b[1;33m(\u001b[0m\u001b[0mar\u001b[0m\u001b[1;33m)\u001b[0m\u001b[1;33m\u001b[0m\u001b[1;33m\u001b[0m\u001b[0m\n\u001b[0;32m    273\u001b[0m     \u001b[1;32mif\u001b[0m \u001b[0maxis\u001b[0m \u001b[1;32mis\u001b[0m \u001b[1;32mNone\u001b[0m\u001b[1;33m:\u001b[0m\u001b[1;33m\u001b[0m\u001b[1;33m\u001b[0m\u001b[0m\n\u001b[1;32m--> 274\u001b[1;33m         ret = _unique1d(ar, return_index, return_inverse, return_counts, \n\u001b[0m\u001b[0;32m    275\u001b[0m                         equal_nan=equal_nan)\n\u001b[0;32m    276\u001b[0m         \u001b[1;32mreturn\u001b[0m \u001b[0m_unpack_tuple\u001b[0m\u001b[1;33m(\u001b[0m\u001b[0mret\u001b[0m\u001b[1;33m)\u001b[0m\u001b[1;33m\u001b[0m\u001b[1;33m\u001b[0m\u001b[0m\n",
      "\u001b[1;32m~\\anaconda3\\lib\\site-packages\\numpy\\lib\\arraysetops.py\u001b[0m in \u001b[0;36m_unique1d\u001b[1;34m(ar, return_index, return_inverse, return_counts, equal_nan)\u001b[0m\n\u001b[0;32m    334\u001b[0m         \u001b[0maux\u001b[0m \u001b[1;33m=\u001b[0m \u001b[0mar\u001b[0m\u001b[1;33m[\u001b[0m\u001b[0mperm\u001b[0m\u001b[1;33m]\u001b[0m\u001b[1;33m\u001b[0m\u001b[1;33m\u001b[0m\u001b[0m\n\u001b[0;32m    335\u001b[0m     \u001b[1;32melse\u001b[0m\u001b[1;33m:\u001b[0m\u001b[1;33m\u001b[0m\u001b[1;33m\u001b[0m\u001b[0m\n\u001b[1;32m--> 336\u001b[1;33m         \u001b[0mar\u001b[0m\u001b[1;33m.\u001b[0m\u001b[0msort\u001b[0m\u001b[1;33m(\u001b[0m\u001b[1;33m)\u001b[0m\u001b[1;33m\u001b[0m\u001b[1;33m\u001b[0m\u001b[0m\n\u001b[0m\u001b[0;32m    337\u001b[0m         \u001b[0maux\u001b[0m \u001b[1;33m=\u001b[0m \u001b[0mar\u001b[0m\u001b[1;33m\u001b[0m\u001b[1;33m\u001b[0m\u001b[0m\n\u001b[0;32m    338\u001b[0m     \u001b[0mmask\u001b[0m \u001b[1;33m=\u001b[0m \u001b[0mnp\u001b[0m\u001b[1;33m.\u001b[0m\u001b[0mempty\u001b[0m\u001b[1;33m(\u001b[0m\u001b[0maux\u001b[0m\u001b[1;33m.\u001b[0m\u001b[0mshape\u001b[0m\u001b[1;33m,\u001b[0m \u001b[0mdtype\u001b[0m\u001b[1;33m=\u001b[0m\u001b[0mnp\u001b[0m\u001b[1;33m.\u001b[0m\u001b[0mbool_\u001b[0m\u001b[1;33m)\u001b[0m\u001b[1;33m\u001b[0m\u001b[1;33m\u001b[0m\u001b[0m\n",
      "\u001b[1;31mTypeError\u001b[0m: '<' not supported between instances of 'float' and 'str'"
     ]
    }
   ],
   "source": [
    "functions.acc_rate_with_param_selection(df, class_feat, pos_class, cv = cv, param = 'W', W = None, budget = budget)"
   ]
  },
  {
   "cell_type": "markdown",
   "id": "c9bcb556",
   "metadata": {},
   "source": [
    "# Audiology (Standardized) Data Set"
   ]
  },
  {
   "cell_type": "code",
   "execution_count": 78,
   "id": "80d25b43",
   "metadata": {},
   "outputs": [],
   "source": [
    "df = data.load_audiology()"
   ]
  },
  {
   "cell_type": "code",
   "execution_count": 79,
   "id": "21b667dc",
   "metadata": {},
   "outputs": [],
   "source": [
    "class_feat = 'Class'\n",
    "pos_class = 'cochlear_poss_noise'\n",
    "name = 'audiology'"
   ]
  },
  {
   "cell_type": "code",
   "execution_count": 80,
   "id": "c180a656",
   "metadata": {},
   "outputs": [],
   "source": [
    "# Update the dictionary DFs\n",
    "\n",
    "DFs['dfs'] += [df]\n",
    "DFs['class_feats'] += [class_feat]\n",
    "DFs['pos_classes'] += [pos_class]\n",
    "DFs['names'] += [name]"
   ]
  },
  {
   "cell_type": "code",
   "execution_count": 9,
   "id": "1bf36d1f",
   "metadata": {},
   "outputs": [
    {
     "data": {
      "text/plain": [
       "{'acc_rate': 0.98326359832636,\n",
       " 'acc_standard': 0.9559999999999998,\n",
       " 'acc_improved': 0.9400000000000001}"
      ]
     },
     "execution_count": 9,
     "metadata": {},
     "output_type": "execute_result"
    }
   ],
   "source": [
    "functions.acc_rate_with_param_selection(df, class_feat, pos_class, cv = cv, param = 'W', W = None, budget = budget)"
   ]
  },
  {
   "cell_type": "markdown",
   "id": "30649b9e",
   "metadata": {},
   "source": [
    "# Autism Screening Dataset"
   ]
  },
  {
   "cell_type": "code",
   "execution_count": 81,
   "id": "b1fda5ac",
   "metadata": {},
   "outputs": [],
   "source": [
    "df = data.load_autism_screening()"
   ]
  },
  {
   "cell_type": "code",
   "execution_count": 82,
   "id": "e144966f",
   "metadata": {},
   "outputs": [],
   "source": [
    "class_feat = 'Class/ASD'\n",
    "pos_class = 'YES'\n",
    "name = 'autism'"
   ]
  },
  {
   "cell_type": "code",
   "execution_count": 83,
   "id": "09db6265",
   "metadata": {},
   "outputs": [],
   "source": [
    "# Update the dictionary DFs\n",
    "\n",
    "DFs['dfs'] += [df]\n",
    "DFs['class_feats'] += [class_feat]\n",
    "DFs['pos_classes'] += [pos_class]\n",
    "DFs['names'] += [name]"
   ]
  },
  {
   "cell_type": "code",
   "execution_count": 12,
   "id": "bf3c2c26",
   "metadata": {},
   "outputs": [
    {
     "data": {
      "text/plain": [
       "{'acc_rate': 1.0, 'acc_standard': 1.0, 'acc_improved': 1.0}"
      ]
     },
     "execution_count": 12,
     "metadata": {},
     "output_type": "execute_result"
    }
   ],
   "source": [
    "functions.acc_rate_with_param_selection(df, class_feat, pos_class, cv = cv, param = 'W', W = None, budget = budget)"
   ]
  },
  {
   "cell_type": "markdown",
   "id": "cd998e21",
   "metadata": {},
   "source": [
    "#  Adult Data Set "
   ]
  },
  {
   "cell_type": "code",
   "execution_count": 85,
   "id": "0ef69f96",
   "metadata": {},
   "outputs": [],
   "source": [
    "df = pd.read_csv('https://archive.ics.uci.edu/ml/machine-learning-databases/adult/adult.data')"
   ]
  },
  {
   "cell_type": "code",
   "execution_count": 86,
   "id": "23dd6136",
   "metadata": {},
   "outputs": [],
   "source": [
    "class_feat = ' <=50K'\n",
    "pos_class = ' <=50K'\n",
    "name = 'adult'"
   ]
  },
  {
   "cell_type": "code",
   "execution_count": 87,
   "id": "f61f9300",
   "metadata": {},
   "outputs": [],
   "source": [
    "# Update the dictionary DFs\n",
    "\n",
    "DFs['dfs'] += [df]\n",
    "DFs['class_feats'] += [class_feat]\n",
    "DFs['pos_classes'] += [pos_class]\n",
    "DFs['names'] += [name]"
   ]
  },
  {
   "cell_type": "code",
   "execution_count": 15,
   "id": "0d6838b3",
   "metadata": {},
   "outputs": [
    {
     "data": {
      "text/plain": [
       "{'acc_rate': 1.0662934894936271,\n",
       " 'acc_standard': 0.7132678132678133,\n",
       " 'acc_improved': 0.7605528255528256}"
      ]
     },
     "execution_count": 15,
     "metadata": {},
     "output_type": "execute_result"
    }
   ],
   "source": [
    "functions.acc_rate_with_param_selection(df, class_feat, pos_class, cv = cv, param = 'W', W = None, budget = budget)"
   ]
  },
  {
   "cell_type": "markdown",
   "id": "287797b7",
   "metadata": {},
   "source": [
    "#  Arrhythmia Data Set "
   ]
  },
  {
   "cell_type": "code",
   "execution_count": 88,
   "id": "c42e89ae",
   "metadata": {},
   "outputs": [],
   "source": [
    "df = data.load_arrhythmia()"
   ]
  },
  {
   "cell_type": "code",
   "execution_count": 89,
   "id": "cb3927a2",
   "metadata": {},
   "outputs": [],
   "source": [
    "class_feat = 'diagnosis'\n",
    "pos_class = 1\n",
    "name = 'arrhythmia'"
   ]
  },
  {
   "cell_type": "code",
   "execution_count": 90,
   "id": "2e78dc9f",
   "metadata": {},
   "outputs": [],
   "source": [
    "# Update the dictionary DFs\n",
    "\n",
    "DFs['dfs'] += [df]\n",
    "DFs['class_feats'] += [class_feat]\n",
    "DFs['pos_classes'] += [pos_class]\n",
    "DFs['names'] += [name]"
   ]
  },
  {
   "cell_type": "code",
   "execution_count": 18,
   "id": "6c4e1bbb",
   "metadata": {},
   "outputs": [
    {
     "data": {
      "text/plain": [
       "{'acc_rate': 1.0203045685279186,\n",
       " 'acc_standard': 0.5230088495575221,\n",
       " 'acc_improved': 0.5336283185840708}"
      ]
     },
     "execution_count": 18,
     "metadata": {},
     "output_type": "execute_result"
    }
   ],
   "source": [
    "functions.acc_rate_with_param_selection(df, class_feat, pos_class, cv = cv, param = 'W', W = None, budget = budget)"
   ]
  },
  {
   "cell_type": "markdown",
   "id": "2f3774dc",
   "metadata": {},
   "source": [
    "# Chess King-Rook vs King-Pawn"
   ]
  },
  {
   "cell_type": "code",
   "execution_count": 91,
   "id": "befb58f1",
   "metadata": {},
   "outputs": [],
   "source": [
    "df = pd.read_csv('https://archive.ics.uci.edu/ml/machine-learning-databases/chess/king-rook-vs-king-pawn/kr-vs-kp.data')"
   ]
  },
  {
   "cell_type": "code",
   "execution_count": 92,
   "id": "512f2d04",
   "metadata": {},
   "outputs": [],
   "source": [
    "class_feat = 'won'\n",
    "pos_class = 'won'\n",
    "name = 'chess king-rook vs king pawn'"
   ]
  },
  {
   "cell_type": "code",
   "execution_count": 93,
   "id": "48e7d905",
   "metadata": {},
   "outputs": [],
   "source": [
    "# Update the dictionary DFs\n",
    "\n",
    "DFs['dfs'] += [df]\n",
    "DFs['class_feats'] += [class_feat]\n",
    "DFs['pos_classes'] += [pos_class]\n",
    "DFs['names'] += [name]"
   ]
  },
  {
   "cell_type": "code",
   "execution_count": 22,
   "id": "6cf63385",
   "metadata": {},
   "outputs": [
    {
     "data": {
      "text/plain": [
       "{'acc_rate': 0.9951813340096374,\n",
       " 'acc_standard': 0.9869837296620776,\n",
       " 'acc_improved': 0.9822277847309137}"
      ]
     },
     "execution_count": 22,
     "metadata": {},
     "output_type": "execute_result"
    }
   ],
   "source": [
    "functions.acc_rate_with_param_selection(df, class_feat, pos_class, cv = cv, param = 'W', W = None, budget = budget)"
   ]
  },
  {
   "cell_type": "markdown",
   "id": "365d2a38",
   "metadata": {},
   "source": [
    "# Algerian Forest Fires Dataset"
   ]
  },
  {
   "cell_type": "code",
   "execution_count": 94,
   "id": "a33724e8",
   "metadata": {},
   "outputs": [],
   "source": [
    "df = pd.read_csv('https://archive.ics.uci.edu/ml/machine-learning-databases/00547/Algerian_forest_fires_dataset_UPDATE.csv',\n",
    "                skiprows = 1)"
   ]
  },
  {
   "cell_type": "code",
   "execution_count": 95,
   "id": "5ee6d17f",
   "metadata": {},
   "outputs": [],
   "source": [
    "class_feat = 'Classes  '\n",
    "pos_class = 1\n",
    "name = 'algerian forest fires'"
   ]
  },
  {
   "cell_type": "code",
   "execution_count": 96,
   "id": "a7af71dd",
   "metadata": {},
   "outputs": [],
   "source": [
    "# This dataset needs to be corrected in the class feature first\n",
    "\n",
    "df['Classes  '] = pd.Series(df['Classes  '], dtype = 'str').map(lambda x: 1 if x[0:4] == 'fire' else 0)"
   ]
  },
  {
   "cell_type": "code",
   "execution_count": 97,
   "id": "b56491db",
   "metadata": {},
   "outputs": [],
   "source": [
    "# Update the dictionary DFs\n",
    "\n",
    "DFs['dfs'] += [df]\n",
    "DFs['class_feats'] += [class_feat]\n",
    "DFs['pos_classes'] += [pos_class]\n",
    "DFs['names'] += [name]"
   ]
  },
  {
   "cell_type": "code",
   "execution_count": 271,
   "id": "1fc870bb",
   "metadata": {
    "scrolled": true
   },
   "outputs": [
    {
     "data": {
      "text/plain": [
       "{'acc_rate': 1.0120967741935485,\n",
       " 'acc_standard': 0.8,\n",
       " 'acc_improved': 0.8096774193548388}"
      ]
     },
     "execution_count": 271,
     "metadata": {},
     "output_type": "execute_result"
    }
   ],
   "source": [
    "functions.acc_rate_with_param_selection(df, class_feat, pos_class, cv = cv, param = 'W', W = None, budget = budget)"
   ]
  },
  {
   "cell_type": "markdown",
   "id": "76270218",
   "metadata": {},
   "source": [
    "# Cryotherapy Dataset"
   ]
  },
  {
   "cell_type": "code",
   "execution_count": 98,
   "id": "da8e57b5",
   "metadata": {},
   "outputs": [],
   "source": [
    "df = pd.read_excel('https://archive.ics.uci.edu/ml/machine-learning-databases/00429/Cryotherapy.xlsx')"
   ]
  },
  {
   "cell_type": "code",
   "execution_count": 99,
   "id": "96fbfc68",
   "metadata": {},
   "outputs": [],
   "source": [
    "class_feat = 'Result_of_Treatment'\n",
    "pos_class = 1\n",
    "name = 'cryotherapy'"
   ]
  },
  {
   "cell_type": "code",
   "execution_count": 100,
   "id": "2c89abea",
   "metadata": {},
   "outputs": [],
   "source": [
    "# Update the dictionary DFs\n",
    "\n",
    "DFs['dfs'] += [df]\n",
    "DFs['class_feats'] += [class_feat]\n",
    "DFs['names'] += [name]\n",
    "DFs['pos_classes'] += [pos_class]"
   ]
  },
  {
   "cell_type": "code",
   "execution_count": 297,
   "id": "6f0c3c81",
   "metadata": {},
   "outputs": [
    {
     "data": {
      "text/plain": [
       "{'acc_rate': 0.7870967741935482,\n",
       " 'acc_standard': 0.673913043478261,\n",
       " 'acc_improved': 0.5304347826086956}"
      ]
     },
     "execution_count": 297,
     "metadata": {},
     "output_type": "execute_result"
    }
   ],
   "source": [
    "functions.acc_rate_with_param_selection(df, class_feat, pos_class, cv = cv, param = 'W', W = None, budget = budget)"
   ]
  },
  {
   "cell_type": "markdown",
   "id": "d93bc3dc",
   "metadata": {},
   "source": [
    "# Early stage diabetes risk prediction dataset"
   ]
  },
  {
   "cell_type": "code",
   "execution_count": 101,
   "id": "4ecbbe10",
   "metadata": {},
   "outputs": [],
   "source": [
    "df = pd.read_csv('https://archive.ics.uci.edu/ml/machine-learning-databases/00529/diabetes_data_upload.csv')"
   ]
  },
  {
   "cell_type": "code",
   "execution_count": 102,
   "id": "663a8ce4",
   "metadata": {},
   "outputs": [],
   "source": [
    "class_feat = 'class'\n",
    "pos_class = 'Positive'\n",
    "name = 'diabetes'"
   ]
  },
  {
   "cell_type": "code",
   "execution_count": 103,
   "id": "f643c8b5",
   "metadata": {},
   "outputs": [],
   "source": [
    "# Update the dictionary DFs\n",
    "\n",
    "DFs['dfs'] += [df]\n",
    "DFs['class_feats'] += [class_feat]\n",
    "DFs['names'] += [name]\n",
    "DFs['pos_classes'] += [pos_class]"
   ]
  },
  {
   "cell_type": "code",
   "execution_count": 308,
   "id": "d56b8a31",
   "metadata": {},
   "outputs": [
    {
     "data": {
      "text/plain": [
       "{'acc_rate': 0.9831865492393916,\n",
       " 'acc_standard': 0.9607692307692307,\n",
       " 'acc_improved': 0.9446153846153846}"
      ]
     },
     "execution_count": 308,
     "metadata": {},
     "output_type": "execute_result"
    }
   ],
   "source": [
    "functions.acc_rate_with_param_selection(df, class_feat, pos_class, cv = cv, param = 'W', W = None, budget = budget)"
   ]
  },
  {
   "cell_type": "markdown",
   "id": "3517a2d0",
   "metadata": {},
   "source": [
    "# Heart failure clinical records dataset"
   ]
  },
  {
   "cell_type": "code",
   "execution_count": 104,
   "id": "734ddb49",
   "metadata": {},
   "outputs": [],
   "source": [
    "df = pd.read_csv('https://archive.ics.uci.edu/ml/machine-learning-databases/00519/heart_failure_clinical_records_dataset.csv')"
   ]
  },
  {
   "cell_type": "code",
   "execution_count": 105,
   "id": "a88fa6aa",
   "metadata": {},
   "outputs": [],
   "source": [
    "class_feat = 'DEATH_EVENT'\n",
    "pos_class = 1\n",
    "name = 'heart failure'"
   ]
  },
  {
   "cell_type": "code",
   "execution_count": 106,
   "id": "a1645100",
   "metadata": {},
   "outputs": [],
   "source": [
    "# Update the dictionary DFs\n",
    "\n",
    "DFs['dfs'] += [df]\n",
    "DFs['class_feats'] += [class_feat]\n",
    "DFs['pos_classes'] += [pos_class]\n",
    "DFs['names'] += [name]"
   ]
  },
  {
   "cell_type": "code",
   "execution_count": 325,
   "id": "45fbcdb7",
   "metadata": {},
   "outputs": [
    {
     "data": {
      "text/plain": [
       "{'acc_rate': 1.0117647058823531,\n",
       " 'acc_standard': 0.7933333333333333,\n",
       " 'acc_improved': 0.8026666666666668}"
      ]
     },
     "execution_count": 325,
     "metadata": {},
     "output_type": "execute_result"
    }
   ],
   "source": [
    "functions.acc_rate_with_param_selection(df, class_feat, pos_class, cv = cv, param = 'W', W = None, budget = budget)"
   ]
  },
  {
   "cell_type": "markdown",
   "id": "794d50cc",
   "metadata": {},
   "source": [
    "#  \tHigher Education Students Performance Evaluation Dataset"
   ]
  },
  {
   "cell_type": "code",
   "execution_count": 107,
   "id": "cadd955b",
   "metadata": {},
   "outputs": [],
   "source": [
    "df = pd.read_csv('https://archive.ics.uci.edu/ml/machine-learning-databases/00623/DATA.csv', sep = ';')"
   ]
  },
  {
   "cell_type": "code",
   "execution_count": 108,
   "id": "0af109ce",
   "metadata": {},
   "outputs": [],
   "source": [
    "class_feat = 'GRADE'\n",
    "pos_class = 1\n",
    "name = 'students performance'"
   ]
  },
  {
   "cell_type": "code",
   "execution_count": 109,
   "id": "924d837c",
   "metadata": {},
   "outputs": [],
   "source": [
    "# Update the dictionary DFs\n",
    "\n",
    "DFs['dfs'] += [df]\n",
    "DFs['class_feats'] += [class_feat]\n",
    "DFs['pos_classes'] += [pos_class]\n",
    "DFs['names'] += [name]"
   ]
  },
  {
   "cell_type": "code",
   "execution_count": 340,
   "id": "b8c20355",
   "metadata": {},
   "outputs": [
    {
     "data": {
      "text/plain": [
       "{'acc_rate': 0.8432835820895523,\n",
       " 'acc_standard': 0.7243243243243243,\n",
       " 'acc_improved': 0.6108108108108108}"
      ]
     },
     "execution_count": 340,
     "metadata": {},
     "output_type": "execute_result"
    }
   ],
   "source": [
    "functions.acc_rate_with_param_selection(df, class_feat, pos_class, cv = cv, param = 'W', W = None, budget = budget)"
   ]
  },
  {
   "cell_type": "markdown",
   "id": "6eaa6a01",
   "metadata": {},
   "source": [
    "# Immunotherapy dataset"
   ]
  },
  {
   "cell_type": "code",
   "execution_count": 110,
   "id": "4d025a1a",
   "metadata": {},
   "outputs": [],
   "source": [
    "df = pd.read_excel('https://archive.ics.uci.edu/ml/machine-learning-databases/00428/Immunotherapy.xlsx')"
   ]
  },
  {
   "cell_type": "code",
   "execution_count": 111,
   "id": "46feb46f",
   "metadata": {},
   "outputs": [],
   "source": [
    "class_feat = 'Result_of_Treatment'\n",
    "pos_class = 1\n",
    "name = 'immunotherapy'"
   ]
  },
  {
   "cell_type": "code",
   "execution_count": 112,
   "id": "ac797fd4",
   "metadata": {},
   "outputs": [],
   "source": [
    "# Update the dictionary DFs\n",
    "\n",
    "DFs['dfs'] += [df]\n",
    "DFs['class_feats'] += [class_feat]\n",
    "DFs['pos_classes'] += [pos_class]\n",
    "DFs['names'] += [name]"
   ]
  },
  {
   "cell_type": "code",
   "execution_count": 346,
   "id": "340feb33",
   "metadata": {},
   "outputs": [
    {
     "data": {
      "text/plain": [
       "{'acc_rate': 0.9115044247787613,\n",
       " 'acc_standard': 0.4913043478260869,\n",
       " 'acc_improved': 0.44782608695652176}"
      ]
     },
     "execution_count": 346,
     "metadata": {},
     "output_type": "execute_result"
    }
   ],
   "source": [
    "functions.acc_rate_with_param_selection(df, class_feat, pos_class, cv = cv, param = 'W', W = None, budget = budget)"
   ]
  },
  {
   "cell_type": "markdown",
   "id": "dd1fd285",
   "metadata": {},
   "source": [
    "# Internet Firewall Data Set"
   ]
  },
  {
   "cell_type": "code",
   "execution_count": 113,
   "id": "6c24c285",
   "metadata": {},
   "outputs": [],
   "source": [
    "df = pd.read_csv('https://archive.ics.uci.edu/ml/machine-learning-databases/00542/log2.csv')"
   ]
  },
  {
   "cell_type": "code",
   "execution_count": 114,
   "id": "ba504beb",
   "metadata": {},
   "outputs": [],
   "source": [
    "class_feat = 'Action'\n",
    "name = 'firewall'\n",
    "pos_class = 'allow'"
   ]
  },
  {
   "cell_type": "code",
   "execution_count": 115,
   "id": "8b3239e5",
   "metadata": {},
   "outputs": [],
   "source": [
    "# Update the dictionary DFs\n",
    "\n",
    "DFs['dfs'] += [df]\n",
    "DFs['class_feats'] += [class_feat]\n",
    "DFs['pos_classes'] += [pos_class]\n",
    "DFs['names'] += [name]"
   ]
  },
  {
   "cell_type": "code",
   "execution_count": 361,
   "id": "4b3bc228",
   "metadata": {},
   "outputs": [
    {
     "data": {
      "text/plain": [
       "{'acc_rate': 0.9809160305343512,\n",
       " 'acc_standard': 0.6238095238095237,\n",
       " 'acc_improved': 0.6119047619047618}"
      ]
     },
     "execution_count": 361,
     "metadata": {},
     "output_type": "execute_result"
    }
   ],
   "source": [
    "functions.acc_rate_with_param_selection(df, class_feat, pos_class, cv = cv, param = 'W', W = None, budget = budget)"
   ]
  },
  {
   "cell_type": "markdown",
   "id": "7c17c99e",
   "metadata": {},
   "source": [
    "# Las Vegas Strip Data Set"
   ]
  },
  {
   "cell_type": "code",
   "execution_count": 116,
   "id": "5c7b8e9b",
   "metadata": {},
   "outputs": [],
   "source": [
    "df = pd.read_csv('https://archive.ics.uci.edu/ml/machine-learning-databases/00397/LasVegasTripAdvisorReviews-Dataset.csv', sep = ';')"
   ]
  },
  {
   "cell_type": "code",
   "execution_count": 117,
   "id": "f262f43a",
   "metadata": {},
   "outputs": [],
   "source": [
    "class_feat = 'Score'\n",
    "pos_class = 5\n",
    "name = 'Las Vegas clubs'"
   ]
  },
  {
   "cell_type": "code",
   "execution_count": 118,
   "id": "b2380bce",
   "metadata": {},
   "outputs": [],
   "source": [
    "# Update the dictionary DFs\n",
    "\n",
    "DFs['dfs'] += [df]\n",
    "DFs['class_feats'] += [class_feat]\n",
    "DFs['pos_classes'] += [pos_class]\n",
    "DFs['names'] += [name]"
   ]
  },
  {
   "cell_type": "code",
   "execution_count": 359,
   "id": "f60ce7b2",
   "metadata": {},
   "outputs": [
    {
     "data": {
      "text/plain": [
       "{'acc_rate': 1.0090771558245082,\n",
       " 'acc_standard': 0.5246031746031746,\n",
       " 'acc_improved': 0.5293650793650794}"
      ]
     },
     "execution_count": 359,
     "metadata": {},
     "output_type": "execute_result"
    }
   ],
   "source": [
    "functions.acc_rate_with_param_selection(df, class_feat, pos_class, cv = cv, param = 'W', W = None, budget = budget)"
   ]
  },
  {
   "cell_type": "markdown",
   "id": "a5fee4b9",
   "metadata": {},
   "source": [
    "# XGBoost "
   ]
  },
  {
   "cell_type": "markdown",
   "id": "f133b6ca",
   "metadata": {},
   "source": [
    "To verify noise in the datasets we run the xgboost algorithm on each on them and sace the results."
   ]
  },
  {
   "cell_type": "code",
   "execution_count": 119,
   "id": "ce324eb4",
   "metadata": {},
   "outputs": [],
   "source": [
    "import xgboost as xgb\n",
    "from sklearn.model_selection import KFold"
   ]
  },
  {
   "cell_type": "markdown",
   "id": "43e3bb96",
   "metadata": {},
   "source": [
    "Set the parameters"
   ]
  },
  {
   "cell_type": "code",
   "execution_count": 120,
   "id": "56a80c81",
   "metadata": {},
   "outputs": [],
   "source": [
    "# Compute the accuracy of XGBoost on all datasets using 10-fold cross-validation\n",
    "\n",
    "accuracies_xgb = []\n",
    "\n",
    "for i in range(len(DFs['dfs'])):\n",
    "    df = DFs['dfs'][i]\n",
    "    class_feat = DFs['class_feats'][i]\n",
    "    pos_class = DFs['pos_classes'][i]\n",
    "    \n",
    "    y = df[class_feat]\n",
    "    y = y.map(lambda x: 1 if x==pos_class else 0)\n",
    "    X = df.loc[:,df.columns != class_feat]\n",
    "    X = pd.get_dummies(X, columns=X.select_dtypes('object').columns)\n",
    "    \n",
    "    model = xgb.XGBClassifier()\n",
    "    kfold = KFold(n_splits = 10)\n",
    "    \n",
    "    results = cross_val_score(model, X, y, cv=kfold)\n",
    "    accuracies_xgb += [np.mean(results)]\n",
    "    \n",
    "DFs['xgb_accuracy'] = accuracies_xgb"
   ]
  },
  {
   "cell_type": "code",
   "execution_count": 121,
   "id": "fbcc7708",
   "metadata": {},
   "outputs": [
    {
     "data": {
      "text/plain": [
       "[0.8971399193387374,\n",
       " 0.96,\n",
       " 1.0,\n",
       " 0.8716523341523341,\n",
       " 0.8296618357487923,\n",
       " 0.9689958855799373,\n",
       " 0.7925000000000001,\n",
       " 0.9222222222222223,\n",
       " 0.9653846153846153,\n",
       " 0.8165517241379311,\n",
       " 0.6385714285714286,\n",
       " 0.8111111111111111,\n",
       " 0.9997558393495891,\n",
       " 0.531529411764706]"
      ]
     },
     "execution_count": 121,
     "metadata": {},
     "output_type": "execute_result"
    }
   ],
   "source": [
    "accuracies_xgb"
   ]
  },
  {
   "cell_type": "markdown",
   "id": "829beec7",
   "metadata": {},
   "source": [
    "We can use the following chunk of code to run XGBoost on a single dataset "
   ]
  },
  {
   "cell_type": "code",
   "execution_count": 360,
   "id": "5bf7f8cd",
   "metadata": {},
   "outputs": [
    {
     "data": {
      "text/plain": [
       "0.531529411764706"
      ]
     },
     "execution_count": 360,
     "metadata": {},
     "output_type": "execute_result"
    }
   ],
   "source": [
    "y = df[class_feat]\n",
    "y = y.map(lambda x: 1 if x==pos_class else 0)\n",
    "X = df.loc[:,df.columns != class_feat]\n",
    "X = pd.get_dummies(X, columns=X.select_dtypes('object').columns)\n",
    "    \n",
    "model = xgb.XGBClassifier()\n",
    "kfold = KFold(n_splits = 10)\n",
    "    \n",
    "results = cross_val_score(model, X, y, cv=kfold)\n",
    "np.mean(results)"
   ]
  },
  {
   "cell_type": "markdown",
   "id": "bcf269b8",
   "metadata": {},
   "source": [
    "## Save the dictionary to csv"
   ]
  },
  {
   "cell_type": "code",
   "execution_count": 122,
   "id": "d82a59c0",
   "metadata": {},
   "outputs": [
    {
     "name": "stdout",
     "output_type": "stream",
     "text": [
      "dictionary saved successfully to file\n"
     ]
    }
   ],
   "source": [
    "with open('datasets_classlabels.pkl', 'wb') as fp:\n",
    "    pickle.dump(DFs, fp)\n",
    "    print('dictionary saved successfully to file')"
   ]
  },
  {
   "cell_type": "markdown",
   "id": "8f6003e5",
   "metadata": {},
   "source": [
    "The following chunk isn used to open the dictionary from the pkl file."
   ]
  },
  {
   "cell_type": "code",
   "execution_count": 123,
   "id": "094587b8",
   "metadata": {},
   "outputs": [],
   "source": [
    "with open('datasets_classlabels.pkl', 'rb') as fp:\n",
    "    DF = pickle.load(fp)"
   ]
  },
  {
   "cell_type": "code",
   "execution_count": null,
   "id": "3594466c",
   "metadata": {},
   "outputs": [],
   "source": []
  }
 ],
 "metadata": {
  "kernelspec": {
   "display_name": "Python 3",
   "language": "python",
   "name": "python3"
  },
  "language_info": {
   "codemirror_mode": {
    "name": "ipython",
    "version": 3
   },
   "file_extension": ".py",
   "mimetype": "text/x-python",
   "name": "python",
   "nbconvert_exporter": "python",
   "pygments_lexer": "ipython3",
   "version": "3.8.8"
  }
 },
 "nbformat": 4,
 "nbformat_minor": 5
}
