{
 "cells": [
  {
   "cell_type": "markdown",
   "id": "9a37fe5d",
   "metadata": {},
   "source": [
    "We will compare the performance of standard RIPPERk with enchanced RIPPERk. In the improved version we will first perform a hyperparameter selection step to choose the best value for W, then compare the two algorithms using the accuracy rate."
   ]
  },
  {
   "cell_type": "code",
   "execution_count": 1,
   "id": "75347b99",
   "metadata": {},
   "outputs": [],
   "source": [
    "import uci_dataset as data\n",
    "import random\n",
    "random.seed(10)\n",
    "n_rep = 10\n",
    "from sklearn.model_selection import train_test_split\n",
    "from sklearn.model_selection import StratifiedKFold\n",
    "from sklearn.model_selection import cross_val_score\n",
    "from sklearn.model_selection import cross_validate\n",
    "import math\n",
    "import numpy as np\n",
    "from scipy.stats import entropy\n",
    "from sklearn.metrics import f1_score, roc_auc_score, accuracy_score"
   ]
  },
  {
   "cell_type": "code",
   "execution_count": 2,
   "id": "3d1b3d34",
   "metadata": {},
   "outputs": [],
   "source": [
    "import functions\n",
    "import pandas as pd\n",
    "import pickle"
   ]
  },
  {
   "cell_type": "code",
   "execution_count": 3,
   "id": "77e976f1",
   "metadata": {},
   "outputs": [],
   "source": [
    "# Set values of the hyperparameters and define a dictionary with all the datasets and class features\n",
    "\n",
    "cv = 5\n",
    "budget = 12\n",
    "DFs = {'dfs': [], 'class_feats': [], 'pos_classes': [], 'xgb_accuracy': [], 'names': [], 'n_variables': [],\n",
    "      'max_n_categories': [], 'instances': [], 'entropy': [], 'score_rates': []}\n",
    "metrics = [f1_score, roc_auc_score, accuracy_score]"
   ]
  },
  {
   "cell_type": "markdown",
   "id": "b188893a",
   "metadata": {},
   "source": [
    "# Thyroid dataset"
   ]
  },
  {
   "cell_type": "code",
   "execution_count": 4,
   "id": "759acc7a",
   "metadata": {},
   "outputs": [],
   "source": [
    "df = data.load_thyroid_disease()"
   ]
  },
  {
   "cell_type": "code",
   "execution_count": 5,
   "id": "1c7270b0",
   "metadata": {},
   "outputs": [],
   "source": [
    "class_feat = 'sick-euthyroid'\n",
    "pos_class = 'sick-euthyroid'\n",
    "name = 'thyroid'"
   ]
  },
  {
   "cell_type": "code",
   "execution_count": 6,
   "id": "7e1d1f25",
   "metadata": {},
   "outputs": [],
   "source": [
    "# Compute entropy and maximum number of categories in each variable\n",
    "\n",
    "entropy = functions.normalized_entropy(df = df, class_feat = class_feat, pos_class = pos_class)\n",
    "max_n_categories = functions.max_n_categories(df)"
   ]
  },
  {
   "cell_type": "code",
   "execution_count": 7,
   "id": "2f9fc02e",
   "metadata": {},
   "outputs": [],
   "source": [
    "# Update the dictionary DFs\n",
    "\n",
    "DFs['dfs'] += [df]\n",
    "DFs['class_feats'] += [class_feat]\n",
    "DFs['pos_classes'] += [pos_class]\n",
    "DFs['names'] += [name]\n",
    "DFs['entropy'] += [entropy]\n",
    "DFs['n_variables'] += [len(df.columns)]\n",
    "DFs['instances'] += [len(df)]\n",
    "DFs['max_n_categories'] += [max_n_categories]"
   ]
  },
  {
   "cell_type": "code",
   "execution_count": 8,
   "id": "be44d59a",
   "metadata": {
    "scrolled": true
   },
   "outputs": [],
   "source": [
    "score = functions.acc_rate_with_param_selection(df, class_feat, pos_class, metrics = metrics)"
   ]
  },
  {
   "cell_type": "code",
   "execution_count": 9,
   "id": "3b332d5a",
   "metadata": {},
   "outputs": [],
   "source": [
    "DFs['score_rates'] += [score]"
   ]
  },
  {
   "cell_type": "markdown",
   "id": "c9bcb556",
   "metadata": {},
   "source": [
    "# Audiology (Standardized) Data Set"
   ]
  },
  {
   "cell_type": "code",
   "execution_count": 10,
   "id": "80d25b43",
   "metadata": {},
   "outputs": [],
   "source": [
    "df = data.load_audiology()"
   ]
  },
  {
   "cell_type": "code",
   "execution_count": 11,
   "id": "21b667dc",
   "metadata": {},
   "outputs": [],
   "source": [
    "class_feat = 'Class'\n",
    "pos_class = 'cochlear_poss_noise'\n",
    "name = 'audiology'"
   ]
  },
  {
   "cell_type": "code",
   "execution_count": 12,
   "id": "7e2683f6",
   "metadata": {},
   "outputs": [],
   "source": [
    "# Compute entropy and maximum number of categories in each variable\n",
    "\n",
    "entropy = functions.normalized_entropy(df = df, class_feat = class_feat, pos_class = pos_class)\n",
    "max_n_categories = functions.max_n_categories(df)"
   ]
  },
  {
   "cell_type": "code",
   "execution_count": 13,
   "id": "c180a656",
   "metadata": {},
   "outputs": [],
   "source": [
    "# Update the dictionary DFs\n",
    "\n",
    "DFs['dfs'] += [df]\n",
    "DFs['class_feats'] += [class_feat]\n",
    "DFs['pos_classes'] += [pos_class]\n",
    "DFs['names'] += [name]\n",
    "DFs['entropy'] += [entropy]\n",
    "DFs['n_variables'] += [len(df.columns)]\n",
    "DFs['instances'] += [len(df)]\n",
    "DFs['max_n_categories'] += [max_n_categories]"
   ]
  },
  {
   "cell_type": "code",
   "execution_count": 14,
   "id": "1bf36d1f",
   "metadata": {},
   "outputs": [
    {
     "name": "stdout",
     "output_type": "stream",
     "text": [
      "<function roc_auc_score at 0x000001886B1A13A0> not defined in this case.\n",
      "<function roc_auc_score at 0x000001886B1A13A0> not defined in this case.\n",
      "<function roc_auc_score at 0x000001886B1A13A0> not defined in this case.\n",
      "<function roc_auc_score at 0x000001886B1A13A0> not defined in this case.\n",
      "<function roc_auc_score at 0x000001886B1A13A0> not defined in this case.\n",
      "<function roc_auc_score at 0x000001886B1A13A0> not defined in this case.\n",
      "<function roc_auc_score at 0x000001886B1A13A0> not defined in this case.\n",
      "<function roc_auc_score at 0x000001886B1A13A0> not defined in this case.\n",
      "<function roc_auc_score at 0x000001886B1A13A0> not defined in this case.\n",
      "<function roc_auc_score at 0x000001886B1A13A0> not defined in this case.\n",
      "<function roc_auc_score at 0x000001886B1A13A0> not defined in this case.\n",
      "<function roc_auc_score at 0x000001886B1A13A0> not defined in this case.\n",
      "<function roc_auc_score at 0x000001886B1A13A0> not defined in this case.\n",
      "<function roc_auc_score at 0x000001886B1A13A0> not defined in this case.\n",
      "<function roc_auc_score at 0x000001886B1A13A0> not defined in this case.\n",
      "<function roc_auc_score at 0x000001886B1A13A0> not defined in this case.\n",
      "<function roc_auc_score at 0x000001886B1A13A0> not defined in this case.\n",
      "<function roc_auc_score at 0x000001886B1A13A0> not defined in this case.\n",
      "<function roc_auc_score at 0x000001886B1A13A0> not defined in this case.\n",
      "<function roc_auc_score at 0x000001886B1A13A0> not defined in this case.\n",
      "<function roc_auc_score at 0x000001886B1A13A0> not defined in this case.\n",
      "<function roc_auc_score at 0x000001886B1A13A0> not defined in this case.\n",
      "<function roc_auc_score at 0x000001886B1A13A0> not defined in this case.\n",
      "<function roc_auc_score at 0x000001886B1A13A0> not defined in this case.\n",
      "<function roc_auc_score at 0x000001886B1A13A0> not defined in this case.\n",
      "<function roc_auc_score at 0x000001886B1A13A0> not defined in this case.\n",
      "<function roc_auc_score at 0x000001886B1A13A0> not defined in this case.\n"
     ]
    }
   ],
   "source": [
    "score = functions.acc_rate_with_param_selection(df, class_feat, pos_class, metrics = metrics)\n",
    "DFs['score_rates'] += [score]"
   ]
  },
  {
   "cell_type": "markdown",
   "id": "30649b9e",
   "metadata": {},
   "source": [
    "# Autism Screening Dataset"
   ]
  },
  {
   "cell_type": "code",
   "execution_count": 15,
   "id": "b1fda5ac",
   "metadata": {},
   "outputs": [],
   "source": [
    "df = data.load_autism_screening()"
   ]
  },
  {
   "cell_type": "code",
   "execution_count": 16,
   "id": "e144966f",
   "metadata": {},
   "outputs": [],
   "source": [
    "class_feat = 'Class/ASD'\n",
    "pos_class = 'YES'\n",
    "name = 'autism'\n",
    "\n",
    "# Compute entropy and maximum number of categories in each variable\n",
    "\n",
    "entropy = functions.normalized_entropy(df = df, class_feat = class_feat, pos_class = pos_class)\n",
    "max_n_categories = functions.max_n_categories(df)"
   ]
  },
  {
   "cell_type": "code",
   "execution_count": 17,
   "id": "09db6265",
   "metadata": {},
   "outputs": [],
   "source": [
    "# Update the dictionary DFs\n",
    "\n",
    "DFs['dfs'] += [df]\n",
    "DFs['class_feats'] += [class_feat]\n",
    "DFs['pos_classes'] += [pos_class]\n",
    "DFs['names'] += [name]\n",
    "DFs['entropy'] += [entropy]\n",
    "DFs['n_variables'] += [len(df.columns)]\n",
    "DFs['instances'] += [len(df)]\n",
    "DFs['max_n_categories'] += [max_n_categories]"
   ]
  },
  {
   "cell_type": "code",
   "execution_count": 18,
   "id": "bf3c2c26",
   "metadata": {},
   "outputs": [],
   "source": [
    "score = functions.acc_rate_with_param_selection(df, class_feat, pos_class, metrics = metrics)\n",
    "DFs['score_rates'] += [score]"
   ]
  },
  {
   "cell_type": "markdown",
   "id": "cd998e21",
   "metadata": {},
   "source": [
    "#  Adult Data Set "
   ]
  },
  {
   "cell_type": "code",
   "execution_count": 19,
   "id": "0ef69f96",
   "metadata": {},
   "outputs": [],
   "source": [
    "df = pd.read_csv('https://archive.ics.uci.edu/ml/machine-learning-databases/adult/adult.data')"
   ]
  },
  {
   "cell_type": "code",
   "execution_count": 20,
   "id": "23dd6136",
   "metadata": {},
   "outputs": [],
   "source": [
    "class_feat = ' <=50K'\n",
    "pos_class = ' <=50K'\n",
    "name = 'adult'\n",
    "\n",
    "# Compute entropy and maximum number of categories in each variable\n",
    "\n",
    "entropy = functions.normalized_entropy(df = df, class_feat = class_feat, pos_class = pos_class)\n",
    "max_n_categories = functions.max_n_categories(df)"
   ]
  },
  {
   "cell_type": "code",
   "execution_count": 21,
   "id": "f61f9300",
   "metadata": {},
   "outputs": [],
   "source": [
    "# Update the dictionary DFs\n",
    "\n",
    "DFs['dfs'] += [df]\n",
    "DFs['class_feats'] += [class_feat]\n",
    "DFs['pos_classes'] += [pos_class]\n",
    "DFs['names'] += [name]\n",
    "DFs['entropy'] += [entropy]\n",
    "DFs['n_variables'] += [len(df.columns)]\n",
    "DFs['instances'] += [len(df)]\n",
    "DFs['max_n_categories'] += [max_n_categories]"
   ]
  },
  {
   "cell_type": "code",
   "execution_count": null,
   "id": "0d6838b3",
   "metadata": {},
   "outputs": [],
   "source": [
    "score = functions.acc_rate_with_param_selection(df, class_feat, pos_class, metrics = metrics)\n",
    "DFs['score_rates'] += [score]"
   ]
  },
  {
   "cell_type": "markdown",
   "id": "287797b7",
   "metadata": {},
   "source": [
    "#  Arrhythmia Data Set "
   ]
  },
  {
   "cell_type": "code",
   "execution_count": null,
   "id": "c42e89ae",
   "metadata": {},
   "outputs": [],
   "source": [
    "df = data.load_arrhythmia()"
   ]
  },
  {
   "cell_type": "code",
   "execution_count": null,
   "id": "cb3927a2",
   "metadata": {},
   "outputs": [],
   "source": [
    "class_feat = 'diagnosis'\n",
    "pos_class = 1\n",
    "name = 'arrhythmia'\n",
    "\n",
    "# Compute entropy and maximum number of categories in each variable\n",
    "\n",
    "entropy = functions.normalized_entropy(df = df, class_feat = class_feat, pos_class = pos_class)\n",
    "max_n_categories = functions.max_n_categories(df)"
   ]
  },
  {
   "cell_type": "code",
   "execution_count": null,
   "id": "2e78dc9f",
   "metadata": {},
   "outputs": [],
   "source": [
    "# Update the dictionary DFs\n",
    "\n",
    "DFs['dfs'] += [df]\n",
    "DFs['class_feats'] += [class_feat]\n",
    "DFs['pos_classes'] += [pos_class]\n",
    "DFs['names'] += [name]\n",
    "DFs['entropy'] += [entropy]\n",
    "DFs['n_variables'] += [len(df.columns)]\n",
    "DFs['instances'] += [len(df)]\n",
    "DFs['max_n_categories'] += [max_n_categories]"
   ]
  },
  {
   "cell_type": "code",
   "execution_count": null,
   "id": "6c4e1bbb",
   "metadata": {},
   "outputs": [],
   "source": [
    "score = functions.acc_rate_with_param_selection(df, class_feat, pos_class, metrics = metrics)\n",
    "DFs['score_rates'] += [score]"
   ]
  },
  {
   "cell_type": "markdown",
   "id": "2f3774dc",
   "metadata": {},
   "source": [
    "# Chess King-Rook vs King-Pawn"
   ]
  },
  {
   "cell_type": "code",
   "execution_count": null,
   "id": "befb58f1",
   "metadata": {},
   "outputs": [],
   "source": [
    "df = pd.read_csv('https://archive.ics.uci.edu/ml/machine-learning-databases/chess/king-rook-vs-king-pawn/kr-vs-kp.data')"
   ]
  },
  {
   "cell_type": "code",
   "execution_count": null,
   "id": "512f2d04",
   "metadata": {},
   "outputs": [],
   "source": [
    "class_feat = 'won'\n",
    "pos_class = 'won'\n",
    "name = 'chess king-rook vs king pawn'\n",
    "\n",
    "# Compute entropy and maximum number of categories in each variable\n",
    "\n",
    "entropy = functions.normalized_entropy(df = df, class_feat = class_feat, pos_class = pos_class)\n",
    "max_n_categories = functions.max_n_categories(df)"
   ]
  },
  {
   "cell_type": "code",
   "execution_count": null,
   "id": "48e7d905",
   "metadata": {},
   "outputs": [],
   "source": [
    "# Update the dictionary DFs\n",
    "\n",
    "DFs['dfs'] += [df]\n",
    "DFs['class_feats'] += [class_feat]\n",
    "DFs['pos_classes'] += [pos_class]\n",
    "DFs['names'] += [name]\n",
    "DFs['entropy'] += [entropy]\n",
    "DFs['n_variables'] += [len(df.columns)]\n",
    "DFs['instances'] += [len(df)]\n",
    "DFs['max_n_categories'] += [max_n_categories]"
   ]
  },
  {
   "cell_type": "code",
   "execution_count": null,
   "id": "6cf63385",
   "metadata": {},
   "outputs": [],
   "source": [
    "score = functions.acc_rate_with_param_selection(df, class_feat, pos_class, metrics = metrics)\n",
    "DFs['score_rates'] += [score]"
   ]
  },
  {
   "cell_type": "markdown",
   "id": "365d2a38",
   "metadata": {},
   "source": [
    "# Algerian Forest Fires Dataset"
   ]
  },
  {
   "cell_type": "code",
   "execution_count": null,
   "id": "a33724e8",
   "metadata": {},
   "outputs": [],
   "source": [
    "df = pd.read_csv('https://archive.ics.uci.edu/ml/machine-learning-databases/00547/Algerian_forest_fires_dataset_UPDATE.csv',\n",
    "                skiprows = 1)"
   ]
  },
  {
   "cell_type": "code",
   "execution_count": null,
   "id": "5ee6d17f",
   "metadata": {},
   "outputs": [],
   "source": [
    "class_feat = 'Classes  '\n",
    "pos_class = 1\n",
    "name = 'algerian forest fires'"
   ]
  },
  {
   "cell_type": "code",
   "execution_count": null,
   "id": "a7af71dd",
   "metadata": {},
   "outputs": [],
   "source": [
    "# This dataset needs to be corrected in the class feature first\n",
    "\n",
    "df['Classes  '] = pd.Series(df['Classes  '], dtype = 'str').map(lambda x: 1 if x[0:4] == 'fire' else 0)"
   ]
  },
  {
   "cell_type": "code",
   "execution_count": null,
   "id": "b56491db",
   "metadata": {},
   "outputs": [],
   "source": [
    "# Compute entropy and maximum number of categories in each variable\n",
    "\n",
    "entropy = functions.normalized_entropy(df = df, class_feat = class_feat, pos_class = pos_class)\n",
    "max_n_categories = functions.max_n_categories(df)\n",
    "\n",
    "# Update the dictionary DFs\n",
    "\n",
    "DFs['dfs'] += [df]\n",
    "DFs['class_feats'] += [class_feat]\n",
    "DFs['pos_classes'] += [pos_class]\n",
    "DFs['names'] += [name]\n",
    "DFs['entropy'] += [entropy]\n",
    "DFs['n_variables'] += [len(df.columns)]\n",
    "DFs['instances'] += [len(df)]\n",
    "DFs['max_n_categories'] += [max_n_categories]"
   ]
  },
  {
   "cell_type": "code",
   "execution_count": null,
   "id": "1fc870bb",
   "metadata": {
    "scrolled": true
   },
   "outputs": [],
   "source": [
    "score = functions.acc_rate_with_param_selection(df, class_feat, pos_class, metrics = metrics)\n",
    "DFs['score_rates'] += [score]"
   ]
  },
  {
   "cell_type": "markdown",
   "id": "76270218",
   "metadata": {},
   "source": [
    "# Cryotherapy Dataset"
   ]
  },
  {
   "cell_type": "code",
   "execution_count": null,
   "id": "da8e57b5",
   "metadata": {},
   "outputs": [],
   "source": [
    "df = pd.read_excel('https://archive.ics.uci.edu/ml/machine-learning-databases/00429/Cryotherapy.xlsx')"
   ]
  },
  {
   "cell_type": "code",
   "execution_count": null,
   "id": "96fbfc68",
   "metadata": {},
   "outputs": [],
   "source": [
    "class_feat = 'Result_of_Treatment'\n",
    "pos_class = 1\n",
    "name = 'cryotherapy'"
   ]
  },
  {
   "cell_type": "code",
   "execution_count": null,
   "id": "2c89abea",
   "metadata": {},
   "outputs": [],
   "source": [
    "# Compute entropy and maximum number of categories in each variable\n",
    "\n",
    "entropy = functions.normalized_entropy(df = df, class_feat = class_feat, pos_class = pos_class)\n",
    "max_n_categories = functions.max_n_categories(df)\n",
    "\n",
    "# Update the dictionary DFs\n",
    "\n",
    "DFs['dfs'] += [df]\n",
    "DFs['class_feats'] += [class_feat]\n",
    "DFs['pos_classes'] += [pos_class]\n",
    "DFs['names'] += [name]\n",
    "DFs['entropy'] += [entropy]\n",
    "DFs['n_variables'] += [len(df.columns)]\n",
    "DFs['instances'] += [len(df)]\n",
    "DFs['max_n_categories'] += [max_n_categories]"
   ]
  },
  {
   "cell_type": "code",
   "execution_count": null,
   "id": "6f0c3c81",
   "metadata": {},
   "outputs": [],
   "source": [
    "score = functions.acc_rate_with_param_selection(df, class_feat, pos_class, metrics = metrics)\n",
    "DFs['score_rates'] += [score]"
   ]
  },
  {
   "cell_type": "markdown",
   "id": "d93bc3dc",
   "metadata": {},
   "source": [
    "# Early stage diabetes risk prediction dataset"
   ]
  },
  {
   "cell_type": "code",
   "execution_count": null,
   "id": "4ecbbe10",
   "metadata": {},
   "outputs": [],
   "source": [
    "df = pd.read_csv('https://archive.ics.uci.edu/ml/machine-learning-databases/00529/diabetes_data_upload.csv')"
   ]
  },
  {
   "cell_type": "code",
   "execution_count": null,
   "id": "663a8ce4",
   "metadata": {},
   "outputs": [],
   "source": [
    "class_feat = 'class'\n",
    "pos_class = 'Positive'\n",
    "name = 'diabetes'"
   ]
  },
  {
   "cell_type": "code",
   "execution_count": null,
   "id": "f643c8b5",
   "metadata": {},
   "outputs": [],
   "source": [
    "# Compute entropy and maximum number of categories in each variable\n",
    "\n",
    "entropy = functions.normalized_entropy(df = df, class_feat = class_feat, pos_class = pos_class)\n",
    "max_n_categories = functions.max_n_categories(df)\n",
    "\n",
    "# Update the dictionary DFs\n",
    "\n",
    "DFs['dfs'] += [df]\n",
    "DFs['class_feats'] += [class_feat]\n",
    "DFs['pos_classes'] += [pos_class]\n",
    "DFs['names'] += [name]\n",
    "DFs['entropy'] += [entropy]\n",
    "DFs['n_variables'] += [len(df.columns)]\n",
    "DFs['instances'] += [len(df)]\n",
    "DFs['max_n_categories'] += [max_n_categories]"
   ]
  },
  {
   "cell_type": "code",
   "execution_count": null,
   "id": "d56b8a31",
   "metadata": {},
   "outputs": [],
   "source": [
    "score = functions.acc_rate_with_param_selection(df, class_feat, pos_class, metrics = metrics)\n",
    "DFs['score_rates'] += [score]"
   ]
  },
  {
   "cell_type": "markdown",
   "id": "3517a2d0",
   "metadata": {},
   "source": [
    "# Heart failure clinical records dataset"
   ]
  },
  {
   "cell_type": "code",
   "execution_count": null,
   "id": "734ddb49",
   "metadata": {},
   "outputs": [],
   "source": [
    "df = pd.read_csv('https://archive.ics.uci.edu/ml/machine-learning-databases/00519/heart_failure_clinical_records_dataset.csv')"
   ]
  },
  {
   "cell_type": "code",
   "execution_count": null,
   "id": "a88fa6aa",
   "metadata": {},
   "outputs": [],
   "source": [
    "class_feat = 'DEATH_EVENT'\n",
    "pos_class = 1\n",
    "name = 'heart failure'"
   ]
  },
  {
   "cell_type": "code",
   "execution_count": null,
   "id": "a1645100",
   "metadata": {},
   "outputs": [],
   "source": [
    "# Compute entropy and maximum number of categories in each variable\n",
    "\n",
    "entropy = functions.normalized_entropy(df = df, class_feat = class_feat, pos_class = pos_class)\n",
    "max_n_categories = functions.max_n_categories(df)\n",
    "\n",
    "# Update the dictionary DFs\n",
    "\n",
    "DFs['dfs'] += [df]\n",
    "DFs['class_feats'] += [class_feat]\n",
    "DFs['pos_classes'] += [pos_class]\n",
    "DFs['names'] += [name]\n",
    "DFs['entropy'] += [entropy]\n",
    "DFs['n_variables'] += [len(df.columns)]\n",
    "DFs['instances'] += [len(df)]\n",
    "DFs['max_n_categories'] += [max_n_categories]"
   ]
  },
  {
   "cell_type": "code",
   "execution_count": null,
   "id": "45fbcdb7",
   "metadata": {},
   "outputs": [],
   "source": [
    "score = functions.acc_rate_with_param_selection(df, class_feat, pos_class, metrics = metrics)\n",
    "DFs['score_rates'] += [score]"
   ]
  },
  {
   "cell_type": "markdown",
   "id": "794d50cc",
   "metadata": {},
   "source": [
    "#  \tHigher Education Students Performance Evaluation Dataset"
   ]
  },
  {
   "cell_type": "code",
   "execution_count": null,
   "id": "cadd955b",
   "metadata": {},
   "outputs": [],
   "source": [
    "df = pd.read_csv('https://archive.ics.uci.edu/ml/machine-learning-databases/00623/DATA.csv', sep = ';')"
   ]
  },
  {
   "cell_type": "code",
   "execution_count": null,
   "id": "0af109ce",
   "metadata": {},
   "outputs": [],
   "source": [
    "class_feat = 'GRADE'\n",
    "pos_class = 1\n",
    "name = 'students performance'"
   ]
  },
  {
   "cell_type": "code",
   "execution_count": null,
   "id": "924d837c",
   "metadata": {},
   "outputs": [],
   "source": [
    "# Compute entropy and maximum number of categories in each variable\n",
    "\n",
    "entropy = functions.normalized_entropy(df = df, class_feat = class_feat, pos_class = pos_class)\n",
    "max_n_categories = functions.max_n_categories(df)\n",
    "\n",
    "# Update the dictionary DFs\n",
    "\n",
    "DFs['dfs'] += [df]\n",
    "DFs['class_feats'] += [class_feat]\n",
    "DFs['pos_classes'] += [pos_class]\n",
    "DFs['names'] += [name]\n",
    "DFs['entropy'] += [entropy]\n",
    "DFs['n_variables'] += [len(df.columns)]\n",
    "DFs['instances'] += [len(df)]\n",
    "DFs['max_n_categories'] += [max_n_categories]"
   ]
  },
  {
   "cell_type": "code",
   "execution_count": null,
   "id": "b8c20355",
   "metadata": {},
   "outputs": [],
   "source": [
    "score = functions.acc_rate_with_param_selection(df, class_feat, pos_class, metrics = metrics)\n",
    "DFs['score_rates'] += [score]"
   ]
  },
  {
   "cell_type": "markdown",
   "id": "6eaa6a01",
   "metadata": {},
   "source": [
    "# Immunotherapy dataset"
   ]
  },
  {
   "cell_type": "code",
   "execution_count": null,
   "id": "4d025a1a",
   "metadata": {},
   "outputs": [],
   "source": [
    "df = pd.read_excel('https://archive.ics.uci.edu/ml/machine-learning-databases/00428/Immunotherapy.xlsx')"
   ]
  },
  {
   "cell_type": "code",
   "execution_count": null,
   "id": "46feb46f",
   "metadata": {},
   "outputs": [],
   "source": [
    "class_feat = 'Result_of_Treatment'\n",
    "pos_class = 1\n",
    "name = 'immunotherapy'"
   ]
  },
  {
   "cell_type": "code",
   "execution_count": null,
   "id": "ac797fd4",
   "metadata": {},
   "outputs": [],
   "source": [
    "# Compute entropy and maximum number of categories in each variable\n",
    "\n",
    "entropy = functions.normalized_entropy(df = df, class_feat = class_feat, pos_class = pos_class)\n",
    "max_n_categories = functions.max_n_categories(df)\n",
    "\n",
    "# Update the dictionary DFs\n",
    "\n",
    "DFs['dfs'] += [df]\n",
    "DFs['class_feats'] += [class_feat]\n",
    "DFs['pos_classes'] += [pos_class]\n",
    "DFs['names'] += [name]\n",
    "DFs['entropy'] += [entropy]\n",
    "DFs['n_variables'] += [len(df.columns)]\n",
    "DFs['instances'] += [len(df)]\n",
    "DFs['max_n_categories'] += [max_n_categories]"
   ]
  },
  {
   "cell_type": "code",
   "execution_count": null,
   "id": "340feb33",
   "metadata": {},
   "outputs": [],
   "source": [
    "score = functions.acc_rate_with_param_selection(df, class_feat, pos_class, metrics = metrics)\n",
    "DFs['score_rates'] += [score]"
   ]
  },
  {
   "cell_type": "markdown",
   "id": "dd1fd285",
   "metadata": {},
   "source": [
    "# Internet Firewall Data Set"
   ]
  },
  {
   "cell_type": "code",
   "execution_count": null,
   "id": "6c24c285",
   "metadata": {},
   "outputs": [],
   "source": [
    "df = pd.read_csv('https://archive.ics.uci.edu/ml/machine-learning-databases/00542/log2.csv')"
   ]
  },
  {
   "cell_type": "code",
   "execution_count": null,
   "id": "ba504beb",
   "metadata": {},
   "outputs": [],
   "source": [
    "class_feat = 'Action'\n",
    "name = 'firewall'\n",
    "pos_class = 'allow'"
   ]
  },
  {
   "cell_type": "code",
   "execution_count": null,
   "id": "8b3239e5",
   "metadata": {},
   "outputs": [],
   "source": [
    "# Compute entropy and maximum number of categories in each variable\n",
    "\n",
    "entropy = functions.normalized_entropy(df = df, class_feat = class_feat, pos_class = pos_class)\n",
    "max_n_categories = functions.max_n_categories(df)\n",
    "\n",
    "# Update the dictionary DFs\n",
    "\n",
    "DFs['dfs'] += [df]\n",
    "DFs['class_feats'] += [class_feat]\n",
    "DFs['pos_classes'] += [pos_class]\n",
    "DFs['names'] += [name]\n",
    "DFs['entropy'] += [entropy]\n",
    "DFs['n_variables'] += [len(df.columns)]\n",
    "DFs['instances'] += [len(df)]\n",
    "DFs['max_n_categories'] += [max_n_categories]"
   ]
  },
  {
   "cell_type": "code",
   "execution_count": null,
   "id": "4b3bc228",
   "metadata": {},
   "outputs": [],
   "source": [
    "score = functions.acc_rate_with_param_selection(df, class_feat, pos_class, metrics = metrics)\n",
    "DFs['score_rates'] += [score]"
   ]
  },
  {
   "cell_type": "markdown",
   "id": "7c17c99e",
   "metadata": {},
   "source": [
    "# Las Vegas Strip Data Set"
   ]
  },
  {
   "cell_type": "code",
   "execution_count": null,
   "id": "5c7b8e9b",
   "metadata": {},
   "outputs": [],
   "source": [
    "df = pd.read_csv('https://archive.ics.uci.edu/ml/machine-learning-databases/00397/LasVegasTripAdvisorReviews-Dataset.csv', sep = ';')"
   ]
  },
  {
   "cell_type": "code",
   "execution_count": null,
   "id": "f262f43a",
   "metadata": {},
   "outputs": [],
   "source": [
    "class_feat = 'Score'\n",
    "pos_class = 5\n",
    "name = 'Las Vegas clubs'"
   ]
  },
  {
   "cell_type": "code",
   "execution_count": null,
   "id": "b2380bce",
   "metadata": {},
   "outputs": [],
   "source": [
    "# Compute entropy and maximum number of categories in each variable\n",
    "\n",
    "entropy = functions.normalized_entropy(df = df, class_feat = class_feat, pos_class = pos_class)\n",
    "max_n_categories = functions.max_n_categories(df)\n",
    "\n",
    "# Update the dictionary DFs\n",
    "\n",
    "DFs['dfs'] += [df]\n",
    "DFs['class_feats'] += [class_feat]\n",
    "DFs['pos_classes'] += [pos_class]\n",
    "DFs['names'] += [name]\n",
    "DFs['entropy'] += [entropy]\n",
    "DFs['n_variables'] += [len(df.columns)]\n",
    "DFs['instances'] += [len(df)]\n",
    "DFs['max_n_categories'] += [max_n_categories]"
   ]
  },
  {
   "cell_type": "code",
   "execution_count": null,
   "id": "f60ce7b2",
   "metadata": {},
   "outputs": [],
   "source": [
    "score = functions.acc_rate_with_param_selection(df, class_feat, pos_class, metrics = metrics)\n",
    "DFs['score_rates'] += [score]"
   ]
  },
  {
   "cell_type": "markdown",
   "id": "a5fee4b9",
   "metadata": {},
   "source": [
    "# XGBoost "
   ]
  },
  {
   "cell_type": "markdown",
   "id": "f133b6ca",
   "metadata": {},
   "source": [
    "To verify noise in the datasets we run the xgboost algorithm on each on them and sace the results."
   ]
  },
  {
   "cell_type": "code",
   "execution_count": null,
   "id": "ce324eb4",
   "metadata": {},
   "outputs": [],
   "source": [
    "import xgboost as xgb\n",
    "from sklearn.model_selection import KFold"
   ]
  },
  {
   "cell_type": "markdown",
   "id": "43e3bb96",
   "metadata": {},
   "source": [
    "Set the parameters"
   ]
  },
  {
   "cell_type": "code",
   "execution_count": null,
   "id": "56a80c81",
   "metadata": {},
   "outputs": [],
   "source": [
    "# Compute the accuracy of XGBoost on all datasets using 10-fold cross-validation\n",
    "\n",
    "accuracies_xgb = []\n",
    "\n",
    "for i in range(len(DFs['dfs'])):\n",
    "    df = DFs['dfs'][i]\n",
    "    class_feat = DFs['class_feats'][i]\n",
    "    pos_class = DFs['pos_classes'][i]\n",
    "    \n",
    "    y = df[class_feat]\n",
    "    y = y.map(lambda x: 1 if x==pos_class else 0)\n",
    "    X = df.loc[:,df.columns != class_feat]\n",
    "    X = pd.get_dummies(X, columns=X.select_dtypes('object').columns)\n",
    "    \n",
    "    model = xgb.XGBClassifier()\n",
    "    kfold = KFold(n_splits = 10)\n",
    "    \n",
    "    results = cross_val_score(model, X, y, cv=kfold)\n",
    "    accuracies_xgb += [np.mean(results)]\n",
    "    \n",
    "DFs['xgb_accuracy'] = accuracies_xgb"
   ]
  },
  {
   "cell_type": "code",
   "execution_count": null,
   "id": "fbcc7708",
   "metadata": {},
   "outputs": [],
   "source": [
    "accuracies_xgb"
   ]
  },
  {
   "cell_type": "markdown",
   "id": "829beec7",
   "metadata": {},
   "source": [
    "We can use the following chunk of code to run XGBoost on a single dataset "
   ]
  },
  {
   "cell_type": "code",
   "execution_count": 360,
   "id": "5bf7f8cd",
   "metadata": {},
   "outputs": [
    {
     "data": {
      "text/plain": [
       "0.531529411764706"
      ]
     },
     "execution_count": 360,
     "metadata": {},
     "output_type": "execute_result"
    }
   ],
   "source": [
    "y = df[class_feat]\n",
    "y = y.map(lambda x: 1 if x==pos_class else 0)\n",
    "X = df.loc[:,df.columns != class_feat]\n",
    "X = pd.get_dummies(X, columns=X.select_dtypes('object').columns)\n",
    "    \n",
    "model = xgb.XGBClassifier()\n",
    "kfold = KFold(n_splits = 10)\n",
    "    \n",
    "results = cross_val_score(model, X, y, cv=kfold)\n",
    "np.mean(results)"
   ]
  },
  {
   "cell_type": "markdown",
   "id": "bcf269b8",
   "metadata": {},
   "source": [
    "## Save the dictionary to csv"
   ]
  },
  {
   "cell_type": "code",
   "execution_count": null,
   "id": "d82a59c0",
   "metadata": {},
   "outputs": [],
   "source": [
    "with open('datasets_classlabels.pkl', 'wb') as fp:\n",
    "    pickle.dump(DFs, fp)\n",
    "    print('dictionary saved successfully to file')"
   ]
  },
  {
   "cell_type": "markdown",
   "id": "8f6003e5",
   "metadata": {},
   "source": [
    "The following chunk isn used to open the dictionary from the pkl file."
   ]
  },
  {
   "cell_type": "code",
   "execution_count": 123,
   "id": "094587b8",
   "metadata": {},
   "outputs": [],
   "source": [
    "with open('datasets_classlabels.pkl', 'rb') as fp:\n",
    "    DF = pickle.load(fp)"
   ]
  },
  {
   "cell_type": "code",
   "execution_count": 6,
   "id": "3594466c",
   "metadata": {},
   "outputs": [],
   "source": [
    "with open('test_w_sample_size', 'rb') as fp:\n",
    "    results = pickle.load(fp)"
   ]
  }
 ],
 "metadata": {
  "kernelspec": {
   "display_name": "Python 3",
   "language": "python",
   "name": "python3"
  },
  "language_info": {
   "codemirror_mode": {
    "name": "ipython",
    "version": 3
   },
   "file_extension": ".py",
   "mimetype": "text/x-python",
   "name": "python",
   "nbconvert_exporter": "python",
   "pygments_lexer": "ipython3",
   "version": "3.8.8"
  }
 },
 "nbformat": 4,
 "nbformat_minor": 5
}
