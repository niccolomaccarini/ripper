{
 "cells": [
  {
   "cell_type": "markdown",
   "id": "a88d5a78",
   "metadata": {},
   "source": [
    "We will compare the performance of standard RIPPERk with enchanced RIPPERk. In the improved version we will first perform a hyperparameter selection step to choose the best value for W, then compare the two algorithms using the accuracy rate."
   ]
  },
  {
   "cell_type": "code",
   "execution_count": 1,
   "id": "1bebf10d",
   "metadata": {},
   "outputs": [],
   "source": [
    "import uci_dataset as data\n",
    "import random\n",
    "random.seed(10)\n",
    "n_rep = 10\n",
    "from sklearn.model_selection import train_test_split"
   ]
  },
  {
   "cell_type": "code",
   "execution_count": 2,
   "id": "70e5a3d5",
   "metadata": {},
   "outputs": [],
   "source": [
    "import functions\n",
    "import pandas as pd"
   ]
  },
  {
   "cell_type": "code",
   "execution_count": 3,
   "id": "de95c547",
   "metadata": {},
   "outputs": [],
   "source": [
    "# Set values of the hyperparameters\n",
    "\n",
    "cv = 5\n",
    "budget = 12"
   ]
  },
  {
   "cell_type": "markdown",
   "id": "d91f62c1",
   "metadata": {},
   "source": [
    "# Thyroid dataset"
   ]
  },
  {
   "cell_type": "code",
   "execution_count": 4,
   "id": "100f4933",
   "metadata": {},
   "outputs": [],
   "source": [
    "df = data.load_thyroid_disease()"
   ]
  },
  {
   "cell_type": "code",
   "execution_count": 5,
   "id": "4c5400d5",
   "metadata": {},
   "outputs": [],
   "source": [
    "class_feat = 'sick-euthyroid'\n",
    "pos_class = 'sick-euthyroid'"
   ]
  },
  {
   "cell_type": "code",
   "execution_count": null,
   "id": "64ccf2c0",
   "metadata": {
    "scrolled": true
   },
   "outputs": [],
   "source": [
    "functions.acc_rate_with_param_selection(df, class_feat, pos_class, cv = cv, param = 'W', W = None, budget = budget)"
   ]
  },
  {
   "cell_type": "markdown",
   "id": "5f3590bc",
   "metadata": {},
   "source": [
    "# Audiology (Standardized) Data Set"
   ]
  },
  {
   "cell_type": "code",
   "execution_count": null,
   "id": "2cc625a5",
   "metadata": {},
   "outputs": [],
   "source": [
    "df = data.load_audiology()"
   ]
  },
  {
   "cell_type": "code",
   "execution_count": null,
   "id": "1181de7b",
   "metadata": {},
   "outputs": [],
   "source": [
    "class_feat = 'Class'\n",
    "pos_class = 'cochlear_poss_noise'"
   ]
  },
  {
   "cell_type": "code",
   "execution_count": null,
   "id": "cb92a880",
   "metadata": {},
   "outputs": [],
   "source": [
    "functions.acc_rate_with_param_selection(df, class_feat, pos_class, cv = cv, param = 'W', W = None, budget = budget)"
   ]
  },
  {
   "cell_type": "markdown",
   "id": "1640845f",
   "metadata": {},
   "source": [
    "# Autism Screening Dataset"
   ]
  },
  {
   "cell_type": "code",
   "execution_count": null,
   "id": "39ec4b12",
   "metadata": {},
   "outputs": [],
   "source": [
    "df = data.load_autism_screening()"
   ]
  },
  {
   "cell_type": "code",
   "execution_count": null,
   "id": "9d6e4ab4",
   "metadata": {},
   "outputs": [],
   "source": [
    "class_feat = 'Class/ASD'\n",
    "pos_class = 'YES'"
   ]
  },
  {
   "cell_type": "code",
   "execution_count": null,
   "id": "7409fec8",
   "metadata": {},
   "outputs": [],
   "source": [
    "functions.acc_rate_with_param_selection(df, class_feat, pos_class, cv = cv, param = 'W', W = None, budget = budget)"
   ]
  },
  {
   "cell_type": "markdown",
   "id": "4164e244",
   "metadata": {},
   "source": [
    "#  Adult Data Set "
   ]
  },
  {
   "cell_type": "code",
   "execution_count": null,
   "id": "71b785f0",
   "metadata": {},
   "outputs": [],
   "source": [
    "df = pd.read_csv('https://archive.ics.uci.edu/ml/machine-learning-databases/adult/adult.data')"
   ]
  },
  {
   "cell_type": "code",
   "execution_count": null,
   "id": "54588063",
   "metadata": {},
   "outputs": [],
   "source": [
    "class_feat = ' <=50K'\n",
    "pos_class = ' <=50K'"
   ]
  },
  {
   "cell_type": "code",
   "execution_count": null,
   "id": "f5ed0aac",
   "metadata": {},
   "outputs": [],
   "source": [
    "functions.acc_rate_with_param_selection(df, class_feat, pos_class, cv = cv, param = 'W', W = None, budget = budget)"
   ]
  },
  {
   "cell_type": "markdown",
   "id": "f1aa2c3f",
   "metadata": {},
   "source": [
    "#  Arrhythmia Data Set "
   ]
  },
  {
   "cell_type": "code",
   "execution_count": null,
   "id": "6ca677d0",
   "metadata": {},
   "outputs": [],
   "source": [
    "df = data.load_arrhythmia()"
   ]
  },
  {
   "cell_type": "code",
   "execution_count": null,
   "id": "e9717096",
   "metadata": {},
   "outputs": [],
   "source": [
    "class_feat = 'diagnosis'\n",
    "pos_class = 1"
   ]
  },
  {
   "cell_type": "code",
   "execution_count": null,
   "id": "db82e50d",
   "metadata": {},
   "outputs": [],
   "source": [
    "functions.acc_rate_with_param_selection(df, class_feat, pos_class, cv = cv, param = 'W', W = None, budget = budget)"
   ]
  },
  {
   "cell_type": "code",
   "execution_count": null,
   "id": "2ac71a9b",
   "metadata": {},
   "outputs": [],
   "source": []
  },
  {
   "cell_type": "code",
   "execution_count": null,
   "id": "ccf3c84b",
   "metadata": {},
   "outputs": [],
   "source": []
  },
  {
   "cell_type": "code",
   "execution_count": null,
   "id": "5c2a2128",
   "metadata": {},
   "outputs": [],
   "source": []
  },
  {
   "cell_type": "code",
   "execution_count": null,
   "id": "dd59ba15",
   "metadata": {},
   "outputs": [],
   "source": []
  }
 ],
 "metadata": {
  "kernelspec": {
   "display_name": "Python 3",
   "language": "python",
   "name": "python3"
  },
  "language_info": {
   "codemirror_mode": {
    "name": "ipython",
    "version": 3
   },
   "file_extension": ".py",
   "mimetype": "text/x-python",
   "name": "python",
   "nbconvert_exporter": "python",
   "pygments_lexer": "ipython3",
   "version": "3.8.8"
  }
 },
 "nbformat": 4,
 "nbformat_minor": 5
}
